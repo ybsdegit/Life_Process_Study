{
 "cells": [
  {
   "cell_type": "code",
   "execution_count": 23,
   "metadata": {
    "collapsed": true
   },
   "outputs": [
    {
     "data": {
      "text/plain": [
       "6.3"
      ]
     },
     "execution_count": 23,
     "metadata": {},
     "output_type": "execute_result"
    }
   ],
   "source": [
    "# 3.1 数字的四舍五入\n",
    "'''\n",
    "问题\n",
    "你想对浮点数执行指定精度的舍入运算。\n",
    "解决方案\n",
    "对于简单的舍入运算，使用内置的 round(value, ndigits) 函数即可。比如：\n",
    "'''\n",
    "round(1.232342,2)\n",
    "round(1.5100001,0)\n",
    "\n",
    "# 当一个值刚好在两个边界的中间的时候，round 函数返回离它最近的偶数。也就是\n",
    "# 说，对 1.5 或者 2.5 的舍入运算都会得到 2。\n",
    "round(1.5,0)\n",
    "round(2.5,0)\n",
    "\n",
    "# 传给 round() 函数的 ndigits 参数可以是负数，这种情况下，舍入运算会作用在\n",
    "# 十位、百位、千位等上面。比如：\n",
    "\n",
    "a = 1627731\n",
    "round(a,-1)\n",
    "round(a,-2)\n",
    "round(a,-3)\n",
    "\n",
    "\n",
    "# 同样，不要试着去舍入浮点值来”修正”表面上看起来正确的问题。比如，你可能\n",
    "# 倾向于这样做：\n",
    "a = 2.1\n",
    "b = 4.2\n",
    "c =a+b\n",
    "c\n",
    "c = round(c,2)\n",
    "c\n",
    "\n",
    "# 对于大多数使用到浮点的程序，没有必要也不推荐这样做。尽管在计算的时候会有\n",
    "# 一点点小的误差，但是这些小的误差是能被理解与容忍的。如果不能允许这样的小误差\n",
    "# (比如涉及到金融领域)，那么就得考虑使用 decimal 模块了，下一节我们会详细讨论。"
   ]
  },
  {
   "cell_type": "code",
   "execution_count": 29,
   "metadata": {},
   "outputs": [
    {
     "name": "stdout",
     "output_type": "stream",
     "text": [
      "6.3\n0.7647058823529411764705882353\n0.765\n0.76470588235294117647058823529411764705882352941176\n"
     ]
    }
   ],
   "source": [
    "# 3.2 执行精确的浮点数运算\n",
    "'''\n",
    "问题\n",
    "你需要对浮点数执行精确的计算操作，并且不希望有任何小误差的出现。\n",
    "解决方案\n",
    "浮点数的一个普遍问题是它们并不能精确的表示十进制数。并且，即使是最简单的\n",
    "数学运算也会产生小的误差，\n",
    "如果你想更加精确 (并能容忍一定的性能损耗)，你可以使用 decimal 模块\n",
    "'''\n",
    "\n",
    "from decimal import Decimal\n",
    "a = Decimal('4.2')\n",
    "b = Decimal('2.1')\n",
    "a + b \n",
    "print(a+b )\n",
    "\n",
    "\n",
    "# decimal 模块的一个主要特征是允许你控制计算的每一方面，包括数字位数和四\n",
    "# 舍五入运算。为了这样做，你先得创建一个本地上下文并更改它的设置，比如：\n",
    "\n",
    "from decimal import localcontext\n",
    "a = Decimal('1.3')\n",
    "b = Decimal('1.7')\n",
    "print(a/b)\n",
    "\n",
    "with localcontext() as ctx:\n",
    "    ctx.prec = 3\n",
    "    print(a/b)\n",
    "    \n",
    "with localcontext() as ctx:\n",
    "    ctx.prec =50\n",
    "    print(a/b)"
   ]
  },
  {
   "cell_type": "code",
   "execution_count": 32,
   "metadata": {},
   "outputs": [
    {
     "data": {
      "text/plain": [
       "'\\n讨论\\n数字格式化输出通常是比较简单的。上面演示的技术同时适用于浮点数和 decimal\\n模块中的 Decimal 数字对象。\\n当指定数字的位数后，结果值会根据 round() 函数同样的规则进行四舍五入后返\\n回。'"
      ]
     },
     "execution_count": 32,
     "metadata": {},
     "output_type": "execute_result"
    }
   ],
   "source": [
    "# 3.3 数字的格式化输出\n",
    "'''\n",
    "问题\n",
    "你需要将数字格式化后输出，并控制数字的位数、对齐、千位分隔符和其他的细节。\n",
    "解决方案\n",
    "格式化输出单个数字的时候，可以使用内置的 format() 函数\n",
    "'''\n",
    "x = 1234.56789\n",
    "\n",
    "# Two decimal places of accuracy\n",
    "format(x,'0.2f')\n",
    "\n",
    "format(x,',')\n",
    "'''\n",
    "讨论\n",
    "数字格式化输出通常是比较简单的。上面演示的技术同时适用于浮点数和 decimal\n",
    "模块中的 Decimal 数字对象。\n",
    "当指定数字的位数后，结果值会根据 round() 函数同样的规则进行四舍五入后返\n",
    "回。'''"
   ]
  },
  {
   "cell_type": "code",
   "execution_count": 39,
   "metadata": {},
   "outputs": [
    {
     "data": {
      "text/plain": [
       "'4d2'"
      ]
     },
     "execution_count": 39,
     "metadata": {},
     "output_type": "execute_result"
    }
   ],
   "source": [
    "# 3.4 二八十六进制整数\n",
    "'''\n",
    "问题\n",
    "你需要转换或者输出使用二进制，八进制或十六进制表示的整数。\n",
    "解决方案\n",
    "\n",
    "为了将整数转换为二进制、八进制或十六进制的文本串，可以分别使用 bin() ,\n",
    "oct() 或 hex() 函数：\n",
    "'''\n",
    "x =1234\n",
    "bin(x)\n",
    "oct(x)\n",
    "hex(x)\n",
    "\n",
    "# 另外，如果你不想输出 0b , 0o 或者 0x 的前缀的话，可以使用 format() 函数。比\n",
    "# 如：\n",
    "format(x,'b')  # 二进制\n",
    "format(x,'o')  # 八进制\n",
    "format(x,'x')  # 十六进制"
   ]
  }
 ],
 "metadata": {
  "kernelspec": {
   "display_name": "Python 2",
   "language": "python",
   "name": "python2"
  },
  "language_info": {
   "codemirror_mode": {
    "name": "ipython",
    "version": 2
   },
   "file_extension": ".py",
   "mimetype": "text/x-python",
   "name": "python",
   "nbconvert_exporter": "python",
   "pygments_lexer": "ipython2",
   "version": "2.7.6"
  }
 },
 "nbformat": 4,
 "nbformat_minor": 0
}
