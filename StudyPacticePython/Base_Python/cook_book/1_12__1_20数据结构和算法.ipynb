{
 "cells": [
  {
   "cell_type": "code",
   "execution_count": null,
   "metadata": {
    "collapsed": false
   },
   "outputs": [],
   "source": [
    "\n",
    "# 1.12 序列中出现次数最多的元素\n",
    "'''\n",
    "问题\n",
    "怎样找出一个序列中出现次数最多的元素呢？\n",
    "解决方案\n",
    "collections.Counter 类就是专门为这类问题而设计的，它甚至有一个有用的\n",
    "most_common() 方法直接给了你答案。\n",
    "\n",
    "'''\n",
    "words = [\n",
    "'look', 'into', 'my', 'eyes', 'look', 'into', 'my', 'eyes',\n",
    "'the', 'eyes', 'the', 'eyes', 'the', 'eyes', 'not', 'around', 'the',\n",
    "'eyes', \"don't\", 'look', 'around', 'the', 'eyes', 'look', 'into',\n",
    "'my', 'eyes', \"you're\", 'under'\n",
    "]\n",
    "\n",
    "from collections import Counter\n",
    "word_counts = Counter(words)\n",
    "# 出现频率最高的3个单词\n",
    "top_three = word_counts.most_common(3)\n",
    "print(top_three)\n",
    "# [('eyes', 8), ('the', 5), ('look', 4)]\n",
    "\n",
    "\n",
    "# 作为输入，Counter 对象可以接受任意的由可哈希（hashable）元素构成的序列对象。\n",
    "# 在底层实现上，一个 Counter 对象就是一个字典，将元素映射到它出现的次数上。\n",
    "# 比如：\n",
    "\n",
    "word_counts['not']\n",
    "word_counts['eyes']\n",
    "\n",
    "\n",
    "morewords = ['why','are','you','not','looking','in','my','eyes']\n",
    "a = Counter(words)\n",
    "b = Counter(morewords)\n",
    "a\n",
    "b\n",
    "c = a + b \n",
    "c\n"
   ]
  },
  {
   "cell_type": "code",
   "execution_count": 17,
   "metadata": {
    "collapsed": true
   },
   "outputs": [
    {
     "name": "stdout",
     "output_type": "stream",
     "text": [
      "[{'fname': 'Big', 'lname': 'Jones', 'uid': 1004}, {'fname': 'Brian', 'lname': 'Jones', 'uid': 1003}, {'fname': 'David', 'lname': 'Beazley', 'uid': 1002}, {'fname': 'John', 'lname': 'Cleese', 'uid': 1001}]\n[{'fname': 'John', 'lname': 'Cleese', 'uid': 1001}, {'fname': 'David', 'lname': 'Beazley', 'uid': 1002}, {'fname': 'Brian', 'lname': 'Jones', 'uid': 1003}, {'fname': 'Big', 'lname': 'Jones', 'uid': 1004}]\n"
     ]
    }
   ],
   "source": [
    "# 1.13 通过某个关键字排序一个字典列表\n",
    "\n",
    "'''\n",
    "问题\n",
    "你有一个字典列表，你想根据某个或某几个字典字段来排序这个列表。\n",
    "解决方案\n",
    "通过使用 operator 模块的 itemgetter 函数，可以非常容易的排序这样的数据结\n",
    "构。假设你从数据库中检索出来网站会员信息列表，并且以下列的数据结构返回\n",
    "'''\n",
    "\n",
    "rows = [\n",
    "{'fname': 'Brian', 'lname': 'Jones', 'uid': 1003},\n",
    "{'fname': 'David', 'lname': 'Beazley', 'uid': 1002},\n",
    "{'fname': 'John', 'lname': 'Cleese', 'uid': 1001},\n",
    "{'fname': 'Big', 'lname': 'Jones', 'uid': 1004}\n",
    "]\n",
    "\n",
    "from operator import itemgetter\n",
    "rows_by_fname = sorted(rows,key=itemgetter('fname'))\n",
    "rows_by_uid = sorted(rows,key=itemgetter('uid'))\n",
    "print(rows_by_fname)\n",
    "print(rows_by_uid)"
   ]
  },
  {
   "cell_type": "code",
   "execution_count": 28,
   "metadata": {},
   "outputs": [
    {
     "name": "stdout",
     "output_type": "stream",
     "text": [
      "[User(23), User(3), User(99)]\n[User(3), User(23), User(99)]\n"
     ]
    }
   ],
   "source": [
    "# 1.14 排序不支持原生比较的\n",
    "'''\n",
    "问题\n",
    "你想排序类型相同的对象，但是他们不支持原生的比较操作。\n",
    "\n",
    "解决方案\n",
    "内置的 sorted() 函数有一个关键字参数 key ，可以传入一个 callable 对象给\n",
    "它，这个 callable 对象对每个传入的对象返回一个值，这个值会被 sorted 用来排序\n",
    "这些对象。比如，如果你在应用程序里面有一个 User 实例序列，并且你希望通过他们\n",
    "的 user_id 属性进行排序，你可以提供一个以 User 实例作为输入并输出对应 user_id\n",
    "值的 callable 对象。比如：\n",
    "\n",
    "'''\n",
    "\n",
    "class User:\n",
    "    def __init__(self,user_id):\n",
    "        self.user_id = user_id\n",
    "        \n",
    "        \n",
    "    def __repr__(self):\n",
    "        return 'User({})'.format(self.user_id)\n",
    "    \n",
    "    \n",
    "def sort_notcompare():\n",
    "    users = [User(23),User(3),User(99)]\n",
    "    print(users)\n",
    "    print(sorted(users,key = lambda u:u.user_id))\n",
    "    \n",
    "sort_notcompare()"
   ]
  },
  {
   "cell_type": "code",
   "execution_count": 11,
   "metadata": {},
   "outputs": [
    {
     "name": "stdout",
     "output_type": "stream",
     "text": [
      "07/01/2012\n  {'address': '5412 N CLARK', 'date': '07/01/2012'}\n  {'address': '4801 N BROADWAY', 'date': '07/01/2012'}\n07/02/2012\n  {'address': '5800 E 58TH', 'date': '07/02/2012'}\n  {'address': '5645 N RAVENSWOOD', 'date': '07/02/2012'}\n  {'address': '1060 W ADDISON', 'date': '07/02/2012'}\n07/03/2012\n  {'address': '2122 N CLARK', 'date': '07/03/2012'}\n07/04/2012\n  {'address': '5148 N CLARK', 'date': '07/04/2012'}\n  {'address': '1039 W GRANVILLE', 'date': '07/04/2012'}\n{'address': '5412 N CLARK', 'date': '07/01/2012'}\n{'address': '4801 N BROADWAY', 'date': '07/01/2012'}\n"
     ]
    }
   ],
   "source": [
    "# 1.15 通过某个字段将记录\n",
    "'''\n",
    "问题\n",
    "你有一个字典或者实例的序列，然后你想根据某个特定的字段比如 date 来分组迭\n",
    "代访问。\n",
    "解决方案\n",
    "itertools.groupby() 函数对于这样的数据分组操作非常实用。为了演示，假设你\n",
    "已经有了下列的字典列表：\n",
    "\n",
    "'''\n",
    "rows = [\n",
    "{'address': '5412 N CLARK', 'date': '07/01/2012'},\n",
    "{'address': '5148 N CLARK', 'date': '07/04/2012'},\n",
    "{'address': '5800 E 58TH', 'date': '07/02/2012'},\n",
    "{'address': '2122 N CLARK', 'date': '07/03/2012'},\n",
    "{'address': '5645 N RAVENSWOOD', 'date': '07/02/2012'},\n",
    "{'address': '1060 W ADDISON', 'date': '07/02/2012'},\n",
    "{'address': '4801 N BROADWAY', 'date': '07/01/2012'},\n",
    "{'address': '1039 W GRANVILLE', 'date': '07/04/2012'},\n",
    "]\n",
    "from operator import itemgetter\n",
    "from itertools import groupby\n",
    "\n",
    "# Sort by the desired field first\n",
    "rows.sort(key=itemgetter('date'))\n",
    "#Iterate in groups\n",
    "for data,items in groupby(rows,key=itemgetter('date')):\n",
    "    print(data)\n",
    "    for i in items:\n",
    "        print(' ',i)\n",
    "        \n",
    "        \n",
    "'''\n",
    "如果你仅仅只是想根据 date 字段将数据分组到一个大的数据结构中去，并且允许\n",
    "随机访问，那么你最好使用 defaultdict() 来构建一个多值字典，关于多值字典已经\n",
    "在 1.6 小节有过详细的介绍。比如\n",
    "'''\n",
    "\n",
    "from collections import defaultdict\n",
    "rows_by_date = defaultdict(list)\n",
    "for row in rows:\n",
    "    rows_by_date[row['date']].append(row)\n",
    "    \n",
    "for r in rows_by_date['07/01/2012']:\n",
    "    print(r)\n",
    "    \n"
   ]
  },
  {
   "cell_type": "code",
   "execution_count": 18,
   "metadata": {},
   "outputs": [
    {
     "name": "stdout",
     "output_type": "stream",
     "text": [
      "<generator object <genexpr> at 0x0000028F24C5BF48>\n1\n4\n10\n2\n3\n['1', '2', '-3', '4', '5']\n"
     ]
    },
    {
     "data": {
      "text/plain": [
       "[1, 4, 0, 10, 0, 2, 3, 0]"
      ]
     },
     "execution_count": 18,
     "metadata": {},
     "output_type": "execute_result"
    }
   ],
   "source": [
    "# 1.16 过滤序列元素\n",
    "'''\n",
    "问题\n",
    "你有一个数据序列，想利用一些规则从中提取出需要的值或者是缩短序列\n",
    "\n",
    "解决方案\n",
    "最简单的过滤序列元素的方法就是使用列表推导。比如\n",
    "'''\n",
    "mylist = [1, 4, -5, 10, -7, 2, 3, -1]\n",
    "[n for n in mylist if n > 0]\n",
    "\n",
    "\n",
    "# 使用列表推导的一个潜在缺陷就是如果输入非常大的时候会产生一个非常大的结果集，占用大量内存。\n",
    "# 如果你对内存比较敏感，那么你可以使用生成器表达式迭代产生过滤的元素。比如：\n",
    "pos = (n for n in mylist if n>0)\n",
    "print(pos)\n",
    "for x in pos:\n",
    "    print(x)\n",
    "    \n",
    "    \n",
    "'''\n",
    "有时候，过滤规则比较复杂，不能简单的在列表推导或者生成器表达式中表达出\n",
    "来。比如，假设过滤的时候需要处理一些异常或者其他复杂情况。这时候你可以将过滤\n",
    "代码放到一个函数中，然后使用内建的 filter() 函数。示例如下：\n",
    "'''\n",
    "\n",
    "values = ['1', '2', '-3', '-', '4', 'N/A', '5']\n",
    "\n",
    "def is_int(val):\n",
    "    try:\n",
    "        x = int(val)\n",
    "        return True\n",
    "    except ValueError:\n",
    "        return False\n",
    "    \n",
    "\n",
    "ivals = list(filter(is_int,values))\n",
    "print(ivals)\n",
    "\n",
    "\n",
    "'''\n",
    "过滤操作的一个变种就是将不符合条件的值用新的值代替，而不是丢弃它们。比\n",
    "如，在一列数据中你可能不仅想找到正数，而且还想将不是正数的数替换成指定的数。\n",
    "通过将过滤条件放到条件表达式中去，可以很容易的解决这个问题，就像这样：\n",
    "'''\n",
    "clip_neg = [n if n >0 else 0 for n in mylist]\n",
    "clip_neg"
   ]
  },
  {
   "cell_type": "code",
   "execution_count": 28,
   "metadata": {},
   "outputs": [
    {
     "name": "stdout",
     "output_type": "stream",
     "text": [
      "{'AAPL': 612.78, 'IBM': 205.55}\n{'AAPL': 612.78, 'IBM': 205.55}\n{'AAPL': 612.78, 'IBM': 205.55}\n"
     ]
    }
   ],
   "source": [
    "# 1.17 从字典中提取子集\n",
    "'''\n",
    "问题\n",
    "你想构造一个字典，它是另外一个字典的子集。\n",
    "\n",
    "解决方案\n",
    "最简单的方式是使用字典推导。比如：\n",
    "'''\n",
    "prices = {\n",
    "'ACME': 45.23,\n",
    "'AAPL': 612.78,\n",
    "'IBM': 205.55,\n",
    "'HPQ': 37.20,\n",
    "'FB': 10.75\n",
    "}\n",
    "\n",
    "# Make a dictionary of all prices over 200\n",
    "p1 = {key: value for key, value in prices.items() if value > 200}\n",
    "# Make a dictionary of tech stocks\n",
    "tech_names = {'AAPL', 'IBM', 'HPQ', 'MSFT'}\n",
    "p2 = {key: value for key, value in prices.items() if key in tech_names  if value > 200}\n",
    "print(p1)\n",
    "print(p2)\n",
    "\n",
    "# 大多数情况下字典推导能做到的，通过创建一个元组序列然后把它传给 dict() 函 数也能实现。比如：\n",
    "p1 = dict((key, value) for key, value in prices.items() if value > 200 )\n",
    "print(p1)\n",
    "# 但是，字典推导方式表意更清晰，并且实际上也会运行的更快些（在这个例子中，实际测试几乎比 dcit() 函数方式快整整一倍）。\n"
   ]
  },
  {
   "cell_type": "code",
   "execution_count": 30,
   "metadata": {},
   "outputs": [],
   "source": [
    "# 1.18 映射名称到序列元素\n",
    "'''\n",
    "问题\n",
    "你有一段通过下标访问列表或者元组中元素的代码，但是这样有时候会使得你的\n",
    "代码难以阅读，于是你想通过名称来访问元素。\n",
    "\n",
    "解决方案\n",
    "collections.namedtuple() 函数通过使用一个普通的元组对象来帮你解决这个问\n",
    "题。这个函数实际上是一个返回 Python 中标准元组类型子类的一个工厂方法。你需要\n",
    "传递一个类型名和你需要的字段给它，然后它就会返回一个类，你可以初始化这个类，\n",
    "为你定义的字段传递值等。代码示例：\n",
    "'''\n",
    "\n",
    "# 下面是使用普通元组的代码：\n",
    "def compute_cost(records):\n",
    "    total = 0.0\n",
    "    for rec in records:\n",
    "        total += rec[1] * rec[2]\n",
    "    return  total\n",
    "\n",
    "# 下标操作通常会让代码表意不清晰，并且非常依赖记录的结构。下面是使用命名元组的版本\n",
    "from collections import namedtuple\n",
    "\n",
    "Stock = namedtuple('Stock',['name','shares','price'])\n",
    "def compute_cost2(records):\n",
    "    total = 0.0\n",
    "    for rec in records:\n",
    "        s = Stock(*rec)\n",
    "        total += s.shares * s.price\n",
    "    return total\n",
    "\n"
   ]
  },
  {
   "cell_type": "code",
   "execution_count": 42,
   "metadata": {
    "collapsed": true
   },
   "outputs": [
    {
     "name": "stdout",
     "output_type": "stream",
     "text": [
      "55\nThere be python! \nACME 50 123.45\n20\n{'name': 'AOL', 'shares': 20}\n"
     ]
    }
   ],
   "source": [
    "# 1.19 转换并同时计\n",
    "'''\n",
    "问题\n",
    "你需要在数据序列上执行聚集函数（比如 sum() , min() , max() ），但是首先你需\n",
    "要先转换或者过滤数据\n",
    "\n",
    "解决方案\n",
    "一个非常优雅的方式去结合数据计算与转换就是使用一个生成器表达式参数。比\n",
    "如，如果你想计算平方和，可以像下面这样做：\n",
    "'''\n",
    "\n",
    "nums = [1, 2, 3, 4, 5]\n",
    "s = sum(x*x for x in nums)\n",
    "print(s)\n",
    "\n",
    "import os\n",
    "files = os.listdir('C:\\\\Users\\\\admin\\PycharmProjects\\Life_Process_Study\\StudyPacticePython\\Base_Python\\cook_book')\n",
    "if any(name.endswith('.py') for name in files):\n",
    "    print('There be python! ')\n",
    "else:\n",
    "    print('Sorry, no python! ')\n",
    "    \n",
    "#Output a tuple as CSV\n",
    "s = ('ACME',50,123.45)\n",
    "print(' '.join(str(x)for x in s))\n",
    "\n",
    "portfolio = [\n",
    "{'name':'GOOG', 'shares': 50},\n",
    "{'name':'YHOO', 'shares': 75},\n",
    "{'name':'AOL', 'shares': 20},\n",
    "{'name':'SCOX', 'shares': 65}\n",
    "]\n",
    "\n",
    "# Original: Return 20\n",
    "min_shares = min(s['shares'] for s in portfolio)\n",
    "print(min_shares)\n",
    "\n",
    "# Alternative: Return{'name':'AQL','shares':20}\n",
    "min_shares = min(portfolio,key=lambda s: s['shares'])\n",
    "print(min_shares)\n",
    "\n",
    "    "
   ]
  },
  {
   "cell_type": "code",
   "execution_count": 45,
   "metadata": {},
   "outputs": [
    {
     "name": "stdout",
     "output_type": "stream",
     "text": [
      "1\n2\n3\n"
     ]
    }
   ],
   "source": [
    "# 1.20 合并多个字典或映射\n",
    "'''\n",
    "问题\n",
    "现在有多个字典或者映射，你想将它们从逻辑上合并为一个单一的映射后执行某\n",
    "些操作，比如查找值或者检查某些键是否存在。\n",
    "\n",
    "解决方案\n",
    "假如你有如下两个字典:\n",
    "'''\n",
    "a = {'x': 1, 'z': 3 }\n",
    "b = {'y': 2, 'z': 4 }\n",
    "# 现在假设你必须在两个字典中执行查找操作（比如先从 a 中找，如果找不到再在 b\n",
    "# 中找）。一个非常简单的解决方案就是使用 collections 模块中的 ChainMap 类。比如：\n",
    "from collections import ChainMap\n",
    "c= ChainMap(a,b)\n",
    "print(c['x'])\n",
    "print(c['y'])\n",
    "print(c['z'])"
   ]
  }
 ],
 "metadata": {
  "kernelspec": {
   "display_name": "Python 2",
   "language": "python",
   "name": "python2"
  },
  "language_info": {
   "codemirror_mode": {
    "name": "ipython",
    "version": 2
   },
   "file_extension": ".py",
   "mimetype": "text/x-python",
   "name": "python",
   "nbconvert_exporter": "python",
   "pygments_lexer": "ipython2",
   "version": "2.7.6"
  }
 },
 "nbformat": 4,
 "nbformat_minor": 0
}
