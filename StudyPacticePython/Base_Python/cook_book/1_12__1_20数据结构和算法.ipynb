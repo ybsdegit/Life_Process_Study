{
 "cells": [
  {
   "cell_type": "code",
   "execution_count": null,
   "metadata": {
    "collapsed": false
   },
   "outputs": [],
   "source": [
    "\n",
    "# 1.12 序列中出现次数最多的元素\n",
    "'''\n",
    "问题\n",
    "怎样找出一个序列中出现次数最多的元素呢？\n",
    "解决方案\n",
    "collections.Counter 类就是专门为这类问题而设计的，它甚至有一个有用的\n",
    "most_common() 方法直接给了你答案。\n",
    "\n",
    "'''\n",
    "words = [\n",
    "'look', 'into', 'my', 'eyes', 'look', 'into', 'my', 'eyes',\n",
    "'the', 'eyes', 'the', 'eyes', 'the', 'eyes', 'not', 'around', 'the',\n",
    "'eyes', \"don't\", 'look', 'around', 'the', 'eyes', 'look', 'into',\n",
    "'my', 'eyes', \"you're\", 'under'\n",
    "]\n",
    "\n",
    "from collections import Counter\n",
    "word_counts = Counter(words)\n",
    "# 出现频率最高的3个单词\n",
    "top_three = word_counts.most_common(3)\n",
    "print(top_three)\n",
    "# [('eyes', 8), ('the', 5), ('look', 4)]\n",
    "\n",
    "\n",
    "# 作为输入，Counter 对象可以接受任意的由可哈希（hashable）元素构成的序列对象。\n",
    "# 在底层实现上，一个 Counter 对象就是一个字典，将元素映射到它出现的次数上。\n",
    "# 比如：\n",
    "\n",
    "word_counts['not']\n",
    "word_counts['eyes']\n",
    "\n",
    "\n",
    "morewords = ['why','are','you','not','looking','in','my','eyes']\n",
    "a = Counter(words)\n",
    "b = Counter(morewords)\n",
    "a\n",
    "b\n",
    "c = a + b \n",
    "c\n"
   ]
  },
  {
   "cell_type": "code",
   "execution_count": 17,
   "metadata": {
    "collapsed": true
   },
   "outputs": [
    {
     "name": "stdout",
     "output_type": "stream",
     "text": [
      "[{'fname': 'Big', 'lname': 'Jones', 'uid': 1004}, {'fname': 'Brian', 'lname': 'Jones', 'uid': 1003}, {'fname': 'David', 'lname': 'Beazley', 'uid': 1002}, {'fname': 'John', 'lname': 'Cleese', 'uid': 1001}]\n[{'fname': 'John', 'lname': 'Cleese', 'uid': 1001}, {'fname': 'David', 'lname': 'Beazley', 'uid': 1002}, {'fname': 'Brian', 'lname': 'Jones', 'uid': 1003}, {'fname': 'Big', 'lname': 'Jones', 'uid': 1004}]\n"
     ]
    }
   ],
   "source": [
    "# 1.13 通过某个关键字排序一个字典列表\n",
    "\n",
    "'''\n",
    "问题\n",
    "你有一个字典列表，你想根据某个或某几个字典字段来排序这个列表。\n",
    "解决方案\n",
    "通过使用 operator 模块的 itemgetter 函数，可以非常容易的排序这样的数据结\n",
    "构。假设你从数据库中检索出来网站会员信息列表，并且以下列的数据结构返回\n",
    "'''\n",
    "\n",
    "rows = [\n",
    "{'fname': 'Brian', 'lname': 'Jones', 'uid': 1003},\n",
    "{'fname': 'David', 'lname': 'Beazley', 'uid': 1002},\n",
    "{'fname': 'John', 'lname': 'Cleese', 'uid': 1001},\n",
    "{'fname': 'Big', 'lname': 'Jones', 'uid': 1004}\n",
    "]\n",
    "\n",
    "from operator import itemgetter\n",
    "rows_by_fname = sorted(rows,key=itemgetter('fname'))\n",
    "rows_by_uid = sorted(rows,key=itemgetter('uid'))\n",
    "print(rows_by_fname)\n",
    "print(rows_by_uid)"
   ]
  },
  {
   "cell_type": "code",
   "execution_count": 28,
   "metadata": {},
   "outputs": [
    {
     "name": "stdout",
     "output_type": "stream",
     "text": [
      "[User(23), User(3), User(99)]\n[User(3), User(23), User(99)]\n"
     ]
    }
   ],
   "source": [
    "# 1.14 排序不支持原生比较的\n",
    "'''\n",
    "问题\n",
    "你想排序类型相同的对象，但是他们不支持原生的比较操作。\n",
    "\n",
    "解决方案\n",
    "内置的 sorted() 函数有一个关键字参数 key ，可以传入一个 callable 对象给\n",
    "它，这个 callable 对象对每个传入的对象返回一个值，这个值会被 sorted 用来排序\n",
    "这些对象。比如，如果你在应用程序里面有一个 User 实例序列，并且你希望通过他们\n",
    "的 user_id 属性进行排序，你可以提供一个以 User 实例作为输入并输出对应 user_id\n",
    "值的 callable 对象。比如：\n",
    "\n",
    "'''\n",
    "\n",
    "class User:\n",
    "    def __init__(self,user_id):\n",
    "        self.user_id = user_id\n",
    "        \n",
    "        \n",
    "    def __repr__(self):\n",
    "        return 'User({})'.format(self.user_id)\n",
    "    \n",
    "    \n",
    "def sort_notcompare():\n",
    "    users = [User(23),User(3),User(99)]\n",
    "    print(users)\n",
    "    print(sorted(users,key = lambda u:u.user_id))\n",
    "    \n",
    "sort_notcompare()"
   ]
  },
  {
   "cell_type": "code",
   "execution_count": null,
   "metadata": {},
   "outputs": [],
   "source": [
    "# 1.15 通过某个字段将记录\n",
    "'''\n",
    "问题\n",
    "你有一个字典或者实例的序列，然后你想根据某个特定的字段比如 date 来分组迭\n",
    "代访问。\n",
    "解决方案\n",
    "itertools.groupby() 函数对于这样的数据分组操作非常实用。为了演示，假设你\n",
    "已经有了下列的字典列表：\n",
    "\n",
    "'''\n",
    "rows = [\n",
    "{'address': '5412 N CLARK', 'date': '07/01/2012'},\n",
    "{'address': '5148 N CLARK', 'date': '07/04/2012'},\n",
    "{'address': '5800 E 58TH', 'date': '07/02/2012'},\n",
    "{'address': '2122 N CLARK', 'date': '07/03/2012'},\n",
    "{'address': '5645 N RAVENSWOOD', 'date': '07/02/2012'},\n",
    "{'address': '1060 W ADDISON', 'date': '07/02/2012'},\n",
    "{'address': '4801 N BROADWAY', 'date': '07/01/2012'},\n",
    "{'address': '1039 W GRANVILLE', 'date': '07/04/2012'},\n",
    "]\n",
    "\n"
   ]
  }
 ],
 "metadata": {
  "kernelspec": {
   "display_name": "Python 2",
   "language": "python",
   "name": "python2"
  },
  "language_info": {
   "codemirror_mode": {
    "name": "ipython",
    "version": 2
   },
   "file_extension": ".py",
   "mimetype": "text/x-python",
   "name": "python",
   "nbconvert_exporter": "python",
   "pygments_lexer": "ipython2",
   "version": "2.7.6"
  }
 },
 "nbformat": 4,
 "nbformat_minor": 0
}
