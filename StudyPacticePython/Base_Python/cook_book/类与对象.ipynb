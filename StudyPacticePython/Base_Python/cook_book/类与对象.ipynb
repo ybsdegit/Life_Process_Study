{
 "cells": [
  {
   "cell_type": "code",
   "execution_count": 7,
   "metadata": {},
   "outputs": [
    {
     "name": "stdout",
     "output_type": "stream",
     "text": [
      "(3, 4)\n"
     ]
    }
   ],
   "source": [
    "# 8.1 改变对象的字符串显示\n",
    "'''\n",
    "问题\n",
    "你想改变对象实例的打印或显示输出，让它们更具可读性。\n",
    "解决方案\n",
    "要改变一个实例的字符串表示，可重新定义它的 __str__() 和 __repr__() 方法。\n",
    "例如：\n",
    "'''\n",
    "class Pair:\n",
    "    \n",
    "    def __init__(self, x, y):\n",
    "        self.x = x\n",
    "        self.y = y\n",
    "        \n",
    "    def __repr__(self):\n",
    "        return 'Pair({0.x!r},{0.y!r})'.format(self)\n",
    "    \n",
    "    def __str__(self):\n",
    "        return '({0.x!s}, {0.y!s})'.format(self)\n",
    "'''\n",
    "__repr__() 方法返回一个实例的代码表示形式，通常用来重新构造这个实例。\n",
    "内置的 repr() 函数返回这个字符串，跟我们使用交互式解释器显示的值是一样的。\n",
    "__str__() 方法将实例转换为一个字符串，使用 str() 或 print() 函数会输出这个字\n",
    "符串。比如：\n",
    "'''\n",
    "\n",
    "p = Pair(3,4)\n",
    "\n",
    "p  # 返回一个实例的代码表示形式。可以用来重新构造这个实例\n",
    "print(p)  # 返回输出这个字符串"
   ]
  },
  {
   "cell_type": "code",
   "execution_count": 14,
   "metadata": {},
   "outputs": [
    {
     "data": {
      "text/plain": [
       "'The date is 2012-12-21'"
      ]
     },
     "execution_count": 14,
     "metadata": {},
     "output_type": "execute_result"
    }
   ],
   "source": [
    "# 8.2 自定义字符串的格式化\n",
    "'''\n",
    "问题\n",
    "你想通过 format() 函数和字符串方法使得一个对象能支持自定义的格式化。\n",
    "解决方案\n",
    "为了自定义字符串的格式化，我们需要在类上面定义 __format__() 方法。例如：\n",
    "'''\n",
    "_formats = {\n",
    "'ymd' : '{d.year}-{d.month}-{d.day}',\n",
    "'mdy' : '{d.month}/{d.day}/{d.year}',\n",
    "'dmy' : '{d.day}/{d.month}/{d.year}'\n",
    "}\n",
    "class Date:\n",
    "    def __init__(self, year, month, day):\n",
    "        self.year = year\n",
    "        self.month = month\n",
    "        self.day = day\n",
    "        \n",
    "    def __format__(self, code):\n",
    "        if code == '':\n",
    "            code = 'ymd'\n",
    "        fmt = _formats[code]\n",
    "        return fmt.format(d=self)\n",
    "    \n",
    "d = Date(2012, 12, 21)\n",
    "format(d)\n",
    "format(d,'mdy')\n",
    "format(d,'dmy')\n",
    "'The date is {:ymd}'.format(d)"
   ]
  },
  {
   "cell_type": "code",
   "execution_count": 15,
   "metadata": {},
   "outputs": [
    {
     "data": {
      "text/plain": [
       "'\\n问题\\n你想让你的对象支持上下文管理协议 (with 语句)。\\n解决方案\\n为了让一个对象兼容 with 语句，你需要实现 __enter__() 和 __exit__() 方法。\\n\\n编写上下文管理器的主要原理是你的代码会放到 with 语句块中执行。当出现 with\\n语句的时候，对象的 __enter__() 方法被触发，它返回的值 (如果有的话) 会被赋值给\\nas 声明的变量。然后，with 语句块里面的代码开始执行。最后，__exit__() 方法被触\\n发进行清理工作。\\n\\n\\n不管 with 代码块中发生什么，上面的控制流都会执行完，就算代码块中发生了异\\n常也是一样的。事实上，__exit__() 方法的第三个参数包含了异常类型、异常值和追\\n溯信息 (如果有的话)。__exit__() 方法能自己决定怎样利用这个异常信息，或者忽略\\n它并返回一个 None 值。如果 __exit__() 返回 True ，那么异常会被清空，就好像什\\n么都没发生一样，with 语句后面的程序继续在正常执行\\n'"
      ]
     },
     "execution_count": 15,
     "metadata": {},
     "output_type": "execute_result"
    }
   ],
   "source": [
    "# 8.3 让对象支持上下文管理\n",
    "'''\n",
    "问题\n",
    "你想让你的对象支持上下文管理协议 (with 语句)。\n",
    "解决方案\n",
    "为了让一个对象兼容 with 语句，你需要实现 __enter__() 和 __exit__() 方法。\n",
    "\n",
    "编写上下文管理器的主要原理是你的代码会放到 with 语句块中执行。当出现 with\n",
    "语句的时候，对象的 __enter__() 方法被触发，它返回的值 (如果有的话) 会被赋值给\n",
    "as 声明的变量。然后，with 语句块里面的代码开始执行。最后，__exit__() 方法被触\n",
    "发进行清理工作。\n",
    "\n",
    "\n",
    "不管 with 代码块中发生什么，上面的控制流都会执行完，就算代码块中发生了异\n",
    "常也是一样的。事实上，__exit__() 方法的第三个参数包含了异常类型、异常值和追\n",
    "溯信息 (如果有的话)。__exit__() 方法能自己决定怎样利用这个异常信息，或者忽略\n",
    "它并返回一个 None 值。如果 __exit__() 返回 True ，那么异常会被清空，就好像什\n",
    "么都没发生一样，with 语句后面的程序继续在正常执行\n",
    "'''\n"
   ]
  },
  {
   "cell_type": "code",
   "execution_count": 31,
   "metadata": {},
   "outputs": [
    {
     "name": "stdout",
     "output_type": "stream",
     "text": [
      "Computer area\n",
      "Computer perimeter\n"
     ]
    },
    {
     "data": {
      "text/plain": [
       "25.132741228718345"
      ]
     },
     "execution_count": 31,
     "metadata": {},
     "output_type": "execute_result"
    }
   ],
   "source": [
    "# 8.10 使用延迟计算属性\n",
    "'''\n",
    "问题\n",
    "你想将一个只读属性定义成一个 property，并且只在访问的时候才会计算结果。但\n",
    "是一旦被访问后，你希望结果值被缓存起来，不用每次都去计算。\n",
    "解决方案\n",
    "定义一个延迟属性的一种高效方法是通过使用一个描述器类，如下所示：\n",
    "'''\n",
    "class lazyproperty:\n",
    "    def __init__(self,func):\n",
    "        self.func = func\n",
    "        \n",
    "    def __get__(self,instance,cls):\n",
    "        if instance is None:\n",
    "            return self\n",
    "        else:\n",
    "            value = self.func(instance)\n",
    "            setattr(instance, self.func.__name__, value)\n",
    "            return value\n",
    "    \n",
    "import math\n",
    "class Circle:\n",
    "    \n",
    "    def __init__(self,radius):\n",
    "        self.radius = radius\n",
    "        \n",
    "    @lazyproperty\n",
    "    def area(self):\n",
    "        print('Computer area')\n",
    "        return math.pi * self.radius ** 2\n",
    "    \n",
    "    @lazyproperty\n",
    "    def perimeter(self):\n",
    "        print('Computer perimeter')\n",
    "        return 2 * math.pi * self.radius\n",
    "    \n",
    "\n"
   ]
  }
 ],
 "metadata": {
  "kernelspec": {
   "display_name": "Python 3",
   "language": "python",
   "name": "python3"
  },
  "language_info": {
   "codemirror_mode": {
    "name": "ipython",
    "version": 3
   },
   "file_extension": ".py",
   "mimetype": "text/x-python",
   "name": "python",
   "nbconvert_exporter": "python",
   "pygments_lexer": "ipython3",
   "version": "3.7.1"
  }
 },
 "nbformat": 4,
 "nbformat_minor": 2
}
