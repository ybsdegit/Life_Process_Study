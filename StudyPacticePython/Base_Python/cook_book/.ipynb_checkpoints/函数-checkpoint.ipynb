{
 "cells": [
  {
   "cell_type": "code",
   "execution_count": 2,
   "metadata": {},
   "outputs": [
    {
     "name": "stdout",
     "output_type": "stream",
     "text": [
      "4\n",
      "4\n",
      "4\n",
      "4\n",
      "4\n"
     ]
    }
   ],
   "source": [
    "funcs = [lambda x: x+n for n in range(5)]\n",
    "for f in funcs:\n",
    "    print(f(0))"
   ]
  },
  {
   "cell_type": "code",
   "execution_count": null,
   "metadata": {},
   "outputs": [],
   "source": [
    "# 7.8 减少可调用对象的参数个数\n",
    "def span(a, b, c, d):\n",
    "    print(a, b, c, d)\n",
    "    \n",
    "from functools import partial\n",
    "s1 = partial(span,1) # a=1\n",
    "s1(2,3,4)\n",
    "s1(4, 5, 6)\n",
    "\n",
    "s2 = partial(span,d=42) # d=42\n",
    "s2(1, 2, 3)\n",
    "\n",
    "s3= partial(span, 1, 2, d=42)\n",
    "s3(8)\n",
    "\n",
    "# partial() 固定某些参数并返回一个新的 callable 对象。这个新的 callable\n",
    "# 接受未赋值的参数，然后跟之前已经赋值过的参数合并起来，最后将所有参数传递给原\n",
    "# 始函数。\n"
   ]
  },
  {
   "cell_type": "code",
   "execution_count": 1,
   "metadata": {},
   "outputs": [
    {
     "data": {
      "text/plain": [
       "[(3, 4), (1, 2), (5, 6), (7, 8)]"
      ]
     },
     "execution_count": 1,
     "metadata": {},
     "output_type": "execute_result"
    }
   ],
   "source": [
    "# 假设你有一个点的列表来表示 (x,y) 坐标元组。你可以使用下面的函数来计算两点之间的距离\n",
    "points = [ (1, 2), (3, 4), (5, 6), (7, 8) ]\n",
    "import math\n",
    "from functools import partial\n",
    "def distance(p1,p2):\n",
    "    x1, y1 = p1\n",
    "    x2, y2 = p2\n",
    "    return math.hypot(x2-x1,y2-y1)\n",
    "'''\n",
    "现在假设你想以某个点为基点，根据点和基点之间的距离来排序所有的这些点。列\n",
    "表的 sort() 方法接受一个关键字参数来自定义排序逻辑，但是它只能接受一个单个参\n",
    "数的函数 (distance() 很明显是不符合条件的)。现在我们可以通过使用 partial() 来解\n",
    "决这个问题：\n",
    "'''\n",
    "pt = (4, 3)\n",
    "points.sort(key=partial(distance,pt))\n",
    "points\n"
   ]
  },
  {
   "cell_type": "code",
   "execution_count": 4,
   "metadata": {},
   "outputs": [
    {
     "name": "stdout",
     "output_type": "stream",
     "text": [
      "Got:  helloworld\n"
     ]
    }
   ],
   "source": [
    "# 7.9 将单方法的类转换为函数\n",
    "# 7.10 带额外状态信息的回调\n",
    "# 定义如下一个需要调用回调函数的函数：\n",
    "def apply_async(func, args, *, callback):\n",
    "    # Compute the result\n",
    "    result = func(*args)\n",
    "    \n",
    "    # Invoke the callback with the result\n",
    "    callback(result)\n",
    "    \n",
    "def print_result(result):\n",
    "    print('Got: ', result)\n",
    "    \n",
    "def add(x, y):\n",
    "    return x + y\n",
    "\n",
    "apply_async(add, ('hello', 'world'),callback=print_result)\n",
    "\n",
    "\n",
    "'''\n",
    "为了让回调函数访问外部信息，一种方法是使用一个绑定方法来代替一个简单函\n",
    "数。比如，下面这个类会保存一个内部序列号，每次接收到一个 result 的时候序列号\n",
    "加 1：\n",
    "'''\n"
   ]
  }
 ],
 "metadata": {
  "kernelspec": {
   "display_name": "Python 3",
   "language": "python",
   "name": "python3"
  },
  "language_info": {
   "codemirror_mode": {
    "name": "ipython",
    "version": 3
   },
   "file_extension": ".py",
   "mimetype": "text/x-python",
   "name": "python",
   "nbconvert_exporter": "python",
   "pygments_lexer": "ipython3",
   "version": "3.7.1"
  }
 },
 "nbformat": 4,
 "nbformat_minor": 1
}
