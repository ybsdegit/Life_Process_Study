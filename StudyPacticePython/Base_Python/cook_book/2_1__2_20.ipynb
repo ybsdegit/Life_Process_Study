{
 "cells": [
  {
   "cell_type": "code",
   "execution_count": 3,
   "metadata": {
    "collapsed": true
   },
   "outputs": [
    {
     "data": {
      "text/plain": [
       "['asdf fjdk', 'afed', 'fjek,asdf', 'foo']"
      ]
     },
     "execution_count": 3,
     "metadata": {},
     "output_type": "execute_result"
    }
   ],
   "source": [
    "# 2.1 使用多个界定符分割字\n",
    "'''\n",
    "问题\n",
    "你需要将一个字符串分割为多个字段，但是分隔符 (还有周围的空格) 并不是固定\n",
    "的。\n",
    "解决方案\n",
    "string 对象的 split() 方法只适应于非常简单的字符串分割情形，它并不允许有\n",
    "多个分隔符或者是分隔符周围不确定的空格。当你需要更加灵活的切割字符串的时候，\n",
    "最好使用 re.split() 方法：\n",
    "'''\n",
    "line = 'asdf fjdk; afed, fjek,asdf, foo'\n",
    "import re\n",
    "re.split(r'[;,\\s]\\s',line)"
   ]
  },
  {
   "cell_type": "code",
   "execution_count": 19,
   "metadata": {},
   "outputs": [
    {
     "data": {
      "text/plain": [
       "False"
      ]
     },
     "execution_count": 19,
     "metadata": {},
     "output_type": "execute_result"
    }
   ],
   "source": [
    "# 2.2 字符串开头或结尾匹配\n",
    "'''\n",
    "问题\n",
    "你需要通过指定的文本模式去检查字符串的开头或者结尾，比如文件名后缀，URL\n",
    "Scheme 等等。\n",
    "\n",
    "解决方案\n",
    "检查字符串开头或结尾的一个简单方法是使用 str.startswith() 或者是 str.\n",
    "endswith() 方法。比如：\n",
    "'''\n",
    "filename = 'span.py'\n",
    "filename.endswith('.py')\n",
    "filename.startswith('file:')\n",
    "url = 'http://www.python.org'\n",
    "url.startswith('http:')\n",
    "\n",
    "\n",
    "# 如果你想检查多种匹配可能，只需要将所有的匹配项放入到一个元组中去，然后传\n",
    "# 给 startswith() 或者 endswith() 方法：\n",
    "import os \n",
    "filenames = os.listdir('.')\n",
    "filenames\n",
    "\n",
    "[name for name in filenames if name.endswith('.log')]\n",
    "any(name.endswith('.py') for name  in filenames)"
   ]
  },
  {
   "cell_type": "code",
   "execution_count": 23,
   "metadata": {},
   "outputs": [
    {
     "data": {
      "text/plain": [
       "True"
      ]
     },
     "execution_count": 23,
     "metadata": {},
     "output_type": "execute_result"
    }
   ],
   "source": [
    "# 2.3 用 Shell 通配符匹配字符串\n",
    "'''\n",
    "问题\n",
    "你想使用 Unix Shell 中常用的通配符 (比如 *.py , Dat[0-9]*.csv 等) 去匹配文\n",
    "本字符串\n",
    "\n",
    "解决方案\n",
    "fnmatch 模块提供了两个函数——fnmatch() 和 fnmatchcase() ，可以用来实现\n",
    "这样的匹配。用法如下：\n",
    "'''\n",
    "from fnmatch import fnmatch,fnmatchcase\n",
    "fnmatch('foo.txt','*.txt')\n",
    "fnmatch('foo.txt','?oo.txt')\n",
    "\n"
   ]
  },
  {
   "cell_type": "code",
   "execution_count": 34,
   "metadata": {},
   "outputs": [
    {
     "name": "stdout",
     "output_type": "stream",
     "text": [
      "yes\nyes\n<re.Match object; span=(0, 10), match='11/27/2012'>\n"
     ]
    }
   ],
   "source": [
    "# 2.4 字符串匹配和\n",
    "'''\n",
    "问题\n",
    "你想匹配或者搜索特定模式的文本\n",
    "解决方案\n",
    "如果你想匹配的是字面字符串，那么你通常只需要调用基本字符串方法就行，比如\n",
    "str.find() , str.endswith() , str.startswith() 或者类似的方法：\n",
    "'''\n",
    "\n",
    "text = 'yeah, but no, but yeah, but no, but yeah'\n",
    "# Exact match\n",
    "text == 'yeah'\n",
    "\n",
    "# Match at start or end\n",
    "text.startswith('yeah')\n",
    "text.endswith('no')\n",
    "\n",
    "# Search for the location of the first occurrence\n",
    "text.find('no')\n",
    "\n",
    "# 对于复杂的匹配需要使用正则表达式和 re 模块。为了解释正则表达式的基本原理，\n",
    "# 假设你想匹配数字格式的日期字符串比如 11/27/2012 ，你可以这样做：\n",
    "\n",
    "text1 = '11/27/2012'\n",
    "text2 = 'Nov 27, 2012'\n",
    "\n",
    "import re\n",
    "if re.match(r'\\d+/\\d+/\\d+',text1):\n",
    "    print('yes')\n",
    "else:\n",
    "    print('no')\n",
    "\n",
    "\n",
    "# 如果你想使用同一个模式去做多次匹配，你应该先将模式字符串预编译为模式对象。\n",
    "# 比如：\n",
    "datepat = re.compile(r'\\d+/\\d+/\\d+')\n",
    "if datepat.match(text1):\n",
    "    print('yes')\n",
    "    \n",
    "    \n",
    "# match() 总是从字符串开始去匹配，如果你想查找字符串任意部分的模式出现位\n",
    "# 置，使用 findall() 方法去代替。比如：\n",
    "text = 'Today is 11/27/2012. PyCon starts 3/13/2013.'\n",
    "datepat.findall(text)\n",
    "\n",
    "\n",
    "# 在定义正则式的时候，通常会利用括号去捕获分组。比如：\n",
    "datepat = re.compile(r'(\\d+)/(\\d+)/(\\d+)')\n",
    "m = datepat.match(text1)\n",
    "print(m)"
   ]
  },
  {
   "cell_type": "code",
   "execution_count": 38,
   "metadata": {},
   "outputs": [
    {
     "data": {
      "text/plain": [
       "'Today is 27 Nov 2012. PyCon starts 13 Mar 2013.'"
      ]
     },
     "execution_count": 38,
     "metadata": {},
     "output_type": "execute_result"
    }
   ],
   "source": [
    "# 2.5 字符串搜索和\n",
    "'''\n",
    "问题\n",
    "你想在字符串中搜索和匹配指定的文本模式\n",
    "\n",
    "解决方案\n",
    "对于简单的字面模式，直接使用 str.replace() 方法即可，比\n",
    "'''\n",
    "text = 'yeah, but no, but yeah, but no, but yeah'\n",
    "text.replace('yeah','yep')\n",
    "\n",
    "# 对于复杂的模式，请使用 re 模块中的 sub() 函数。为了说明这个，假设你想将形\n",
    "# 式为 11/27/2012 的日期字符串改成 2012-11-27 。示例如下：\n",
    "text = 'Today is 11/27/2012. PyCon starts 3/13/2013.'\n",
    "import re\n",
    "re.sub(r'(\\d+)/(\\d+)/(\\d+)',r'\\3-\\1-\\2',text)\n",
    "\n",
    "\n",
    "# 对于更加复杂的替换，可以传递一个替换回调函数来代替，比如\n",
    "from calendar import month_abbr\n",
    "def change_date(m):\n",
    "    mon_name = month_abbr[int(m.group(1))]\n",
    "    return '{} {} {}'.format(m.group(2),mon_name,m.group(3))\n",
    "\n",
    "datepat.sub(change_date,text)"
   ]
  },
  {
   "cell_type": "code",
   "execution_count": 41,
   "metadata": {
    "collapsed": false
   },
   "outputs": [
    {
     "data": {
      "text/plain": [
       "'UPPER snake, lower snake, Mixed snake'"
      ]
     },
     "execution_count": 41,
     "metadata": {},
     "output_type": "execute_result"
    }
   ],
   "source": [
    "# 2.6 字符串忽略大小写的搜索\n",
    "'''\n",
    "问题\n",
    "你需要以忽略大小写的方式搜索与替换文本字符串\n",
    "\n",
    "解决方案\n",
    "为了在文本操作时忽略大小写，你需要在使用 re 模块的时候给这些操作提供\n",
    "re.IGNORECASE 标志参数。比如：\n",
    "'''\n",
    "text = 'UPPER PYTHON, lower python, Mixed Python'\n",
    "import re\n",
    "re.findall('python',text,flags=re.IGNORECASE)\n",
    "\n",
    "re.sub('python','snake',text,flags=re.IGNORECASE)"
   ]
  },
  {
   "cell_type": "code",
   "execution_count": 44,
   "metadata": {},
   "outputs": [],
   "source": [
    "# 2.7 最短匹配模式\n",
    "'''\n",
    "问题\n",
    "你正在试着用正则表达式匹配某个文本模式，但是它找到的是模式的最长可能匹\n",
    "配。而你想修改它变成查找最短的可能匹配。\n",
    "\n",
    "解决方案\n",
    "这个问题一般出现在需要匹配一对分隔符之间的文本的时候 (比如引号包含的字符\n",
    "串)。为了说明清楚，考虑如下的例子：\n",
    "'''\n",
    "str_pat = re.compile(r'\\\"(.*)\\\"')\n",
    "text1 = 'Computer says \"no.\"'\n",
    "str_pat.findall(text1)"
   ]
  },
  {
   "cell_type": "code",
   "execution_count": 57,
   "metadata": {},
   "outputs": [
    {
     "data": {
      "text/plain": [
       "'helloworld\\n'"
      ]
     },
     "execution_count": 57,
     "metadata": {},
     "output_type": "execute_result"
    }
   ],
   "source": [
    "# 2.11 删除字符串中不需要的字符\n",
    "'''\n",
    "问题\n",
    "你想去掉文本字符串开头，结尾或者中间不想要的字符，比如空白。\n",
    "\n",
    "解决方案\n",
    "strip() 方法能用于删除开始或结尾的字符。lstrip() 和 rstrip() 分别从左和\n",
    "从右执行删除操作。默认情况下，这些方法会去除空白字符，但是你也可以指定其他字符\n",
    "'''\n",
    "s = ' hello world \\n'\n",
    "s.strip()\n",
    "s.lstrip()\n",
    "s.rstrip()\n",
    "\n",
    "t = '-----hello====='\n",
    "t.rstrip('=')\n",
    "t.lstrip('-')\n",
    "t.strip('-=')\n",
    "\n",
    "s = ' hello world \\n'\n",
    "s.strip()\n",
    "\n",
    "# 如果你想处理中间的空格，那么你需要求助其他技术。比如使用 replace() 方法\n",
    "# 或者是用正则表达式替换。示例如下：\n",
    "s.replace(' ','')\n",
    "\n",
    "# 通常情况下你想将字符串 strip 操作和其他迭代操作相结合，比如从文件中读取\n",
    "# 多行数据。如果是这样的话，那么生成器表达式就可以大显身手了。比如：\n",
    "finename=''\n",
    "with open(filename) as f:\n",
    "    lines = (line.strip() for line in f)\n",
    "    for line in lines:\n",
    "        print(line)"
   ]
  },
  {
   "cell_type": "code",
   "execution_count": 70,
   "metadata": {
    "collapsed": true
   },
   "outputs": [
    {
     "name": "stdout",
     "output_type": "stream",
     "text": [
      "pýtĥöñ is awesome\n\n"
     ]
    },
    {
     "name": "stdout",
     "output_type": "stream",
     "text": [
      "pýtĥöñ is awesome\n\n"
     ]
    },
    {
     "name": "stdout",
     "output_type": "stream",
     "text": [
      "610\n"
     ]
    },
    {
     "data": {
      "text/plain": [
       "'\\n如果你去测试的话，你就会发现这种方式会比使用 translate() 或者正则表达式\\n要快很多。\\n另一方面，如果你需要执行任何复杂字符对字符的重新映射或者删除操作的话，\\ntanslate() 方法会非常的快。\\n'"
      ]
     },
     "execution_count": 70,
     "metadata": {},
     "output_type": "execute_result"
    }
   ],
   "source": [
    "# 2.12 审查清理文本字\n",
    "\n",
    "s = 'pýtĥöñ\\fis\\tawesome\\r\\n'\n",
    "# 第一步是清理空白字符。为了这样做，先创建一个小的转换表格然后使用\n",
    "# translate() 方法：\n",
    "remap = {\n",
    "    ord('\\t') : ' ',\n",
    "    ord('\\f') : ' ',\n",
    "    ord('\\r') : None,\n",
    "}\n",
    "a = s.translate(remap)\n",
    "print(a)\n",
    "\n",
    "# 你可以以这个表格为基础进一步构建更大的表格。比如，让我们删除所有的和音符：\n",
    "\n",
    "import unicodedata\n",
    "import sys\n",
    "\n",
    "cmb_chrs = dict.fromkeys(c for c in range(sys.maxunicode) if unicodedata.combining(chr(c)))\n",
    "b = unicodedata.normalize('NFD',a)\n",
    "print(b)\n",
    "b.translate(cmb_chrs)\n",
    "'''\n",
    "上面例子中，通过使用 dict.fromkeys() 方法构造一个字典，每个 Unicode 和音\n",
    "符作为键，对应的值全部为 None 。\n",
    "\n",
    "然后使用 unicodedata.normalize() 将原始输入标准化为分解形式字符。然后再\n",
    "调用 translate 函数删除所有重音符。同样的技术也可以被用来删除其他类型的字符\n",
    "(比如控制字符等)。\n",
    "'''\n",
    "\n",
    "# 作为另一个例子，这里构造一个将所有 Unicode 数字字符映射到对应的 ASCII 字\n",
    "# 符上的表格：\n",
    "digitmap = {c:ord('0') + unicodedata.digit(chr(c)) \n",
    "            for c in range(sys.maxunicode) \n",
    "            if unicodedata.category(chr(c)) == 'Nd'\n",
    "}\n",
    "print(len(digitmap))\n",
    "\n",
    "x = '\\u0661\\u0662\\u0663'\n",
    "x.translate(digitmap)\n",
    "\n",
    "\n",
    "# 另一种清理文本的技术涉及到 I/O 解码与编码函数。这里的思路是先对文本做一\n",
    "# 些初步的清理，然后再结合 encode() 或者 decode() 操作来清除或修改它。比如：\n",
    "b = unicodedata.normalize('NFD',a)\n",
    "b.encode('ascii','ignore').decode('ascii')\n",
    "\n",
    "\n",
    "'''\n",
    "文本字符清理一个最主要的问题应该是运行的性能。一般来讲，代码越简单运行越\n",
    "快。对于简单的替换操作，str.replace() 方法通常是最快的，甚至在你需要多次调用\n",
    "的时候。比如，为了清理空白字符，你可以这样做：\n",
    "'''\n",
    "def clean_spaces(s):\n",
    "    s = s.replace('\\r', '')\n",
    "    s = s.replace('\\t', ' ')\n",
    "    s = s.replace('\\f', ' ')\n",
    "    return s\n",
    "\n",
    "'''\n",
    "如果你去测试的话，你就会发现这种方式会比使用 translate() 或者正则表达式\n",
    "要快很多。\n",
    "另一方面，如果你需要执行任何复杂字符对字符的重新映射或者删除操作的话，\n",
    "tanslate() 方法会非常的快。\n",
    "'''\n",
    "\n"
   ]
  },
  {
   "cell_type": "code",
   "execution_count": 83,
   "metadata": {},
   "outputs": [
    {
     "data": {
      "text/plain": [
       "'   1.23   '"
      ]
     },
     "execution_count": 83,
     "metadata": {},
     "output_type": "execute_result"
    }
   ],
   "source": [
    "# 2.13 字符串对齐\n",
    "text = 'Hello World'\n",
    "text.ljust(20)\n",
    "text.rjust(20)\n",
    "text.center(20,'=')\n",
    "\n",
    "# 函数 format() 同样可以用来很容易的对齐字符串。你要做的就是使用 <,> 或者 ^\n",
    "# 字符后面紧跟一个指定的宽度。比如：\n",
    "format(text,'>20')\n",
    "format(text,'<20')\n",
    "format(text,'^20')\n",
    "format(text,'*^20s')\n",
    "\n",
    "# format() 函数的一个好处是它不仅适用于字符串。它可以用来格式化任何值，使\n",
    "# 得它非常的通用。比如，你可以用它来格式化数字：\n",
    "x = 1.23456\n",
    "format(x,'>10')\n",
    "format(x,'^10.2f')"
   ]
  },
  {
   "cell_type": "code",
   "execution_count": 95,
   "metadata": {},
   "outputs": [
    {
     "name": "stdout",
     "output_type": "stream",
     "text": [
      "Is Chiacgo Not Chicago\n"
     ]
    },
    {
     "data": {
      "text/plain": [
       "'ACME,50,91.1'"
      ]
     },
     "execution_count": 95,
     "metadata": {},
     "output_type": "execute_result"
    }
   ],
   "source": [
    "# 2.14 合并拼接字符串\n",
    "parts = ['Is', 'Chicago', 'Not', 'Chicago?']\n",
    "' '.join(parts)\n",
    "','.join(parts)\n",
    "\n",
    "parts2 = ('Is', 'Chicago', 'Not', 'Chicago?')\n",
    "' '.join(parts2)\n",
    "'''\n",
    "join() 被指定为字符串的一个方法。\n",
    "这样做的部分原因是你想去连接的对象可能来自各种不同的数据序列 (比如列表，元\n",
    "组，字典，文件，集合或生成器等)\n",
    "'''\n",
    "a = 'Is Chiacgo'\n",
    "b = 'Not Chicago'\n",
    "print('{} {}'.format(a,b))\n",
    "\n",
    "data = ['ACME', 50, 91.1]\n",
    "','.join(str(d) for d in data)"
   ]
  },
  {
   "cell_type": "code",
   "execution_count": 102,
   "metadata": {},
   "outputs": [
    {
     "data": {
      "text/plain": [
       "'Paulson has {n} messages.'"
      ]
     },
     "execution_count": 102,
     "metadata": {},
     "output_type": "execute_result"
    }
   ],
   "source": [
    "# 2.15 字符串中插入变量\n",
    "'''\n",
    "问题\n",
    "你想创建一个内嵌变量的字符串，变量被它的值所表示的字符串替换掉。\n",
    "解决方案\n",
    "Python 并没有对在字符串中简单替换变量值提供直接的支持。但是通过使用字符\n",
    "串的 format() 方法来解决这个问题。比如：\n",
    "\n",
    "'''\n",
    "\n",
    "s = '{name} has {n} messages.'\n",
    "s.format(name='Paulson',n=108)\n",
    "\n",
    "# 或者，如果要被替换的变量能在变量域中找到，那么你可以结合使用 format_map()\n",
    "# 和 vars() 。就像下面这样：\n",
    "name = 'Paulson'\n",
    "n = 100\n",
    "s.format_map(vars())\n",
    "\n",
    "# vars() 还有一个有意思的特性就是它也适用于对象实例。比如：\n",
    "class info:\n",
    "    def __init__(self,name,n):\n",
    "        self.name = name\n",
    "        self.n = n\n",
    "\n",
    "a = info('Paulson',100)\n",
    "s.format_map(vars(a))\n",
    "\n",
    "\n",
    "'''\n",
    "format 和 format_map() 的一个缺陷就是它们并不能很好的处理变量缺失的情况\n",
    "一种避免这种错误的方法是另外定义一个含有 __missing__() 方法的字典对象，\n",
    "就像下面这样：\n",
    "'''\n",
    "class safesub(dict):\n",
    "    #防止key找不到\n",
    "    def __missing__(self, key):\n",
    "        return '{' + key + '}'\n",
    "    \n",
    "# s.format(name='Guido')\n",
    "del n \n",
    "s.format_map(safesub(vars()))"
   ]
  },
  {
   "cell_type": "code",
   "execution_count": 108,
   "metadata": {},
   "outputs": [
    {
     "name": "stdout",
     "output_type": "stream",
     "text": [
      "Look into my eyes, look into my eyes, the eyes, the eyes, the eyes,\nnot around the eyes, don't look around the eyes, look into my eyes,\nyou're under.\n       Look into my eyes, look into my\neyes, the eyes, the eyes, the eyes, not\naround the eyes, don't look around the\neyes, look into my eyes, you're under.\nLook into my eyes, look into my eyes,\n       the eyes, the eyes, the eyes, not\n       around the eyes, don't look\n       around the eyes, look into my\n       eyes, you're under.\n"
     ]
    },
    {
     "data": {
      "text/plain": [
       "168"
      ]
     },
     "execution_count": 108,
     "metadata": {},
     "output_type": "execute_result"
    }
   ],
   "source": [
    "# 2.16 以指定列宽格式化字符串\n",
    "s = \"Look into my eyes, look into my eyes, the eyes, the eyes, \\\n",
    "the eyes, not around the eyes, don't look around the eyes, \\\n",
    "look into my eyes, you're under.\"\n",
    "import textwrap\n",
    "print(textwrap.fill(s,70))\n",
    "\n",
    "print(textwrap.fill(s,40,initial_indent='       '))\n",
    "print(textwrap.fill(s,40,subsequent_indent='       '))\n",
    "\n",
    "import os\n",
    "os.get_terminal_size().columns"
   ]
  },
  {
   "cell_type": "code",
   "execution_count": 114,
   "metadata": {},
   "outputs": [
    {
     "name": "stdout",
     "output_type": "stream",
     "text": [
      "Elements are written as \"<tag>text</tag>\".\nElements are written as &quot;&lt;tag&gt;text&lt;/tag&gt;&quot;.\nElements are written as \"&lt;tag&gt;text&lt;/tag&gt;\".\n"
     ]
    },
    {
     "name": "stderr",
     "output_type": "stream",
     "text": [
      "c:\\program files\\python3\\lib\\site-packages\\ipykernel_launcher.py:25: DeprecationWarning: The unescape method is deprecated and will be removed in 3.5, use html.unescape() instead.\n"
     ]
    },
    {
     "data": {
      "text/plain": [
       "'The prompt is >>>'"
      ]
     },
     "execution_count": 114,
     "metadata": {},
     "output_type": "execute_result"
    }
   ],
   "source": [
    "# 2.17 在字符串中处理 html 和 x\n",
    "'''\n",
    "问题\n",
    "你想将 HTML 或者 XML 实体如 &entity; 或 &#code; 替换为对应的文本。再者，\n",
    "你需要转换文本中特定的字符 (比如 <, >, 或 &)。\n",
    "解决方案\n",
    "如果你想替换文本字符串中的‘<’或者‘>’，使用 html.escape() 函数可以很\n",
    "容易的完成。比如：\n",
    "'''\n",
    "\n",
    "s = 'Elements are written as \"<tag>text</tag>\".'\n",
    "import html\n",
    "print(s)\n",
    "print(html.escape(s))\n",
    "\n",
    "# Disable escaping of quotes\n",
    "print(html.escape(s,quote=False))\n",
    "\n",
    "\n",
    "# 有时候，如果你接收到了一些含有编码值的原始文本，需要手动去做替换，通常你\n",
    "# 只需要使用 HTML 或者 XML 解析器的一些相关工具函数/方法即可。比如：\n",
    "s = 'Spicy &quot;Jalape&#241;o&quot.'\n",
    "from html.parser import HTMLParser\n",
    "p = HTMLParser()\n",
    "p.unescape(s)\n",
    "\n",
    "\n",
    "t = 'The prompt is &gt;&gt;&gt;'\n",
    "from xml.sax.saxutils import unescape\n",
    "unescape(t)"
   ]
  },
  {
   "cell_type": "code",
   "execution_count": 115,
   "metadata": {},
   "outputs": [],
   "source": [
    "# 2.18 字符串令牌解析\n",
    "'''\n",
    "问题\n",
    "你有一个字符串，想从左至右将其解析为一个令牌流。\n",
    "解决方案\n",
    "假如你有下面这样一个文本字符串：\n",
    "'''\n",
    "\n",
    "text = 'foo = 23 + 42 * 1'\n",
    "# 为了令牌化字符串，你不仅需要匹配模式，还得指定模式的类型。比如，你可能想\n",
    "# 将字符串像下面这样转换为序列对：\n",
    "\n",
    "tokens = [('NAME', 'foo'), ('EQ','='), ('NUM', '23'), ('PLUS','+'),\n",
    "('NUM', '42'), ('TIMES', '*'), ('NUM', '10')]"
   ]
  },
  {
   "cell_type": "code",
   "execution_count": null,
   "metadata": {},
   "outputs": [],
   "source": [
    "# 2.19 实现一个简单的递归下降分析器\n",
    "'''问题\n",
    "你想根据一组语法规则解析文本并执行命令，或者构造一个代表输入的抽象语法\n",
    "树。如果语法非常简单，你可以自己写这个解析器，而不是使用一些框架。\n",
    "\n",
    "解决方案\n",
    "在这个问题中，我们集中讨论根据特殊语法去解析文本的问题。为了这样做，你首\n",
    "先要以 BNF 或者 EBNF 形式指定一个标准语法。比如，一个简单数学表达式语法可能\n",
    "像下面这样：'''\n",
    "\n",
    "# 2.20 字节字符串上的字符串"
   ]
  }
 ],
 "metadata": {
  "kernelspec": {
   "display_name": "Python 2",
   "language": "python",
   "name": "python2"
  },
  "language_info": {
   "codemirror_mode": {
    "name": "ipython",
    "version": 2
   },
   "file_extension": ".py",
   "mimetype": "text/x-python",
   "name": "python",
   "nbconvert_exporter": "python",
   "pygments_lexer": "ipython2",
   "version": "2.7.6"
  }
 },
 "nbformat": 4,
 "nbformat_minor": 0
}
