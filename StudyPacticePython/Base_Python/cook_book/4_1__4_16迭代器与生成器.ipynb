{
 "cells": [
  {
   "cell_type": "code",
   "execution_count": 4,
   "metadata": {
    "collapsed": true
   },
   "outputs": [
    {
     "data": {
      "text/plain": [
       "'\\n讨论\\n大多数情况下，我们会使用 for 循环语句用来遍历一个可迭代对象。但是，偶尔也\\n需要对迭代做更加精确的控制，这时候了解底层迭代机制就显得尤为重要了。\\n'"
      ]
     },
     "execution_count": 4,
     "metadata": {},
     "output_type": "execute_result"
    }
   ],
   "source": [
    "# 4.1 手动遍历迭代器\n",
    "'''\n",
    "问题\n",
    "你想遍历一个可迭代对象中的所有元素，但是却不想使用 for 循环。\n",
    "解决方案\n",
    "为了手动的遍历可迭代对象，使用 next() 函数并在代码中捕获 StopIteration 异\n",
    "常。比如，下面的例子手动读取一个文件中的所有行：\n",
    "'''\n",
    "def manual_iter():\n",
    "    with open('1_3.txt',encoding='utf-8') as f:\n",
    "        try:\n",
    "            while True:\n",
    "                line = next(f)\n",
    "                print(line, end='')\n",
    "        except StopIteration:\n",
    "            pass\n",
    "\n",
    "def manual_iter1():\n",
    "    '''\n",
    "    通常来讲，StopIteration 用来指示迭代的结尾。然而，如果你手动使用上面演示\n",
    "    的 next() 函数的话，你还可以通过返回一个指定值来标记结尾，比如 None 。下面是\n",
    "    示例：\n",
    "    :return:\n",
    "    '''\n",
    "    with open('1_3.txt',encoding='utf-8') as f:\n",
    "        while True:\n",
    "            line = next(f,None)\n",
    "            if line is None:\n",
    "                break\n",
    "            print(line,end=\"\")\n",
    "\n",
    "'''\n",
    "讨论\n",
    "大多数情况下，我们会使用 for 循环语句用来遍历一个可迭代对象。但是，偶尔也\n",
    "需要对迭代做更加精确的控制，这时候了解底层迭代机制就显得尤为重要了。\n",
    "'''\n",
    "# manual_iter1()"
   ]
  },
  {
   "cell_type": "code",
   "execution_count": 6,
   "metadata": {},
   "outputs": [
    {
     "name": "stdout",
     "output_type": "stream",
     "text": [
      "Node(1)\nNode(2)\n"
     ]
    }
   ],
   "source": [
    "# 4.2 代理迭代\n",
    "'''\n",
    "问题\n",
    "你构建了一个自定义容器对象，里面包含有列表、元组或其他可迭代对象。你想直\n",
    "接在你的这个新容器对象上执行迭代操作。\n",
    "解决方案\n",
    "实际上你只需要定义一个 __iter__() 方法，将迭代操作代理到容器内部的对象上\n",
    "去。比如：\n",
    "'''\n",
    "class Node:\n",
    "    \n",
    "    def __init__(self,value):\n",
    "        self._value = value\n",
    "        self._children = []\n",
    "        \n",
    "        \n",
    "    def __repr__(self):\n",
    "        return 'Node({!r})'.format(self._value)\n",
    "    \n",
    "    \n",
    "    def add_child(self,node):\n",
    "        self._children.append(node)\n",
    "        \n",
    "    \n",
    "    def __iter__(self):\n",
    "        return  iter(self._children)\n",
    "    \n",
    "\n",
    "if __name__ == '__main__':\n",
    "    root = Node(0)\n",
    "    child1 = Node(1)\n",
    "    child2 = Node(2)\n",
    "    root.add_child(child1)\n",
    "    root.add_child(child2)\n",
    "    \n",
    "    for ch in root:\n",
    "        print(ch)\n",
    "    \n",
    "        "
   ]
  },
  {
   "cell_type": "code",
   "execution_count": 19,
   "metadata": {},
   "outputs": [
    {
     "name": "stdout",
     "output_type": "stream",
     "text": [
      "0\n0.5\n1.0\n1.5\n2.0\n2.5\n3.0\n3.5\nStarting to count from 3\n"
     ]
    },
    {
     "data": {
      "text/plain": [
       "1"
      ]
     },
     "execution_count": 19,
     "metadata": {},
     "output_type": "execute_result"
    }
   ],
   "source": [
    "# 4.3 使用生成器创建新的迭代模式\n",
    "'''\n",
    "问题\n",
    "你想实现一个自定义迭代模式，跟普通的内置函数比如 range() , reversed() 不\n",
    "一样。\n",
    "解决方案\n",
    "如果你想实现一种新的迭代模式，使用一个生成器函数来定义它。下面是一个生产\n",
    "某个范围内浮点数的生成器：\n",
    "'''\n",
    "\n",
    "def frange(start,stop,increment):\n",
    "    x = start \n",
    "    while x < stop:\n",
    "        yield x\n",
    "        x += increment\n",
    "        \n",
    "# 为了使用这个函数，你可以用 for 循环迭代它或者使用其他接受一个可迭代对象的\n",
    "# 函数 (比如 sum() , list() 等)。示例如下：\n",
    "for n in frange(0,4,0.5):\n",
    "    print(n)\n",
    "    \n",
    "list(frange(0,1,0.125))\n",
    "\n",
    "\n",
    "\n",
    "# 一个函数中需要有一个 yield 语句即可将其转换为一个生成器。跟普通函数不同\n",
    "# 的是，生成器只能用于迭代操作。\n",
    "def countdown(n):\n",
    "    print('Starting to count from', n)\n",
    "    while n > 0:\n",
    "        yield n\n",
    "        n-=1\n",
    "    print('Done!')\n",
    "    \n",
    "c = countdown(3)\n",
    "next(c)\n",
    "next(c)\n",
    "next(c)"
   ]
  },
  {
   "cell_type": "code",
   "execution_count": 21,
   "metadata": {},
   "outputs": [
    {
     "name": "stdout",
     "output_type": "stream",
     "text": [
      "Node(0)\nNode(1)\nNode(3)\nNode(4)\nNode(2)\nNode(5)\n"
     ]
    }
   ],
   "source": [
    "# 4.4 实现迭代器协议\n",
    "'''\n",
    "问题\n",
    "你想构建一个能支持迭代操作的自定义对象，并希望找到一个能实现迭代协议的\n",
    "简单方法。\n",
    "解决方案\n",
    "目前为止，在一个对象上实现迭代最简单的方式是使用一个生成器函数。在 4.2 小\n",
    "节中，使用 Node 类来表示树形数据结构。你可能想实现一个以深度优先方式遍历树形\n",
    "节点的生成器。下面是代码示例：\n",
    "'''\n",
    "# 深度优先方式遍历树\n",
    "class Node:\n",
    "    \n",
    "    def __init__(self,value):\n",
    "        self._value = value\n",
    "        self._children = []\n",
    "\n",
    "    \n",
    "    def __repr__(self):\n",
    "        return 'Node({!r})'.format(self._value)\n",
    "    \n",
    "    \n",
    "    def add_child(self,node):\n",
    "        self._children.append(node)\n",
    "        \n",
    "        \n",
    "    def __iter__(self):\n",
    "        return iter(self._children)\n",
    "    \n",
    "    \n",
    "    def depth_first(self):\n",
    "        yield self\n",
    "        for c in self:\n",
    "            yield from c.depth_first()\n",
    "            \n",
    "            \n",
    "if __name__ == '__main__':\n",
    "    root = Node(0)\n",
    "    child1 = Node(1)\n",
    "    child2 = Node(2)\n",
    "    root.add_child(child1) \n",
    "    root.add_child(child2)\n",
    "    child1.add_child(Node(3))\n",
    "    child1.add_child(Node(4))\n",
    "    child2.add_child(Node(5))\n",
    "            \n",
    "    for ch in root.depth_first():\n",
    "        print(ch)\n",
    "        \n",
    "\n",
    "# 如何使用一个关联迭代器类\n",
    "# 重新实现 depth_first() 方法\n",
    "class Node:\n",
    "    def __init__(self,value):\n",
    "        self._value = value\n",
    "        self._children = []\n",
    "\n",
    "    \n",
    "    def __repr__(self):\n",
    "        return 'Node({!r})'.format(self._value)\n",
    "    \n",
    "    \n",
    "    def add_child(self,node):\n",
    "        self._children.append(node)\n",
    "        \n",
    "        \n",
    "    def __iter__(self):\n",
    "        return iter(self._children)\n",
    "    \n",
    "    \n",
    "    def depth_first(self):\n",
    "        return DeprecationWarning(self)\n",
    "    \n",
    "    \n",
    "class DepthFirstIterator(object):\n",
    "    \n",
    "    def __init__(self,start_node):\n",
    "        self._children_iter = Node\n",
    "        self._child_iter = None\n",
    "        self._node = start_node\n",
    "        \n",
    "        \n",
    "    def __iter__(self):\n",
    "        return self\n",
    "    \n",
    "    \n",
    "    def __next__(self):\n",
    "        if self._child_iter is Node:\n",
    "            self._child_iter = iter(self._node)\n",
    "            return self._node\n",
    "        \n",
    "        elif self._child_iter:\n",
    "            try:\n",
    "                nextchild = next(self._child_iter)\n",
    "                return nextchild\n",
    "            except StopIteration:\n",
    "                self._child_iter = Node\n",
    "                return next(self)\n",
    "        else:\n",
    "            self._child_iter = next(self._child_iter).depth_first()\n",
    "            return next(self)\n",
    "            \n",
    "            "
   ]
  },
  {
   "cell_type": "code",
   "execution_count": 29,
   "metadata": {},
   "outputs": [
    {
     "name": "stdout",
     "output_type": "stream",
     "text": [
      "4\n3\n2\n1\n1\n2\n3\n4\n5\n6\n7\n8\n9\n10\n11\n12\n13\n14\n15\n16\n17\n18\n19\n20\n21\n22\n23\n24\n25\n26\n27\n28\n29\n30\n30\n29\n28\n27\n26\n25\n24\n23\n22\n21\n20\n19\n18\n17\n16\n15\n14\n13\n12\n11\n10\n9\n8\n7\n6\n5\n4\n3\n2\n1\n"
     ]
    }
   ],
   "source": [
    "# 4.5 反向迭代\n",
    "'''\n",
    "问题\n",
    "你想反方向迭代一个序列\n",
    "解决方案\n",
    "使用内置的 reversed() 函数，比如：\n",
    "'''\n",
    "a = [1,2,3,4]\n",
    "for x in reversed(a):\n",
    "    print(x)\n",
    "    \n",
    "class Countdown3:\n",
    "    \n",
    "    def __init__(self,start):\n",
    "        self.start = start\n",
    "        \n",
    "    def __iter__(self):\n",
    "        '''\n",
    "        定义一个反向迭代器可以使得代码非常的高效，因为它不再需要将数据填充到一\n",
    "个列表中然后再去反向迭代这个列表\n",
    "        :return: \n",
    "        '''\n",
    "        n = self.start\n",
    "        while n > 0:\n",
    "            yield n\n",
    "            n -= 1\n",
    "            \n",
    "    \n",
    "    def __reversed__(self):\n",
    "        n = 1\n",
    "        while n <= self.start:\n",
    "            yield n\n",
    "            n += 1\n",
    "            \n",
    "for rr in reversed(Countdown3(30)):\n",
    "    print(rr)\n",
    "    \n",
    "for rr in Countdown3(30):\n",
    "    print(rr)\n",
    "    "
   ]
  },
  {
   "cell_type": "code",
   "execution_count": 31,
   "metadata": {},
   "outputs": [
    {
     "ename": "FileNotFoundError",
     "evalue": "[Errno 2] No such file or directory: '1_3.txt'",
     "traceback": [
      "\u001b[1;31m---------------------------------------------------------------------------\u001b[0m",
      "\u001b[1;31mFileNotFoundError\u001b[0m                         Traceback (most recent call last)",
      "\u001b[1;32m<ipython-input-31-88597adc3262>\u001b[0m in \u001b[0;36m<module>\u001b[1;34m\u001b[0m\n\u001b[0;32m     26\u001b[0m         \u001b[0mself\u001b[0m\u001b[1;33m.\u001b[0m\u001b[0mhistory\u001b[0m\u001b[1;33m.\u001b[0m\u001b[0mclear\u001b[0m\u001b[1;33m(\u001b[0m\u001b[1;33m)\u001b[0m\u001b[1;33m\u001b[0m\u001b[1;33m\u001b[0m\u001b[0m\n\u001b[0;32m     27\u001b[0m \u001b[1;33m\u001b[0m\u001b[0m\n\u001b[1;32m---> 28\u001b[1;33m \u001b[1;32mwith\u001b[0m \u001b[0mopen\u001b[0m\u001b[1;33m(\u001b[0m\u001b[1;34m'1_3.txt'\u001b[0m\u001b[1;33m,\u001b[0m\u001b[0mencoding\u001b[0m\u001b[1;33m=\u001b[0m\u001b[1;34m'utf-8'\u001b[0m\u001b[1;33m)\u001b[0m \u001b[1;32mas\u001b[0m \u001b[0mf\u001b[0m\u001b[1;33m:\u001b[0m\u001b[1;33m\u001b[0m\u001b[1;33m\u001b[0m\u001b[0m\n\u001b[0m\u001b[0;32m     29\u001b[0m     \u001b[0mlines\u001b[0m \u001b[1;33m=\u001b[0m \u001b[0mlinehistory\u001b[0m\u001b[1;33m(\u001b[0m\u001b[0mf\u001b[0m\u001b[1;33m)\u001b[0m\u001b[1;33m\u001b[0m\u001b[1;33m\u001b[0m\u001b[0m\n\u001b[0;32m     30\u001b[0m     \u001b[1;32mfor\u001b[0m \u001b[0mline\u001b[0m \u001b[1;32min\u001b[0m \u001b[0mlines\u001b[0m\u001b[1;33m:\u001b[0m\u001b[1;33m\u001b[0m\u001b[1;33m\u001b[0m\u001b[0m\n",
      "\u001b[1;31mFileNotFoundError\u001b[0m: [Errno 2] No such file or directory: '1_3.txt'"
     ],
     "output_type": "error"
    }
   ],
   "source": [
    "# 4.6 带有外部状态的生成器函数\n",
    "'''\n",
    "问题\n",
    "你想定义一个生成器函数，但是它会调用某个你想暴露给用户使用的外部状态值。\n",
    "解决方案\n",
    "如果你想让你的生成器暴露外部状态给用户，别忘了你可以简单的将它实现为一\n",
    "个类，然后把生成器函数放到 __iter__() 方法中过去。比如：\n",
    "'''\n",
    "\n",
    "from collections import deque\n",
    "\n",
    "class linehistory:\n",
    "    \n",
    "    def __init__(self,lines,histlen=3):\n",
    "        self.lines = lines\n",
    "        self.history = deque(maxlen==histlen)\n",
    "        \n",
    "        \n",
    "    def __iter__(self):\n",
    "        for lineno, line in enumerate(self.lines,1):\n",
    "            self.history.append((lineno,line))\n",
    "            yield line\n",
    "            \n",
    "    \n",
    "    def clear(self):\n",
    "        self.history.clear()\n",
    "        \n",
    "with open('1_3.txt',encoding='utf-8') as f:\n",
    "    lines = linehistory(f)\n",
    "    for line in lines:\n",
    "        if 'python' in line:\n",
    "            for lineno,hline in lines.history:\n",
    "                print('{}{}'.format(lineno,hline),end='')\n"
   ]
  },
  {
   "cell_type": "code",
   "execution_count": 36,
   "metadata": {},
   "outputs": [
    {
     "name": "stdout",
     "output_type": "stream",
     "text": [
      "10\n11\n12\n13\n14\n15\n16\n17\n18\n19\n"
     ]
    }
   ],
   "source": [
    "# 4.7 迭代器切片\n",
    "'''\n",
    "问题\n",
    "你想得到一个由迭代器生成的切片对象，但是标准切片操作并不能做到。\n",
    "解决方案\n",
    "函数 itertools.islice() 正好适用于在迭代器和生成器上做切片操作。比如：\n",
    "'''\n",
    "import itertools\n",
    "def count(n):\n",
    "    while True:\n",
    "        yield n\n",
    "        n += 1\n",
    "        \n",
    "c = count(0)\n",
    "# c[10:20]\n",
    "for x in itertools.islice(c,10,20):\n",
    "    print(x)\n",
    "    '''\n",
    "    迭代器和生成器不能使用标准的切片操作，因为它们的长度事先我们并不知道 (并\n",
    "且也没有实现索引)。函数 islice() 返回一个可以生成指定元素的迭代器，它通过遍\n",
    "历并丢弃直到切片开始索引位置的所有元素。然后才开始一个个的返回元素，并直到切\n",
    "片结束索引位置。\n",
    "这里要着重强调的一点是 islice() 会消耗掉传入的迭代器中的数据。必须考虑到\n",
    "迭代器是不可逆的这个事实。所以如果你需要之后再次访问这个迭代器的话，那你就得\n",
    "先将它里面的数据放入一个列表中。\n",
    "    '''"
   ]
  },
  {
   "cell_type": "code",
   "execution_count": 37,
   "metadata": {},
   "outputs": [
    {
     "data": {
      "text/plain": [
       "'\\n问题\\n你想遍历一个可迭代对象，但是它开始的某些元素你并不感兴趣，想跳过它们。\\n解决方案\\n\\nitertools 模块中有一些函数可以完成这个任务。首先介绍的是 itertools.\\ndropwhile() 函数。使用时，你给它传递一个函数对象和一个可迭代对象。它会返\\n回一个迭代器对象，丢弃原有序列中直到函数返回 Flase 之前的所有元素，然后返回后\\n面所有元素。\\n'"
      ]
     },
     "execution_count": 37,
     "metadata": {},
     "output_type": "execute_result"
    }
   ],
   "source": [
    "# 4.8 跳过可迭代对象的开始部分\n",
    "'''\n",
    "问题\n",
    "你想遍历一个可迭代对象，但是它开始的某些元素你并不感兴趣，想跳过它们。\n",
    "解决方案\n",
    "\n",
    "itertools 模块中有一些函数可以完成这个任务。首先介绍的是 itertools.\n",
    "dropwhile() 函数。使用时，你给它传递一个函数对象和一个可迭代对象。它会返\n",
    "回一个迭代器对象，丢弃原有序列中直到函数返回 Flase 之前的所有元素，然后返回后\n",
    "面所有元素。\n",
    "'''\n",
    "# 为了演示，假定你在读取一个开始部分是几行注释的源文件。比如\n"
   ]
  },
  {
   "cell_type": "code",
   "execution_count": 53,
   "metadata": {
    "collapsed": true
   },
   "outputs": [
    {
     "name": "stdout",
     "output_type": "stream",
     "text": [
      "('a', 'b', 'c')\n('a', 'c', 'b')\n('b', 'a', 'c')\n('b', 'c', 'a')\n('c', 'a', 'b')\n('c', 'b', 'a')\n('a', 'b')\n('a', 'c')\n('b', 'a')\n('b', 'c')\n('c', 'a')\n('c', 'b')\n\n ('a', 'b')\n\n ('a', 'c')\n\n ('b', 'c')\n('a', 'a')\n('a', 'b')\n('a', 'c')\n('b', 'b')\n('b', 'c')\n('c', 'c')\n"
     ]
    }
   ],
   "source": [
    "# 4.9 排列组合的迭代\n",
    "'''\n",
    "问题\n",
    "你想迭代遍历一个集合中元素的所有可能的排列或组合\n",
    "解决方案\n",
    "itertools 模 块 提 供 了 三 个 函 数 来 解 决 这 类 问 题。其 中 一 个 是 itertools.\n",
    "permutations() ，它接受一个集合并产生一个元组序列，每个元组由集合中所有\n",
    "元素的一个可能排列组成。也就是说通过打乱集合中元素排列顺序生成一个元组，比\n",
    "如：\n",
    "'''\n",
    "items = ['a', 'b', 'c']\n",
    "from itertools import permutations\n",
    "\n",
    "\n",
    "# 它接受一个集合并产生一个元组序列，每个元组由集合中所有元素的一个可能排列组成。\n",
    "# 也就是说通过打乱集合中元素排列顺序生成一个元组，\n",
    "for p in permutations(items):\n",
    "    print(p)\n",
    "# 如果你想得到指定长度的所有排列，你可以传递一个可选的长度参数。就像这样：\n",
    "for p in permutations(items,2):\n",
    "    print(p)\n",
    "    \n",
    "    \n",
    "# 使用 itertools.combinations() 可得到输入集合中元素的所有的组合。比如：\n",
    "from itertools import  combinations\n",
    "for c in combinations(items,2):\n",
    "    # 对于 combinations() 来讲，元素的顺序已经不重要了。也就是说，组合 ('a','b') 跟 ('b', 'a') 其实是一样的 (最终只会输出其中一个\n",
    "    print('\\n',c)\n",
    "\n",
    "\n",
    "# 函 数 itertools.combinations_with_replacement() 允许同一个元素被选择多次，比如： \n",
    "from itertools import  combinations_with_replacement\n",
    "for c in combinations_with_replacement(items,2):\n",
    "    print(c)\n",
    "    "
   ]
  },
  {
   "cell_type": "code",
   "execution_count": 58,
   "metadata": {},
   "outputs": [
    {
     "name": "stdout",
     "output_type": "stream",
     "text": [
      "0 a\n1 b\n2 c\n1 a\n2 b\n3 c\n"
     ]
    }
   ],
   "source": [
    "# 4.10 序列上索引值迭代\n",
    "'''\n",
    "问题\n",
    "你想在迭代一个序列的同时跟踪正在被处理的元素索引。\n",
    "\n",
    "解决方案\n",
    "内置的 enumerate() 函数可以很好的解决这个问题\n",
    "'''\n",
    "my_list = ['a', 'b', 'c']\n",
    "for idx, val in enumerate(my_list):\n",
    "    print(idx,val)\n",
    "    \n",
    "for idx, val in enumerate(my_list,1):\n",
    "    print(idx,val)"
   ]
  }
 ],
 "metadata": {
  "kernelspec": {
   "display_name": "Python 2",
   "language": "python",
   "name": "python2"
  },
  "language_info": {
   "codemirror_mode": {
    "name": "ipython",
    "version": 2
   },
   "file_extension": ".py",
   "mimetype": "text/x-python",
   "name": "python",
   "nbconvert_exporter": "python",
   "pygments_lexer": "ipython2",
   "version": "2.7.6"
  }
 },
 "nbformat": 4,
 "nbformat_minor": 0
}
