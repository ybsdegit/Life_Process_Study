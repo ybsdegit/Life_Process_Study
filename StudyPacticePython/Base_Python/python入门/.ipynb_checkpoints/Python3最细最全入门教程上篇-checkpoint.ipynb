{
 "cells": [
  {
   "cell_type": "markdown",
   "metadata": {
    "collapsed": true
   },
   "source": [
    "# python基础教程"
   ]
  },
  {
   "cell_type": "markdown",
   "metadata": {},
   "source": [
    "### 引言"
   ]
  },
  {
   "cell_type": "markdown",
   "metadata": {},
   "source": [
    "如何把以下这个不规则的列表 a 里的所有元素一个个写好，专业术语叫打平 (fatten)?"
   ]
  },
  {
   "cell_type": "code",
   "execution_count": 14,
   "metadata": {},
   "outputs": [],
   "source": [
    "a = [1, 2, [3, 4], [[5, 6], [7, 8]]]"
   ]
  },
  {
   "cell_type": "code",
   "execution_count": 7,
   "metadata": {},
   "outputs": [
    {
     "data": {
      "text/plain": [
       "[1, 2, 3, 4, 5, 6, 7, 8]"
      ]
     },
     "execution_count": 7,
     "metadata": {},
     "output_type": "execute_result"
    }
   ],
   "source": [
    "\"\"\"\n",
    "这一行代码，用到了迭代、匿名函数、递推函数、解析式这些技巧。\n",
    "初学者一看只会说“好酷啊，但看不懂”，\n",
    "看完本帖和下帖后，我保证你会说“我也会这样用了，真酷！”\n",
    "\"\"\"\n",
    "fn = lambda x: [y for l in x for y in fn(l)] if type(x) is list else [x]\n",
    "fn(a)\n"
   ]
  },
  {
   "cell_type": "markdown",
   "metadata": {},
   "source": [
    "## 1 基本数据类型\n",
    "Python 里面有自己的内置数据类型 (build-in data type)，本节介绍基本的三种，分别是\n",
    "* 整型 (int)，\n",
    "* 浮点型 (float)，\n",
    "* 布尔型 (bool)。\n"
   ]
  },
  {
   "cell_type": "markdown",
   "metadata": {},
   "source": [
    "#### 整型"
   ]
  },
  {
   "cell_type": "code",
   "execution_count": 15,
   "metadata": {},
   "outputs": [
    {
     "name": "stdout",
     "output_type": "stream",
     "text": [
      "13214 <class 'int'>\n"
     ]
    }
   ],
   "source": [
    "a = 13214\n",
    "print(a, type(a))"
   ]
  },
  {
   "cell_type": "markdown",
   "metadata": {},
   "source": [
    "通过 print 的可看出 a 的值，以及类 (class) 是 int。Python 里面万物皆对象(object)，「整数」也不例外，只要是对象，就有相应的属性 (attributes) 和方法 (methods)。\n",
    "\n",
    "* ### 知识点\n",
    "通过 dir( X ) 和help( X ) 可看出 X 对应的对象里可用的属性和方法。\n",
    "\n",
    "\t* X 是 int，那么就是 int 的属性和方法\n",
    "\t* X 是 float，那么就是 float 的属性和方法等等"
   ]
  },
  {
   "cell_type": "code",
   "execution_count": 13,
   "metadata": {},
   "outputs": [
    {
     "data": {
      "text/plain": [
       "['__abs__',\n",
       " '__add__',\n",
       " '__and__',\n",
       " '__bool__',\n",
       " '__ceil__',\n",
       " '__class__',\n",
       " '__delattr__',\n",
       " '__dir__',\n",
       " '__divmod__',\n",
       " '__doc__',\n",
       " '__eq__',\n",
       " '__float__',\n",
       " '__floor__',\n",
       " '__floordiv__',\n",
       " '__format__',\n",
       " '__ge__',\n",
       " '__getattribute__',\n",
       " '__getnewargs__',\n",
       " '__gt__',\n",
       " '__hash__',\n",
       " '__index__',\n",
       " '__init__',\n",
       " '__init_subclass__',\n",
       " '__int__',\n",
       " '__invert__',\n",
       " '__le__',\n",
       " '__lshift__',\n",
       " '__lt__',\n",
       " '__mod__',\n",
       " '__mul__',\n",
       " '__ne__',\n",
       " '__neg__',\n",
       " '__new__',\n",
       " '__or__',\n",
       " '__pos__',\n",
       " '__pow__',\n",
       " '__radd__',\n",
       " '__rand__',\n",
       " '__rdivmod__',\n",
       " '__reduce__',\n",
       " '__reduce_ex__',\n",
       " '__repr__',\n",
       " '__rfloordiv__',\n",
       " '__rlshift__',\n",
       " '__rmod__',\n",
       " '__rmul__',\n",
       " '__ror__',\n",
       " '__round__',\n",
       " '__rpow__',\n",
       " '__rrshift__',\n",
       " '__rshift__',\n",
       " '__rsub__',\n",
       " '__rtruediv__',\n",
       " '__rxor__',\n",
       " '__setattr__',\n",
       " '__sizeof__',\n",
       " '__str__',\n",
       " '__sub__',\n",
       " '__subclasshook__',\n",
       " '__truediv__',\n",
       " '__trunc__',\n",
       " '__xor__',\n",
       " 'bit_length',\n",
       " 'conjugate',\n",
       " 'denominator',\n",
       " 'from_bytes',\n",
       " 'imag',\n",
       " 'numerator',\n",
       " 'real',\n",
       " 'to_bytes']"
      ]
     },
     "execution_count": 13,
     "metadata": {},
     "output_type": "execute_result"
    }
   ],
   "source": [
    "dir(int)"
   ]
  },
  {
   "cell_type": "markdown",
   "metadata": {},
   "source": [
    "'__xxx__': 可用方法\n",
    "'xxx':    可用属性\n"
   ]
  },
  {
   "cell_type": "code",
   "execution_count": 17,
   "metadata": {},
   "outputs": [
    {
     "data": {
      "text/plain": [
       "14"
      ]
     },
     "execution_count": 17,
     "metadata": {},
     "output_type": "execute_result"
    }
   ],
   "source": [
    "a.bit_length()"
   ]
  },
  {
   "cell_type": "markdown",
   "metadata": {},
   "source": [
    "该函数是找到一个整数的二进制表示，再返回其长度."
   ]
  },
  {
   "cell_type": "markdown",
   "metadata": {},
   "source": [
    "#### 浮点型"
   ]
  },
  {
   "cell_type": "markdown",
   "metadata": {},
   "source": [
    "简单来说，浮点型 (float) 数就是实数， 例子如下：\n"
   ]
  },
  {
   "cell_type": "markdown",
   "metadata": {},
   "source": [
    "print( 1, type(1) )\n",
    "print( 1., type(1.) )"
   ]
  },
  {
   "cell_type": "markdown",
   "metadata": {},
   "source": [
    "加一个小数点 . 就可以创建 float，不能再简单。\n",
    "有时候我们想保留浮点型的小数点后 n 位。\n",
    "可以用 decimal 包里的 Decimal 对象和 getcontext() 方法来实现。\n"
   ]
  },
  {
   "cell_type": "code",
   "execution_count": 25,
   "metadata": {},
   "outputs": [
    {
     "data": {
      "text/plain": [
       "'\\nPython 里面有很多用途广泛的包 (package)，用什么你就引进 (import) 什么。\\n包也是对象，也可以用上面提到的dir(decimal) 来看其属性和方法。\\n比如 getcontext() 显示了 Decimal 对象的默认精度值是 28 位 (prec=28)，展示如下：\\n'"
      ]
     },
     "execution_count": 25,
     "metadata": {},
     "output_type": "execute_result"
    }
   ],
   "source": [
    "import decimal\n",
    "from decimal import Decimal\n",
    "\"\"\"\n",
    "Python 里面有很多用途广泛的包 (package)，用什么你就引进 (import) 什么。\n",
    "包也是对象，也可以用上面提到的dir(decimal) 来看其属性和方法。\n",
    "比如 getcontext() 显示了 Decimal 对象的默认精度值是 28 位 (prec=28)，展示如下：\n",
    "\"\"\""
   ]
  },
  {
   "cell_type": "code",
   "execution_count": 26,
   "metadata": {},
   "outputs": [
    {
     "data": {
      "text/plain": [
       "Context(prec=28, rounding=ROUND_HALF_EVEN, Emin=-999999, Emax=999999, capitals=1, clamp=0, flags=[Inexact, Rounded], traps=[InvalidOperation, DivisionByZero, Overflow])"
      ]
     },
     "execution_count": 26,
     "metadata": {},
     "output_type": "execute_result"
    }
   ],
   "source": [
    "decimal.getcontext()"
   ]
  },
  {
   "cell_type": "code",
   "execution_count": 40,
   "metadata": {},
   "outputs": [
    {
     "data": {
      "text/plain": [
       "Decimal('0.3333333333333333333333333333')"
      ]
     },
     "execution_count": 40,
     "metadata": {},
     "output_type": "execute_result"
    }
   ],
   "source": [
    "# 1/3 保留28位\n",
    "d = Decimal(1) / Decimal(3)\n",
    "d"
   ]
  },
  {
   "cell_type": "markdown",
   "metadata": {},
   "source": [
    "那保留 4 位呢？用 getcontext().prec 来调整精度哦。"
   ]
  },
  {
   "cell_type": "code",
   "execution_count": 41,
   "metadata": {},
   "outputs": [
    {
     "data": {
      "text/plain": [
       "Decimal('0.3333')"
      ]
     },
     "execution_count": 41,
     "metadata": {},
     "output_type": "execute_result"
    }
   ],
   "source": [
    "decimal.getcontext().prec = 4\n",
    "e = Decimal(1) / Decimal(3)\n",
    "e"
   ]
  },
  {
   "cell_type": "markdown",
   "metadata": {},
   "source": [
    "高精度的 float 加上低精度的 float，保持了高精度。"
   ]
  },
  {
   "cell_type": "code",
   "execution_count": 43,
   "metadata": {},
   "outputs": [
    {
     "data": {
      "text/plain": [
       "0.6666333333333333"
      ]
     },
     "execution_count": 43,
     "metadata": {},
     "output_type": "execute_result"
    }
   ],
   "source": [
    "0.3333333333333333333333333333 + 0.3333"
   ]
  },
  {
   "cell_type": "markdown",
   "metadata": {},
   "source": [
    "#### 布尔型\n",
    "布尔 (boolean) 型变量只能取两个值，True 和 False。当把布尔变量用在数字运算中，用 1 和 0 代表 True 和 False。\n"
   ]
  },
  {
   "cell_type": "code",
   "execution_count": 45,
   "metadata": {},
   "outputs": [
    {
     "name": "stdout",
     "output_type": "stream",
     "text": [
      "3\n",
      "-8\n"
     ]
    }
   ],
   "source": [
    "T = True\n",
    "F = False\n",
    "print(T + 2)\n",
    "print(F - 8)"
   ]
  },
  {
   "cell_type": "code",
   "execution_count": 47,
   "metadata": {},
   "outputs": [
    {
     "name": "stdout",
     "output_type": "stream",
     "text": [
      "<class 'int'> False True\n",
      "<class 'float'> False True\n",
      "<class 'bool'> False True\n"
     ]
    }
   ],
   "source": [
    "# 基本类型\n",
    "print( type(0), bool(0), bool(1) )\n",
    "print( type(10.31), bool(0.00), bool(10.31) )\n",
    "print( type(True), bool(False), bool(True) )"
   ]
  },
  {
   "cell_type": "markdown",
   "metadata": {},
   "source": [
    "bool 作用在基本类型变量的总结：X 只要不是整型 0、浮点型 0.0，bool(X) 就是 True，其余就是 False。"
   ]
  },
  {
   "cell_type": "code",
   "execution_count": 49,
   "metadata": {},
   "outputs": [
    {
     "name": "stdout",
     "output_type": "stream",
     "text": [
      "<class 'str'> False True\n",
      "<class 'tuple'> False True\n",
      "<class 'list'> False True\n",
      "<class 'dict'> False True\n",
      "<class 'set'> False True\n"
     ]
    }
   ],
   "source": [
    "# 容器类型\n",
    "print( type(''), bool( '' ), bool( 'python' ) )\n",
    "print( type(()), bool( () ), bool( (10,) ) )\n",
    "print( type([]), bool( [] ), bool( [1,2] ) )\n",
    "print( type({}), bool( {} ), bool( {'a':1, 'b':2} ) )\n",
    "print( type(set()), bool( set() ), bool( {1,2} ) )"
   ]
  },
  {
   "cell_type": "markdown",
   "metadata": {},
   "source": [
    "bool 作用在容器类型变量的总结：X 只要不是空的变量，bool(X) 就是 True，其余就是 False。"
   ]
  },
  {
   "cell_type": "markdown",
   "metadata": {},
   "source": [
    "确定bool(X) 的值是 True 还是 False，就看 X 是不是空，空的话就是 False，不空的话就是 True。\n",
    "\n",
    "\t* 对于数值变量，0, 0.0 都可认为是空的。\n",
    "\t* 对于容器变量，里面没元素就是空的。\n",
    "\n"
   ]
  },
  {
   "attachments": {
    "image.png": {
     "image/png": "[encoded data removed]"
    }
   },
   "cell_type": "markdown",
   "metadata": {},
   "source": [
    "此外两个布尔变量 P 和 Q 的逻辑运算的结果总结如下表：\n",
    "![image.png](attachment:image.png)"
   ]
  },
  {
   "cell_type": "markdown",
   "metadata": {},
   "source": [
    "## 容器数据类型\n",
    "上节介绍的整型、浮点型和布尔型都可以看成是单独数据，而这些数据都可以放在一个容器里得到一个「容器类型」的数据，比如：\n",
    "\n",
    "\t* 字符 (str) 是一容器的字节 char，注意 Python 里面没有 char 类型的数据，可以把单字符的 str 当做 char。\n",
    "\n",
    "\t* 元组 (tuple)、列表 (list)、字典 (dict) 和集合 (set) 是一容器的任何类型变量。\n",
    "\n",
    "\n"
   ]
  },
  {
   "cell_type": "markdown",
   "metadata": {},
   "source": [
    "#### 字符：\n",
    "字符用于处理文本 (text) 数据，用「单引号 ’」和「双引号 “」来定义都可以。"
   ]
  },
  {
   "cell_type": "code",
   "execution_count": 53,
   "metadata": {},
   "outputs": [
    {
     "name": "stdout",
     "output_type": "stream",
     "text": [
      "i love coding <class 'str'>\n",
      "I love coding <class 'str'>\n"
     ]
    }
   ],
   "source": [
    "# 创建字符\n",
    "t1 = 'i love coding'\n",
    "print(t1, type(t1))\n",
    "\n",
    "t2 = \"I love coding\"\n",
    "print(t2, type(t2))"
   ]
  },
  {
   "cell_type": "markdown",
   "metadata": {},
   "source": [
    "字符中常见的内置方法 (可以用 dir(str) 来查) 有\n",
    "\n",
    "\t* capitalize()：大写句首的字母\n",
    "\t* split()：把句子分成单词\n",
    "\t* find(x)：找到给定词 x 在句中的索引，找不到返回 -1\n",
    "\t* replace(x, y)：把句中 x 替代成 y\n",
    "\t* strip(x)：删除句首或句末含 x 的部分\n",
    "\n",
    "\n"
   ]
  },
  {
   "cell_type": "code",
   "execution_count": 56,
   "metadata": {},
   "outputs": [
    {
     "data": {
      "text/plain": [
       "'I love coding'"
      ]
     },
     "execution_count": 56,
     "metadata": {},
     "output_type": "execute_result"
    }
   ],
   "source": [
    "t1.capitalize()"
   ]
  },
  {
   "cell_type": "code",
   "execution_count": 58,
   "metadata": {},
   "outputs": [
    {
     "data": {
      "text/plain": [
       "['I', 'love', 'coding']"
      ]
     },
     "execution_count": 58,
     "metadata": {},
     "output_type": "execute_result"
    }
   ],
   "source": [
    "t2.split()"
   ]
  },
  {
   "cell_type": "code",
   "execution_count": 61,
   "metadata": {},
   "outputs": [
    {
     "name": "stdout",
     "output_type": "stream",
     "text": [
      "2\n",
      "-1\n"
     ]
    }
   ],
   "source": [
    "print(t1.find('love'))\n",
    "print(t2.find('like'))"
   ]
  },
  {
   "cell_type": "code",
   "execution_count": 63,
   "metadata": {},
   "outputs": [
    {
     "data": {
      "text/plain": [
       "'I hate coding'"
      ]
     },
     "execution_count": 63,
     "metadata": {},
     "output_type": "execute_result"
    }
   ],
   "source": [
    "t2.replace('love', 'hate')"
   ]
  },
  {
   "cell_type": "code",
   "execution_count": 64,
   "metadata": {},
   "outputs": [
    {
     "name": "stdout",
     "output_type": "stream",
     "text": [
      "www.python.org\n",
      "http://www.python\n"
     ]
    }
   ],
   "source": [
    "print( 'http://www.python.org'.strip('htp:/') )\n",
    "print( 'http://www.python.org'.strip('.org') )"
   ]
  },
  {
   "cell_type": "markdown",
   "metadata": {},
   "source": [
    "#### 索引和切片"
   ]
  },
  {
   "cell_type": "code",
   "execution_count": 2,
   "metadata": {},
   "outputs": [
    {
     "name": "stdout",
     "output_type": "stream",
     "text": [
      "Python\n",
      "th\n",
      "yth\n",
      "t\n",
      "n\n"
     ]
    }
   ],
   "source": [
    "s = 'Python'\n",
    "print( s )\n",
    "print( s[2:4] )\n",
    "print( s[-5:-2] )\n",
    "print( s[2] )\n",
    "print( s[-1] )"
   ]
  },
  {
   "attachments": {
    "image.png": {
     "image/png": "[encoded data removed]"
    }
   },
   "cell_type": "markdown",
   "metadata": {},
   "source": [
    "知识点\n",
    "Python 里面索引有三个特点 (经常让人困惑)：\n",
    "\n",
    "\t1. 从 0 开始 (和 C 一样)，不像 Matlab 从 1 开始。\n",
    "\n",
    "\t2. 切片通常写成 start:end 这种形式，包括「start 索引」对应的元素，不包括「end索引」对应的元素。因此 s[2:4] 只获取字符串第 3 个到第 4 个元素。\n",
    "\n",
    "\t3. 索引值可正可负，正索引从 0 开始，从左往右；负索引从 -1 开始，从右往左。使用负数索引时，会从最后一个元素开始计数。最后一个元素的位置编号是 -1。\n",
    "\n",
    "\n",
    "这些特点引起读者对切片得到什么样的元素感到困惑。有个小窍门可以帮助大家快速锁定切片的元素，如下图。\n",
    "\n",
    "![image.png](attachment:image.png)\n",
    "\n",
    "与其把注意力放在元素对应的索引，不如想象将元素分开的隔栏，显然 6 个元素需要 7 个隔栏，隔栏索引也是从 0 开始，这样再看到 start:end 就认为是隔栏索引，那么获取的元素就是「隔栏 start」和「隔栏 end」之间包含的元素。如上图：\n",
    "\n",
    "\t* string[2:4] 就是「隔栏 2」和「隔栏 4」之间包含的元素，即 th\n",
    "\t* string[-5:-2] 就是「隔栏 -5」和「隔栏 -2」之间包含的元素，即 yth\n",
    "\n"
   ]
  },
  {
   "cell_type": "markdown",
   "metadata": {},
   "source": [
    "正则表达式\n",
    "正则表达式 (regular expression) 主要用于识别字符串中符合某种模式的部分，什么叫模式呢？用下面一个具体例子来讲解。"
   ]
  },
  {
   "cell_type": "code",
   "execution_count": 6,
   "metadata": {},
   "outputs": [
    {
     "data": {
      "text/plain": [
       "\"\\n'06/18/2019 13:00:00', 100, '1st';\\n'06/18/2019 13:30:00', 110, '2nd';\\n'06/18/2019 14:00:00', 120, '3rd'\\n\""
      ]
     },
     "execution_count": 6,
     "metadata": {},
     "output_type": "execute_result"
    }
   ],
   "source": [
    "input = \"\"\"\n",
    "'06/18/2019 13:00:00', 100, '1st';\n",
    "'06/18/2019 13:30:00', 110, '2nd';\n",
    "'06/18/2019 14:00:00', 120, '3rd'\n",
    "\"\"\"\n",
    "input"
   ]
  },
  {
   "cell_type": "markdown",
   "metadata": {},
   "source": [
    "假如你想把上面字符串中的「时间」的模式来抽象的表示出来，对照着具体表达式 '06/18/201913:00:00' 来看，我们发现该字符串有以下规则：\n",
    "\n",
    "\t1. 开头和结束都有个单引号 '\n",
    "\t2. 里面有多个 0-9 数字\n",
    "\t3. 里面有多个正斜线 / 和分号 : \n",
    "\t4. 还有一个空格\n",
    "\n",
    "因此我们用下面这样的模式"
   ]
  },
  {
   "cell_type": "code",
   "execution_count": 8,
   "metadata": {},
   "outputs": [],
   "source": [
    "import re\n",
    "pattern = re.compile(\"'[0-9/:\\s]+'\")"
   ]
  },
  {
   "cell_type": "markdown",
   "metadata": {},
   "source": [
    "再看这个抽象模式表达式 '[0-9/:\\s]+'，里面符号的意思如下：\n",
    "\n",
    "\t* 最外面的两个单引号 ' 代表该模式以它们开始和结束\n",
    "\t* 中括号 [] 用来概括该模式涵盖的所有类型的字节\n",
    "\t* 0-9 代表数字类的字节\n",
    "\t* / 代表正斜线\n",
    "\t* : 代表分号\n",
    "\t* \\s 代表空格\n",
    "\t* [] 外面的加号 + 代表 [] 里面的字节出现至少 1 次\n",
    "\n",
    "有了模式 pattern，我们来看看是否能把字符串中所有符合 pattern 的日期表达式都找出来。"
   ]
  },
  {
   "cell_type": "code",
   "execution_count": 10,
   "metadata": {},
   "outputs": [
    {
     "data": {
      "text/plain": [
       "[\"'06/18/2019 13:00:00'\", \"'06/18/2019 13:30:00'\", \"'06/18/2019 14:00:00'\"]"
      ]
     },
     "execution_count": 10,
     "metadata": {},
     "output_type": "execute_result"
    }
   ],
   "source": [
    "pattern.findall(input)"
   ]
  },
  {
   "cell_type": "markdown",
   "metadata": {},
   "source": [
    "结果是对的，之后你想怎么盘它就是你自己的事了，比如把 / 换成 -，比如用 datetime 里面的 striptime() 把日期里年、月、日、小时、分钟和秒都获取出来。"
   ]
  },
  {
   "cell_type": "markdown",
   "metadata": {},
   "source": [
    "元组"
   ]
  },
  {
   "cell_type": "markdown",
   "metadata": {},
   "source": [
    "#### 创建元组"
   ]
  },
  {
   "cell_type": "markdown",
   "metadata": {},
   "source": [
    "「元组」定义语法为 \n",
    "\n",
    "(元素1, 元素2, ..., 元素n)\n",
    "\n",
    "关键点是「小括号 ()」和「逗号 ,」\n",
    "\n",
    "\t* 小括号把所有元素绑在一起\n",
    "\t* 逗号将每个元素一一分开\n",
    "\n",
    "创建元组的例子如下："
   ]
  },
  {
   "cell_type": "code",
   "execution_count": 12,
   "metadata": {},
   "outputs": [
    {
     "name": "stdout",
     "output_type": "stream",
     "text": [
      "(1, 10.31, 'python') <class 'tuple'>\n",
      "(1, 10.31, 'python') <class 'tuple'>\n"
     ]
    }
   ],
   "source": [
    "t1 = (1, 10.31, 'python')\n",
    "t2 = 1, 10.31, 'python'\n",
    "print( t1, type(t1) )\n",
    "print( t2, type(t2) )"
   ]
  },
  {
   "cell_type": "markdown",
   "metadata": {},
   "source": [
    "知识点\n",
    "创建元组可以用小括号 ()，也可以什么都不用，为了可读性，建议还是用 ()。此外对于含单个元素的元组，务必记住要多加一个逗号，举例如下："
   ]
  },
  {
   "cell_type": "code",
   "execution_count": 14,
   "metadata": {},
   "outputs": [
    {
     "name": "stdout",
     "output_type": "stream",
     "text": [
      "<class 'str'>\n",
      "<class 'tuple'>\n"
     ]
    }
   ],
   "source": [
    "print( type( ('OK') ) )  # 没有逗号 , \n",
    "print( type( ('OK',) ) ) # 有逗号 ,"
   ]
  },
  {
   "cell_type": "markdown",
   "metadata": {},
   "source": [
    "看，没加逗号来创建含单元素的元组，Python 认为它是字符。"
   ]
  },
  {
   "cell_type": "markdown",
   "metadata": {},
   "source": [
    "当然也可以创建二维元组："
   ]
  },
  {
   "cell_type": "code",
   "execution_count": 16,
   "metadata": {},
   "outputs": [
    {
     "data": {
      "text/plain": [
       "((1, 10.31, 'python'), ('data', 11))"
      ]
     },
     "execution_count": 16,
     "metadata": {},
     "output_type": "execute_result"
    }
   ],
   "source": [
    "nested = (1, 10.31, 'python'), ('data', 11)\n",
    "nested"
   ]
  },
  {
   "cell_type": "markdown",
   "metadata": {},
   "source": [
    "#### 索引和切片\n",
    "元组中可以用整数来对它进行索引 (indexing) 和切片 (slicing)，不严谨的讲，前者是获取单个元素，后者是获取一组元素。接着上面二维元组的例子，先看看索引的代码：\n"
   ]
  },
  {
   "cell_type": "code",
   "execution_count": 18,
   "metadata": {},
   "outputs": [
    {
     "name": "stdout",
     "output_type": "stream",
     "text": [
      "1 10.31 python\n"
     ]
    }
   ],
   "source": [
    "nested[0]\n",
    "print( nested[0][0], nested[0][1], nested[0][2] )"
   ]
  },
  {
   "cell_type": "markdown",
   "metadata": {},
   "source": [
    "再看看切片的代码："
   ]
  },
  {
   "cell_type": "code",
   "execution_count": 20,
   "metadata": {},
   "outputs": [
    {
     "data": {
      "text/plain": [
       "(1, 10.31)"
      ]
     },
     "execution_count": 20,
     "metadata": {},
     "output_type": "execute_result"
    }
   ],
   "source": [
    "nested[0][0:2] "
   ]
  },
  {
   "cell_type": "markdown",
   "metadata": {},
   "source": [
    "不可更改\n",
    "\n",
    "元组有不可更改 (immutable) 的性质，因此不能直接给元组的元素赋值，例子如下 (注意「元组不支持元素赋值」的报错提示)。"
   ]
  },
  {
   "cell_type": "code",
   "execution_count": 22,
   "metadata": {},
   "outputs": [
    {
     "ename": "TypeError",
     "evalue": "'tuple' object does not support item assignment",
     "output_type": "error",
     "traceback": [
      "\u001b[1;31m---------------------------------------------------------------------------\u001b[0m",
      "\u001b[1;31mTypeError\u001b[0m                                 Traceback (most recent call last)",
      "\u001b[1;32m<ipython-input-22-2391723ab1a0>\u001b[0m in \u001b[0;36m<module>\u001b[1;34m\u001b[0m\n\u001b[0;32m      1\u001b[0m \u001b[0mt\u001b[0m \u001b[1;33m=\u001b[0m \u001b[1;33m(\u001b[0m\u001b[1;34m'OK'\u001b[0m\u001b[1;33m,\u001b[0m \u001b[1;33m[\u001b[0m\u001b[1;36m1\u001b[0m\u001b[1;33m,\u001b[0m \u001b[1;36m2\u001b[0m\u001b[1;33m]\u001b[0m\u001b[1;33m,\u001b[0m \u001b[1;32mTrue\u001b[0m\u001b[1;33m)\u001b[0m\u001b[1;33m\u001b[0m\u001b[1;33m\u001b[0m\u001b[0m\n\u001b[1;32m----> 2\u001b[1;33m \u001b[0mt\u001b[0m\u001b[1;33m[\u001b[0m\u001b[1;36m2\u001b[0m\u001b[1;33m]\u001b[0m \u001b[1;33m=\u001b[0m \u001b[1;32mFalse\u001b[0m\u001b[1;33m\u001b[0m\u001b[1;33m\u001b[0m\u001b[0m\n\u001b[0m",
      "\u001b[1;31mTypeError\u001b[0m: 'tuple' object does not support item assignment"
     ]
    }
   ],
   "source": [
    "t = ('OK', [1, 2], True)\n",
    "t[2] = False"
   ]
  },
  {
   "cell_type": "markdown",
   "metadata": {},
   "source": [
    "但是只要元组中的元素可更改 (mutable)，那么我们可以直接更改其元素，注意这跟赋值其元素不同。如下例 t[1] 是列表，其内容可以更改，因此用 append 在列表后加一个值没问题。"
   ]
  },
  {
   "cell_type": "code",
   "execution_count": 25,
   "metadata": {},
   "outputs": [
    {
     "data": {
      "text/plain": [
       "('OK', [1, 2, 3, 3, 3], True)"
      ]
     },
     "execution_count": 25,
     "metadata": {},
     "output_type": "execute_result"
    }
   ],
   "source": [
    "t[1].append(3)\n",
    "t"
   ]
  },
  {
   "cell_type": "markdown",
   "metadata": {},
   "source": [
    "内置方法\n",
    "\n",
    "元组大小和内容都不可更改，因此只有 count 和 index 两种方法。"
   ]
  },
  {
   "cell_type": "code",
   "execution_count": 27,
   "metadata": {},
   "outputs": [
    {
     "name": "stdout",
     "output_type": "stream",
     "text": [
      "1\n",
      "1\n"
     ]
    }
   ],
   "source": [
    "t = (1, 10.31, 'python')\n",
    "print( t.count('python') )\n",
    "print( t.index(10.31) )"
   ]
  },
  {
   "cell_type": "markdown",
   "metadata": {},
   "source": [
    "这两个方法返回值都是 1，但意思完全不同\n",
    "\n",
    "\t* count('python') 是记录在元组 t 中该元素出现几次，显然是 1 次\n",
    "\t* index(10.31) 是找到该元素在元组 t 的索引，显然是 1\n"
   ]
  },
  {
   "cell_type": "markdown",
   "metadata": {},
   "source": [
    "#### 元组拼接\n",
    "\n",
    "元组拼接 (concatenate) 有两种方式，用「加号 +」和「乘号 *」，前者首尾拼接，后者复制拼接。"
   ]
  },
  {
   "cell_type": "code",
   "execution_count": 30,
   "metadata": {},
   "outputs": [
    {
     "data": {
      "text/plain": [
       "(1, 10.31, 'python', 'data', 11, 'OK')"
      ]
     },
     "execution_count": 30,
     "metadata": {},
     "output_type": "execute_result"
    }
   ],
   "source": [
    "(1, 10.31, 'python') + ('data', 11) + ('OK',)\n",
    "# (1, 10.31, 'python') * 2"
   ]
  },
  {
   "cell_type": "markdown",
   "metadata": {},
   "source": [
    "#### 解压元组\n",
    "\n",
    "解压 (unpack) 一维元组 (有几个元素左边括号定义几个变量）"
   ]
  },
  {
   "cell_type": "code",
   "execution_count": 33,
   "metadata": {},
   "outputs": [
    {
     "name": "stdout",
     "output_type": "stream",
     "text": [
      "1 10.31 python\n"
     ]
    }
   ],
   "source": [
    "t = (1, 10.31, 'python')\n",
    "(a, b, c) = t\n",
    "print( a, b, c )"
   ]
  },
  {
   "cell_type": "markdown",
   "metadata": {},
   "source": [
    "解压二维元组 (按照元组里的元组结构来定义变量）"
   ]
  },
  {
   "cell_type": "code",
   "execution_count": 35,
   "metadata": {},
   "outputs": [
    {
     "name": "stdout",
     "output_type": "stream",
     "text": [
      "1 10.31 OK python\n"
     ]
    }
   ],
   "source": [
    "t = (1, 10.31, ('OK','python'))\n",
    "(a, b, (c,d)) = t\n",
    "print( a, b, c, d )"
   ]
  },
  {
   "cell_type": "markdown",
   "metadata": {},
   "source": [
    "如果你只想要元组其中几个元素，用通配符「*」，英文叫 wildcard，在计算机语言中代表一个或多个元素。下例就是把多个元素丢给了 rest 变量。"
   ]
  },
  {
   "cell_type": "code",
   "execution_count": 37,
   "metadata": {},
   "outputs": [
    {
     "name": "stdout",
     "output_type": "stream",
     "text": [
      "1 2 5\n",
      "[3, 4]\n"
     ]
    }
   ],
   "source": [
    "t = 1, 2, 3, 4, 5\n",
    "a, b, *rest, c = t\n",
    "print( a, b, c )\n",
    "print( rest )"
   ]
  },
  {
   "cell_type": "markdown",
   "metadata": {},
   "source": [
    "如果你根本不在乎 rest 变量，那么就用通配符「*」加上下划线「_」，例子如下："
   ]
  },
  {
   "cell_type": "code",
   "execution_count": 39,
   "metadata": {},
   "outputs": [
    {
     "name": "stdout",
     "output_type": "stream",
     "text": [
      "1 2\n"
     ]
    }
   ],
   "source": [
    "a, b, *_ = t\n",
    "print( a, b )"
   ]
  },
  {
   "cell_type": "markdown",
   "metadata": {},
   "source": [
    "#### 优点缺点"
   ]
  },
  {
   "cell_type": "markdown",
   "metadata": {},
   "source": [
    "* 优点：占内存小，安全，创建遍历速度比列表快，可一赋多值。\n",
    "\n",
    "* 缺点：不能添加和更改元素。\n",
    "\n",
    "等等等，这里有点矛盾，元组的不可更改性即使优点 (安全) 有时缺点？确实是这样的，安全就没那么灵活，灵活就没那么安全。看看大佬廖雪峰怎么评价「不可更改性」吧"
   ]
  },
  {
   "cell_type": "code",
   "execution_count": 56,
   "metadata": {},
   "outputs": [
    {
     "name": "stdout",
     "output_type": "stream",
     "text": [
      "44.5 ns ± 0.0824 ns per loop (mean ± std. dev. of 7 runs, 10000000 loops each)\n",
      "6.5 ns ± 0.00444 ns per loop (mean ± std. dev. of 7 runs, 100000000 loops each)\n"
     ]
    }
   ],
   "source": [
    "import timeit\n",
    "%timeit [1, 2, 3, 4, 5]\n",
    "%timeit (1, 2, 3, 4, 5)"
   ]
  },
  {
   "cell_type": "markdown",
   "metadata": {},
   "source": [
    "##### 遍历\n"
   ]
  },
  {
   "cell_type": "code",
   "execution_count": 59,
   "metadata": {},
   "outputs": [
    {
     "name": "stdout",
     "output_type": "stream",
     "text": [
      "405 µs ± 2.01 µs per loop (mean ± std. dev. of 7 runs, 1000 loops each)\n",
      "444 µs ± 1.57 µs per loop (mean ± std. dev. of 7 runs, 1000 loops each)\n"
     ]
    }
   ],
   "source": [
    "lst = [i for i in range(63335)]\n",
    "tup = tuple(i for i in range(63335))\n",
    "%timeit for each in lst: pass\n",
    "%timeit for each in tup:pass"
   ]
  },
  {
   "cell_type": "markdown",
   "metadata": {},
   "source": [
    "##### 占空间"
   ]
  },
  {
   "cell_type": "code",
   "execution_count": 64,
   "metadata": {},
   "outputs": [
    {
     "name": "stdout",
     "output_type": "stream",
     "text": [
      "514568\n",
      "506728\n"
     ]
    }
   ],
   "source": [
    "from sys import getsizeof\n",
    "print(getsizeof(lst))\n",
    "print(getsizeof(tup))"
   ]
  },
  {
   "cell_type": "markdown",
   "metadata": {},
   "source": [
    "* 列表比元组稍微废点内存空间。"
   ]
  },
  {
   "cell_type": "markdown",
   "metadata": {},
   "source": [
    "#### 列表\n",
    "##### 创建列表\n",
    "「列表」定义语法为 \n",
    "\n",
    "            [元素1, 元素2, ..., 元素n]\n",
    "\n",
    "关键点是「中括号 []」和「逗号 ,」\n",
    "\n",
    "\t* 中括号把所有元素绑在一起\n",
    "\t* 逗号将每个元素一一分开\n",
    "创建列表的例子如下："
   ]
  },
  {
   "cell_type": "code",
   "execution_count": 66,
   "metadata": {},
   "outputs": [
    {
     "name": "stdout",
     "output_type": "stream",
     "text": [
      "[1, 10.31, 'python'] <class 'list'>\n"
     ]
    }
   ],
   "source": [
    "l = [1, 10.31,'python']\n",
    "print(l, type(l))"
   ]
  },
  {
   "cell_type": "markdown",
   "metadata": {},
   "source": [
    "##### 内置方法\n",
    "不像元组，列表内容可更改 (mutable)，因此附加 (append, extend)、插入 (insert)、删除 (remove, pop) 这些操作都可以用在它身上。\n",
    "\n",
    "* 附加"
   ]
  },
  {
   "cell_type": "code",
   "execution_count": 69,
   "metadata": {},
   "outputs": [
    {
     "name": "stdout",
     "output_type": "stream",
     "text": [
      "[1, 10.31, 'python', [4, 3], [4, 3], 1.5, 2.0, 'ok', [4, 3]]\n",
      "[1, 10.31, 'python', [4, 3], [4, 3], 1.5, 2.0, 'ok', [4, 3], 1.5, 2.0, 'ok']\n"
     ]
    }
   ],
   "source": [
    "l.append([4, 3])\n",
    "print(l)\n",
    "l.extend([1.5, 2.0, 'ok'])\n",
    "print(l)"
   ]
  },
  {
   "cell_type": "markdown",
   "metadata": {},
   "source": [
    "严格来说 append 是追加，把一个东西整体添加在列表后，而 extend 是扩展，把一个东西里的所有元素添加在列表后。对着上面结果感受一下区别。\n",
    "\n"
   ]
  },
  {
   "cell_type": "markdown",
   "metadata": {},
   "source": [
    "* 插入\n",
    "\n",
    "insert(i, x) 在编号 i 位置前插入 x。对着下面结果感受一下。"
   ]
  },
  {
   "cell_type": "code",
   "execution_count": 73,
   "metadata": {},
   "outputs": [
    {
     "data": {
      "text/plain": [
       "[1,\n",
       " 'abc',\n",
       " 'abc',\n",
       " 'abc',\n",
       " 'abc',\n",
       " 10.31,\n",
       " 'python',\n",
       " [4, 3],\n",
       " [4, 3],\n",
       " 1.5,\n",
       " 2.0,\n",
       " 'ok',\n",
       " [4, 3],\n",
       " 1.5,\n",
       " 2.0,\n",
       " 'ok']"
      ]
     },
     "execution_count": 73,
     "metadata": {},
     "output_type": "execute_result"
    }
   ],
   "source": [
    "l.insert(1, 'abc') # insert object before the index position\n",
    "l"
   ]
  },
  {
   "cell_type": "markdown",
   "metadata": {},
   "source": [
    "* 删除\n",
    "\n",
    "remove 和 pop 都可以删除元素\n",
    "\n",
    "\t* 前者是指定具体要删除的元素，比如 'python'\n",
    "\t* 后者是指定一个编号位置，比如 3，删除 l[3] 并返回出来\n",
    "\n",
    "\n",
    "\n",
    "对着下面结果感受一下，具体用哪个看你需求。"
   ]
  },
  {
   "cell_type": "code",
   "execution_count": 77,
   "metadata": {},
   "outputs": [
    {
     "data": {
      "text/plain": [
       "[1,\n",
       " 'abc',\n",
       " 'abc',\n",
       " 'abc',\n",
       " 'abc',\n",
       " 10.31,\n",
       " [4, 3],\n",
       " [4, 3],\n",
       " 1.5,\n",
       " 2.0,\n",
       " [4, 3],\n",
       " 1.5,\n",
       " 2.0]"
      ]
     },
     "execution_count": 77,
     "metadata": {},
     "output_type": "execute_result"
    }
   ],
   "source": [
    "l.remove('ok') # remove first occurrence of object\n",
    "l"
   ]
  },
  {
   "cell_type": "code",
   "execution_count": 78,
   "metadata": {},
   "outputs": [
    {
     "name": "stdout",
     "output_type": "stream",
     "text": [
      "abc\n",
      "[1, 'abc', 'abc', 'abc', 10.31, [4, 3], [4, 3], 1.5, 2.0, [4, 3], 1.5, 2.0]\n"
     ]
    }
   ],
   "source": [
    "p = l.pop(3) # removes and returns object at index. Only only pop 1 index position at any time.\n",
    "print( p )\n",
    "print( l ) "
   ]
  },
  {
   "attachments": {
    "image.png": {
     "image/png": "[encoded data removed]"
    }
   },
   "cell_type": "markdown",
   "metadata": {},
   "source": [
    "#### 切片索引\n",
    "\n",
    "索引 (indexing) 和切片 (slicing) 语法在元组那节都讲了，而且怎么判断切片出来的元素在字符那节也讲了，规则如下图：\n",
    "![image.png](attachment:image.png)\n",
    "对照上图看下面两个例子 (顺着数和倒着数编号)："
   ]
  },
  {
   "cell_type": "code",
   "execution_count": 80,
   "metadata": {},
   "outputs": [
    {
     "data": {
      "text/plain": [
       "[2, 9, 10, 1]"
      ]
     },
     "execution_count": 80,
     "metadata": {},
     "output_type": "execute_result"
    }
   ],
   "source": [
    "l = [7, 2, 9, 10, 1, 3, 7, 2, 0, 1]\n",
    "l[1:5]"
   ]
  },
  {
   "cell_type": "code",
   "execution_count": 82,
   "metadata": {},
   "outputs": [
    {
     "data": {
      "text/plain": [
       "[7, 2, 0, 1]"
      ]
     },
     "execution_count": 82,
     "metadata": {},
     "output_type": "execute_result"
    }
   ],
   "source": [
    "l[-4:]"
   ]
  },
  {
   "cell_type": "code",
   "execution_count": 84,
   "metadata": {},
   "outputs": [
    {
     "data": {
      "text/plain": [
       "[7, 2, 999, 1000, 1, 3, 7, 2, 0, 1]"
      ]
     },
     "execution_count": 84,
     "metadata": {},
     "output_type": "execute_result"
    }
   ],
   "source": [
    "# 列表可更改，因此可以用切片来赋值。\n",
    "l[2:4] = [999, 1000]\n",
    "l"
   ]
  },
  {
   "cell_type": "markdown",
   "metadata": {},
   "source": [
    "切片的通用写法是\n",
    "\n",
    "start : stop : step\n",
    "\n",
    "这三个在特定情况下都可以省去，我们来看看四种情况：\n",
    "\n",
    "\n",
    "\n",
    "情况 1 - start : 以 step 为 1 (默认) 从编号 start 往列表尾部切片。"
   ]
  },
  {
   "cell_type": "code",
   "execution_count": 100,
   "metadata": {},
   "outputs": [
    {
     "name": "stdout",
     "output_type": "stream",
     "text": [
      "[7, 2, 999, 1000, 1, 3, 7, 2, 0, 1]\n",
      "[1000, 1, 3, 7, 2, 0, 1]\n",
      "[7, 2, 0, 1]\n",
      "[7, 2, 999, 1000, 1, 3, 7, 2, 0]\n"
     ]
    }
   ],
   "source": [
    "print( l )\n",
    "print( l[3:] )\n",
    "print( l[-4:] )\n",
    "print(l[:-1])"
   ]
  },
  {
   "cell_type": "markdown",
   "metadata": {},
   "source": [
    "情况 2 - : stop :以  step 为 1 (默认) 从列表头部往编号 stop 切片。"
   ]
  },
  {
   "cell_type": "code",
   "execution_count": 102,
   "metadata": {},
   "outputs": [
    {
     "name": "stdout",
     "output_type": "stream",
     "text": [
      "[7, 2, 999, 1000, 1, 3, 7, 2, 0, 1]\n",
      "[7, 2, 999, 1000, 1, 3]\n",
      "[7, 2, 999, 1000, 1, 3]\n"
     ]
    }
   ],
   "source": [
    "print( l )\n",
    "print( l[:6] )\n",
    "print( l[:-4] )"
   ]
  },
  {
   "cell_type": "markdown",
   "metadata": {},
   "source": [
    "情况 3 - start : stop  以 step 为 1 (默认) 从编号 start 往编号 stop 切片。"
   ]
  },
  {
   "cell_type": "code",
   "execution_count": 105,
   "metadata": {},
   "outputs": [
    {
     "name": "stdout",
     "output_type": "stream",
     "text": [
      "[7, 2, 999, 1000, 1, 3, 7, 2, 0, 1]\n",
      "[999, 1000]\n",
      "[3, 7, 2, 0]\n"
     ]
    }
   ],
   "source": [
    "print( l )\n",
    "print( l[2:4] )\n",
    "print( l[-5:-1] )"
   ]
  },
  {
   "cell_type": "markdown",
   "metadata": {},
   "source": [
    "情况 4 - start : stop : step  \n",
    "以具体的 step 从编号 start 往编号 stop 切片。注意最后把 step 设为 -1，相当于将列表反向排列。"
   ]
  },
  {
   "cell_type": "code",
   "execution_count": 107,
   "metadata": {},
   "outputs": [
    {
     "name": "stdout",
     "output_type": "stream",
     "text": [
      "[7, 2, 999, 1000, 1, 3, 7, 2, 0, 1]\n",
      "[2, 1000]\n",
      "[7, 999, 1]\n",
      "[2, 1000, 3, 2, 1]\n",
      "[7, 999, 1, 7, 0]\n",
      "[1, 0, 2, 7, 3, 1, 1000, 999, 2, 7]\n"
     ]
    }
   ],
   "source": [
    "print( l )\n",
    "print( l[1:5:2] )\n",
    "print( l[:5:2] )\n",
    "print( l[1::2] )\n",
    "print( l[::2] )\n",
    "print( l[::-1] )"
   ]
  },
  {
   "cell_type": "markdown",
   "metadata": {},
   "source": [
    "##### 列表拼接\n",
    "和元组拼接一样， 列表拼接也有两种方式，用「加号 +」和「乘号 *」，前者首尾拼接，后者复制拼接。\n"
   ]
  },
  {
   "cell_type": "code",
   "execution_count": 109,
   "metadata": {},
   "outputs": [
    {
     "data": {
      "text/plain": [
       "[1, 10.31, 'python', 1, 10.31, 'python']"
      ]
     },
     "execution_count": 109,
     "metadata": {},
     "output_type": "execute_result"
    }
   ],
   "source": [
    "[1, 10.31, 'python'] + ['data', 11] + ['OK']\n",
    "[1, 10.31, 'python'] * 2"
   ]
  },
  {
   "cell_type": "markdown",
   "metadata": {},
   "source": [
    "优点缺点\n",
    "* 优点：灵活好用，可索引、可切片、可更改、可附加、可插入、可删除。\n",
    "\n",
    "* 缺点：相比 tuple 创建和遍历速度慢，占内存。此外查找和插入时间较慢。"
   ]
  },
  {
   "cell_type": "markdown",
   "metadata": {},
   "source": [
    "### 字典"
   ]
  },
  {
   "cell_type": "code",
   "execution_count": null,
   "metadata": {},
   "outputs": [],
   "source": [
    "#### 创建字典\n",
    "「字典」定义语法为 \n",
    "\n",
    "{元素1, 元素2, ..., 元素n}\n",
    "\n",
    "其中每一个元素是一个「键值对」- 键:值 (key:value)\n",
    "\n",
    "关键点是「大括号 {}」,「逗号 ,」和「冒号 :」\n",
    "\n",
    "\t* 大括号把所有元素绑在一起\n",
    "\t* 逗号将每个键值对一一分开\n",
    "\t* 冒号将键和值分开\n",
    "\n",
    "创建字典的例子如下："
   ]
  },
  {
   "cell_type": "code",
   "execution_count": null,
   "metadata": {},
   "outputs": [],
   "source": []
  }
 ],
 "metadata": {
  "kernelspec": {
   "display_name": "Python 3",
   "language": "python",
   "name": "python3"
  },
  "language_info": {
   "codemirror_mode": {
    "name": "ipython",
    "version": 3
   },
   "file_extension": ".py",
   "mimetype": "text/x-python",
   "name": "python",
   "nbconvert_exporter": "python",
   "pygments_lexer": "ipython3",
   "version": "3.7.3"
  }
 },
 "nbformat": 4,
 "nbformat_minor": 1
}
