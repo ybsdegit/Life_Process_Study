{
 "cells": [
  {
   "cell_type": "code",
   "execution_count": 1,
   "metadata": {
    "collapsed": true
   },
   "outputs": [
    {
     "name": "stdout",
     "output_type": "stream",
     "text": [
      "----1----\n"
     ]
    },
    {
     "name": "stdout",
     "output_type": "stream",
     "text": [
      "----2----\n"
     ]
    },
    {
     "name": "stdout",
     "output_type": "stream",
     "text": [
      "----1----\n"
     ]
    },
    {
     "name": "stdout",
     "output_type": "stream",
     "text": [
      "----2----\n"
     ]
    },
    {
     "name": "stdout",
     "output_type": "stream",
     "text": [
      "----1----\n"
     ]
    },
    {
     "name": "stdout",
     "output_type": "stream",
     "text": [
      "----2----\n"
     ]
    },
    {
     "name": "stdout",
     "output_type": "stream",
     "text": [
      "----1----\n"
     ]
    },
    {
     "name": "stdout",
     "output_type": "stream",
     "text": [
      "----2----\n"
     ]
    },
    {
     "name": "stdout",
     "output_type": "stream",
     "text": [
      "----1----\n"
     ]
    },
    {
     "name": "stdout",
     "output_type": "stream",
     "text": [
      "----2----\n"
     ]
    },
    {
     "name": "stdout",
     "output_type": "stream",
     "text": [
      "----1----\n"
     ]
    },
    {
     "ename": "KeyboardInterrupt",
     "evalue": "",
     "traceback": [
      "\u001b[1;31m---------------------------------------------------------------------------\u001b[0m",
      "\u001b[1;31mKeyboardInterrupt\u001b[0m                         Traceback (most recent call last)",
      "\u001b[1;32m<ipython-input-1-43c86de1194f>\u001b[0m in \u001b[0;36m<module>\u001b[1;34m\u001b[0m\n\u001b[0;32m     25\u001b[0m \u001b[1;33m\u001b[0m\u001b[0m\n\u001b[0;32m     26\u001b[0m \u001b[1;32mif\u001b[0m \u001b[0m__name__\u001b[0m \u001b[1;33m==\u001b[0m \u001b[1;34m'__main__'\u001b[0m\u001b[1;33m:\u001b[0m\u001b[1;33m\u001b[0m\u001b[1;33m\u001b[0m\u001b[0m\n\u001b[1;32m---> 27\u001b[1;33m     \u001b[0mmain\u001b[0m\u001b[1;33m(\u001b[0m\u001b[1;33m)\u001b[0m\u001b[1;33m\u001b[0m\u001b[1;33m\u001b[0m\u001b[0m\n\u001b[0m",
      "\u001b[1;32m<ipython-input-1-43c86de1194f>\u001b[0m in \u001b[0;36mmain\u001b[1;34m()\u001b[0m\n\u001b[0;32m     20\u001b[0m     \u001b[0mt2\u001b[0m \u001b[1;33m=\u001b[0m \u001b[0mtask_2\u001b[0m\u001b[1;33m(\u001b[0m\u001b[1;33m)\u001b[0m\u001b[1;33m\u001b[0m\u001b[1;33m\u001b[0m\u001b[0m\n\u001b[0;32m     21\u001b[0m     \u001b[1;32mwhile\u001b[0m \u001b[1;32mTrue\u001b[0m\u001b[1;33m:\u001b[0m\u001b[1;33m\u001b[0m\u001b[1;33m\u001b[0m\u001b[0m\n\u001b[1;32m---> 22\u001b[1;33m         \u001b[0mnext\u001b[0m\u001b[1;33m(\u001b[0m\u001b[0mt1\u001b[0m\u001b[1;33m)\u001b[0m\u001b[1;33m\u001b[0m\u001b[1;33m\u001b[0m\u001b[0m\n\u001b[0m\u001b[0;32m     23\u001b[0m         \u001b[0mnext\u001b[0m\u001b[1;33m(\u001b[0m\u001b[0mt2\u001b[0m\u001b[1;33m)\u001b[0m\u001b[1;33m\u001b[0m\u001b[1;33m\u001b[0m\u001b[0m\n\u001b[0;32m     24\u001b[0m \u001b[1;33m\u001b[0m\u001b[0m\n",
      "\u001b[1;32m<ipython-input-1-43c86de1194f>\u001b[0m in \u001b[0;36mtask_1\u001b[1;34m()\u001b[0m\n\u001b[0;32m      7\u001b[0m     \u001b[1;32mwhile\u001b[0m \u001b[1;32mTrue\u001b[0m\u001b[1;33m:\u001b[0m\u001b[1;33m\u001b[0m\u001b[1;33m\u001b[0m\u001b[0m\n\u001b[0;32m      8\u001b[0m         \u001b[0mprint\u001b[0m\u001b[1;33m(\u001b[0m\u001b[1;34m'----1----'\u001b[0m\u001b[1;33m)\u001b[0m\u001b[1;33m\u001b[0m\u001b[1;33m\u001b[0m\u001b[0m\n\u001b[1;32m----> 9\u001b[1;33m         \u001b[0mtime\u001b[0m\u001b[1;33m.\u001b[0m\u001b[0msleep\u001b[0m\u001b[1;33m(\u001b[0m\u001b[1;36m1\u001b[0m\u001b[1;33m)\u001b[0m\u001b[1;33m\u001b[0m\u001b[1;33m\u001b[0m\u001b[0m\n\u001b[0m\u001b[0;32m     10\u001b[0m         \u001b[1;32myield\u001b[0m\u001b[1;33m\u001b[0m\u001b[1;33m\u001b[0m\u001b[0m\n\u001b[0;32m     11\u001b[0m \u001b[1;33m\u001b[0m\u001b[0m\n",
      "\u001b[1;31mKeyboardInterrupt\u001b[0m: "
     ],
     "output_type": "error"
    }
   ],
   "source": [
    "# 使用yield完成多任务\n",
    "# 并行\n",
    "# 并发\n",
    "import time\n",
    "\n",
    "def task_1():\n",
    "    while True:\n",
    "        print('----1----')\n",
    "        time.sleep(1)\n",
    "        yield \n",
    "        \n",
    "def task_2():\n",
    "    while True:\n",
    "        print('----2----')\n",
    "        time.sleep(1)  \n",
    "        yield \n",
    "        \n",
    "def main():\n",
    "    t1 = task_1()\n",
    "    t2 = task_2()\n",
    "    while True:\n",
    "        next(t1)\n",
    "        next(t2)\n",
    "        \n",
    "\n",
    "if __name__ == '__main__':\n",
    "    main()"
   ]
  },
  {
   "cell_type": "code",
   "execution_count": 9,
   "metadata": {
    "collapsed": true
   },
   "outputs": [
    {
     "name": "stdout",
     "output_type": "stream",
     "text": [
      "---A---\n---B---\n"
     ]
    },
    {
     "name": "stdout",
     "output_type": "stream",
     "text": [
      "---A---\n"
     ]
    },
    {
     "name": "stdout",
     "output_type": "stream",
     "text": [
      "---B---\n"
     ]
    },
    {
     "name": "stdout",
     "output_type": "stream",
     "text": [
      "---A---\n"
     ]
    },
    {
     "name": "stdout",
     "output_type": "stream",
     "text": [
      "---B---\n"
     ]
    },
    {
     "ename": "KeyboardInterrupt",
     "evalue": "",
     "traceback": [
      "\u001b[1;31m---------------------------------------------------------------------------\u001b[0m",
      "\u001b[1;31mKeyboardInterrupt\u001b[0m                         Traceback (most recent call last)",
      "\u001b[1;32m<ipython-input-9-5b2eadf0b5fc>\u001b[0m in \u001b[0;36m<module>\u001b[1;34m\u001b[0m\n\u001b[0;32m     19\u001b[0m \u001b[0mgr2\u001b[0m \u001b[1;33m=\u001b[0m \u001b[0mgreenlet\u001b[0m\u001b[1;33m(\u001b[0m\u001b[0mtest2\u001b[0m\u001b[1;33m)\u001b[0m\u001b[1;33m\u001b[0m\u001b[1;33m\u001b[0m\u001b[0m\n\u001b[0;32m     20\u001b[0m \u001b[1;33m\u001b[0m\u001b[0m\n\u001b[1;32m---> 21\u001b[1;33m \u001b[0mgr1\u001b[0m\u001b[1;33m.\u001b[0m\u001b[0mswitch\u001b[0m\u001b[1;33m(\u001b[0m\u001b[1;33m)\u001b[0m\u001b[1;33m\u001b[0m\u001b[1;33m\u001b[0m\u001b[0m\n\u001b[0m\u001b[0;32m     22\u001b[0m \u001b[1;33m\u001b[0m\u001b[0m\n",
      "\u001b[1;32m<ipython-input-9-5b2eadf0b5fc>\u001b[0m in \u001b[0;36mtest1\u001b[1;34m()\u001b[0m\n\u001b[0;32m      7\u001b[0m         \u001b[0mprint\u001b[0m\u001b[1;33m(\u001b[0m\u001b[1;34m'---A---'\u001b[0m\u001b[1;33m)\u001b[0m\u001b[1;33m\u001b[0m\u001b[1;33m\u001b[0m\u001b[0m\n\u001b[0;32m      8\u001b[0m         \u001b[0mgr2\u001b[0m\u001b[1;33m.\u001b[0m\u001b[0mswitch\u001b[0m\u001b[1;33m(\u001b[0m\u001b[1;33m)\u001b[0m\u001b[1;33m\u001b[0m\u001b[1;33m\u001b[0m\u001b[0m\n\u001b[1;32m----> 9\u001b[1;33m         \u001b[0mtime\u001b[0m\u001b[1;33m.\u001b[0m\u001b[0msleep\u001b[0m\u001b[1;33m(\u001b[0m\u001b[1;36m0.5\u001b[0m\u001b[1;33m)\u001b[0m\u001b[1;33m\u001b[0m\u001b[1;33m\u001b[0m\u001b[0m\n\u001b[0m\u001b[0;32m     10\u001b[0m \u001b[1;33m\u001b[0m\u001b[0m\n\u001b[0;32m     11\u001b[0m \u001b[1;33m\u001b[0m\u001b[0m\n",
      "\u001b[1;31mKeyboardInterrupt\u001b[0m: "
     ],
     "output_type": "error"
    }
   ],
   "source": [
    " # 使用 greenlet 完成多任务\n",
    " from greenlet import greenlet\n",
    " import time\n",
    " \n",
    " def test1():\n",
    "     while True:\n",
    "         print('---A---')\n",
    "         gr2.switch()\n",
    "         time.sleep(0.5)\n",
    "         \n",
    "         \n",
    "def test2():\n",
    "    while True:\n",
    "        print('---B---')\n",
    "        gr1.switch()\n",
    "        time.sleep(0.5)\n",
    "        \n",
    "gr1 = greenlet(test1)\n",
    "gr2 = greenlet(test2)\n",
    "\n",
    "gr1.switch()\n",
    "         "
   ]
  },
  {
   "cell_type": "code",
   "execution_count": 15,
   "metadata": {},
   "outputs": [
    {
     "name": "stdout",
     "output_type": "stream",
     "text": [
      "<Greenlet at 0x57dc930: f(5)> 0\n<Greenlet at 0xd751e0: f(5)> 0\n<Greenlet at 0xd75150: f(5)> 0\n"
     ]
    },
    {
     "name": "stdout",
     "output_type": "stream",
     "text": [
      "<Greenlet at 0x57dc930: f(5)> 1\n<Greenlet at 0xd751e0: f(5)> 1\n<Greenlet at 0xd75150: f(5)> 1\n"
     ]
    },
    {
     "name": "stdout",
     "output_type": "stream",
     "text": [
      "<Greenlet at 0x57dc930: f(5)> 2\n<Greenlet at 0xd751e0: f(5)> 2\n<Greenlet at 0xd75150: f(5)> 2\n"
     ]
    },
    {
     "name": "stdout",
     "output_type": "stream",
     "text": [
      "<Greenlet at 0x57dc930: f(5)> 3\n<Greenlet at 0xd751e0: f(5)> 3\n<Greenlet at 0xd75150: f(5)> 3\n"
     ]
    },
    {
     "name": "stdout",
     "output_type": "stream",
     "text": [
      "<Greenlet at 0x57dc930: f(5)> 4\n<Greenlet at 0xd751e0: f(5)> 4\n<Greenlet at 0xd75150: f(5)> 4\n"
     ]
    }
   ],
   "source": [
    "# gevent 实现多任务\n",
    "import gevent\n",
    "def f(n):\n",
    "    for i in range(n):\n",
    "        print(gevent.getcurrent(),i)\n",
    "        # time.sleep(0.5)\n",
    "        gevent.sleep(0.5)  # 发现延时 则切换任务 使用gevent延时方法\n",
    "\n",
    "g1 = gevent.spawn(f,5)\n",
    "g2 = gevent.spawn(f,5)\n",
    "g3 = gevent.spawn(f,5)\n",
    "\n",
    "g1.join()\n",
    "g2.join()\n",
    "g3.join()"
   ]
  },
  {
   "cell_type": "code",
   "execution_count": 20,
   "metadata": {
    "collapsed": true
   },
   "outputs": [
    {
     "name": "stdout",
     "output_type": "stream",
     "text": [
      "<Greenlet at 0x12871e0: f(5)> 0\n<Greenlet at 0x1287270: f(5)> 0\n<Greenlet at 0x1287390: f(5)> 0\n"
     ]
    },
    {
     "name": "stdout",
     "output_type": "stream",
     "text": [
      "<Greenlet at 0x12871e0: f(5)> 1\n<Greenlet at 0x1287270: f(5)> 1\n<Greenlet at 0x1287390: f(5)> 1\n"
     ]
    },
    {
     "name": "stdout",
     "output_type": "stream",
     "text": [
      "<Greenlet at 0x12871e0: f(5)> 2\n<Greenlet at 0x1287270: f(5)> 2\n<Greenlet at 0x1287390: f(5)> 2\n"
     ]
    },
    {
     "name": "stdout",
     "output_type": "stream",
     "text": [
      "<Greenlet at 0x12871e0: f(5)> 3\n<Greenlet at 0x1287270: f(5)> 3\n<Greenlet at 0x1287390: f(5)> 3\n"
     ]
    },
    {
     "name": "stdout",
     "output_type": "stream",
     "text": [
      "<Greenlet at 0x12871e0: f(5)> 4\n<Greenlet at 0x1287270: f(5)> 4\n<Greenlet at 0x1287390: f(5)> 4\n"
     ]
    },
    {
     "data": {
      "text/plain": [
       "[<Greenlet at 0x12871e0: f(5)>,\n <Greenlet at 0x1287270: f(5)>,\n <Greenlet at 0x1287390: f(5)>]"
      ]
     },
     "execution_count": 20,
     "metadata": {},
     "output_type": "execute_result"
    }
   ],
   "source": [
    "# gevent 15 gevent 打补丁 实现多任务 \n",
    "import gevent\n",
    "from gevent import monkey\n",
    "\n",
    "# 有耗时操作时需要\n",
    "monkey.patch_all()  # 将程序中用到的耗时操作的代码，转为gevent中自己实现的模块\n",
    "\n",
    "def f(n):\n",
    "    for i in range(n):\n",
    "        print(gevent.getcurrent(),i)\n",
    "        time.sleep(0.5)  #\n",
    "\n",
    "\n",
    "gevent.joinall({\n",
    "    gevent.spawn(f,5),\n",
    "    gevent.spawn(f,5),\n",
    "    gevent.spawn(f,5)\n",
    "})\n",
    "\n",
    "# g1 = gevent.spawn(f,5)\n",
    "# g2 = gevent.spawn(f,5)\n",
    "# g3 = gevent.spawn(f,5)\n",
    "# \n",
    "# g1.join()\n",
    "# g2.join()\n",
    "# g3.join()"
   ]
  },
  {
   "cell_type": "code",
   "execution_count": null,
   "metadata": {},
   "outputs": [],
   "source": []
  }
 ],
 "metadata": {
  "kernelspec": {
   "display_name": "Python 2",
   "language": "python",
   "name": "python2"
  },
  "language_info": {
   "codemirror_mode": {
    "name": "ipython",
    "version": 2
   },
   "file_extension": ".py",
   "mimetype": "text/x-python",
   "name": "python",
   "nbconvert_exporter": "python",
   "pygments_lexer": "ipython2",
   "version": "2.7.6"
  }
 },
 "nbformat": 4,
 "nbformat_minor": 0
}
