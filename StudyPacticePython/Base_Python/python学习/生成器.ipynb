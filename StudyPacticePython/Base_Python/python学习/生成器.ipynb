{
 "cells": [
  {
   "cell_type": "code",
   "execution_count": 8,
   "metadata": {
    "collapsed": true
   },
   "outputs": [
    {
     "name": "stdout",
     "output_type": "stream",
     "text": [
      "[0, 2, 4, 6, 8, 10, 12, 14, 16, 18]\n<generator object <genexpr> at 0x062883F0>\n0\n2\n4\n6\n8\n10\n12\n14\n16\n18\n"
     ]
    }
   ],
   "source": [
    "# 生成器是一类特殊的迭代器\n",
    "\n",
    "# 创建生成器 方法一\n",
    "nums = [x*2 for x in range(10)]\n",
    "print(nums)\n",
    "\n",
    "nums = (x*2 for x in range(10))\n",
    "print(nums)\n",
    "\n",
    "for num in nums:\n",
    "    print(num)"
   ]
  },
  {
   "cell_type": "code",
   "execution_count": 11,
   "metadata": {},
   "outputs": [
    {
     "name": "stdout",
     "output_type": "stream",
     "text": [
      "0\n1\n1\n2\n3\n5\n8\n13\n21\n34\n"
     ]
    }
   ],
   "source": [
    "# 创建生成器 \n",
    "# 使用生成器完成 斐波拉切数列\n",
    "# yield\n",
    "\n",
    "def create_num(all_num):\n",
    "    a, b = 0, 1\n",
    "    current_num = 0\n",
    "    while current_num < all_num:\n",
    "        print(a)\n",
    "        a, b = b, a+b\n",
    "        current_num += 1\n",
    "        \n",
    "create_num(10)\n"
   ]
  },
  {
   "cell_type": "code",
   "execution_count": 20,
   "metadata": {},
   "outputs": [
    {
     "name": "stdout",
     "output_type": "stream",
     "text": [
      "0\n"
     ]
    }
   ],
   "source": [
    "# 创建生成器 方法二 \n",
    "# 使用生成器完成 斐波拉切数列\n",
    "# yield\n",
    "# 如果一个函数中有yield语句，那么这个就不是函数，而是一个生成器模板\n",
    "def create_num(all_num):\n",
    "    a, b = 0, 1\n",
    "    current_num = 0\n",
    "    while current_num < all_num:\n",
    "        # print(a)\n",
    "        yield a\n",
    "        a, b = b, a+b\n",
    "        current_num += 1\n",
    "  \n",
    "  \n",
    "# 如果在调用create_num的时候，发现这个函数中有yield,那么此时不是调用函数，而是创建一个生成器对象\n",
    "obj = create_num(10)  #创建一个生成器\n",
    "\n",
    "# 调用生成器使用for循环\n",
    "# for x in obj:\n",
    "#     print(x)\n",
    "    \n",
    "ret = next(obj)\n",
    "print(ret)\n"
   ]
  },
  {
   "cell_type": "code",
   "execution_count": 25,
   "metadata": {
    "collapsed": true
   },
   "outputs": [
    {
     "name": "stdout",
     "output_type": "stream",
     "text": [
      "obj: 0\nobj: 1\nobj2: 0\nobj: 1\nobj: 2\nobj2: 1\n"
     ]
    },
    {
     "ename": "StopIteration",
     "evalue": "",
     "traceback": [
      "\u001b[1;31m---------------------------------------------------------------------------\u001b[0m",
      "\u001b[1;31mStopIteration\u001b[0m                             Traceback (most recent call last)",
      "\u001b[1;32m<ipython-input-25-658dce2923fd>\u001b[0m in \u001b[0;36m<module>\u001b[1;34m\u001b[0m\n\u001b[0;32m     36\u001b[0m \u001b[0mprint\u001b[0m\u001b[1;33m(\u001b[0m\u001b[1;34m'obj2:'\u001b[0m\u001b[1;33m,\u001b[0m\u001b[0mret\u001b[0m\u001b[1;33m)\u001b[0m\u001b[1;33m\u001b[0m\u001b[1;33m\u001b[0m\u001b[0m\n\u001b[0;32m     37\u001b[0m \u001b[1;33m\u001b[0m\u001b[0m\n\u001b[1;32m---> 38\u001b[1;33m \u001b[0mret\u001b[0m \u001b[1;33m=\u001b[0m \u001b[0mnext\u001b[0m\u001b[1;33m(\u001b[0m\u001b[0mobj2\u001b[0m\u001b[1;33m)\u001b[0m\u001b[1;33m\u001b[0m\u001b[1;33m\u001b[0m\u001b[0m\n\u001b[0m\u001b[0;32m     39\u001b[0m \u001b[0mprint\u001b[0m\u001b[1;33m(\u001b[0m\u001b[1;34m'obj2:'\u001b[0m\u001b[1;33m,\u001b[0m\u001b[0mret\u001b[0m\u001b[1;33m)\u001b[0m\u001b[1;33m\u001b[0m\u001b[1;33m\u001b[0m\u001b[0m\n",
      "\u001b[1;31mStopIteration\u001b[0m: "
     ],
     "output_type": "error"
    }
   ],
   "source": [
    "# 生成器的研究\n",
    "# 使用生成器完成 斐波拉切数列\n",
    "# yield\n",
    "# 如果一个函数中有yield语句，那么这个就不是函数，而是一个生成器模板\n",
    "def create_num(all_num):\n",
    "    a, b = 0, 1\n",
    "    current_num = 0\n",
    "    while current_num < all_num:\n",
    "        # print(a)\n",
    "        yield a\n",
    "        a, b = b, a+b\n",
    "        current_num += 1\n",
    "  \n",
    "  \n",
    "# 如果在调用create_num的时候，发现这个函数中有yield,那么此时不是调用函数，而是创建一个生成器对象\n",
    "obj = create_num(10)  #创建一个生成器\n",
    "obj2 = create_num(2)\n",
    "# 调用生成器使用for循环\n",
    "# for x in obj:\n",
    "#     print(x)\n",
    "    \n",
    "ret = next(obj)\n",
    "print('obj:',ret)\n",
    "ret = next(obj)\n",
    "print('obj:',ret)\n",
    "\n",
    "ret = next(obj2)\n",
    "print('obj2:',ret)\n",
    "\n",
    "ret = next(obj)\n",
    "print('obj:',ret)\n",
    "ret = next(obj)\n",
    "print('obj:',ret)\n",
    "\n",
    "ret = next(obj2)\n",
    "print('obj2:',ret)\n",
    "\n",
    "ret = next(obj2)\n",
    "print('obj2:',ret)"
   ]
  },
  {
   "cell_type": "code",
   "execution_count": 36,
   "metadata": {},
   "outputs": [
    {
     "name": "stdout",
     "output_type": "stream",
     "text": [
      "obj2: 0\nobj2: 1\nok...\n"
     ]
    }
   ],
   "source": [
    "# 生成器的研究 通过异常判断生成器已经结束\n",
    "# 使用生成器完成 斐波拉切数列\n",
    "# yield\n",
    "# 如果一个函数中有yield语句，那么这个就不是函数，而是一个生成器模板\n",
    "def create_num(all_num):\n",
    "    a, b = 0, 1\n",
    "    current_num = 0\n",
    "    while current_num < all_num:\n",
    "        # print(a)\n",
    "        yield a\n",
    "        a, b = b, a+b\n",
    "        current_num += 1\n",
    "    return 'ok...'\n",
    "  \n",
    "# 如果在调用create_num的时候，发现这个函数中有yield,那么此时不是调用函数，而是创建一个生成器对象\n",
    "obj2 = create_num(2)  #创建一个生成器\n",
    "\n",
    "while True:\n",
    "    try:\n",
    "        ret = next(obj2)\n",
    "        print('obj2:',ret)\n",
    "    except Exception as ret:\n",
    "        print(ret.value)  #返回值 return\n",
    "        break\n"
   ]
  },
  {
   "cell_type": "code",
   "execution_count": 45,
   "metadata": {
    "collapsed": true
   },
   "outputs": [
    {
     "name": "stdout",
     "output_type": "stream",
     "text": [
      "0\n>>>ret>>> hahaha\n1\n"
     ]
    }
   ],
   "source": [
    "# 生成器的研究 通过send 来启动生成器\n",
    "# 使用生成器完成 斐波拉切数列\n",
    "# yield\n",
    "# 如果一个函数中有yield语句，那么这个就不是函数，而是一个生成器模板\n",
    "def create_num(all_num):\n",
    "    a, b = 0, 1\n",
    "    current_num = 0\n",
    "    while current_num < all_num:\n",
    "        ret = yield a\n",
    "        print('>>>ret>>>',ret)\n",
    "        a, b = b, a+b \n",
    "        current_num += 1\n",
    "  \n",
    "# 如果在调用create_num的时候，发现这个函数中有yield,那么此时不是调用函数，而是创建一个生成器对象\n",
    "obj = create_num(10)  #创建一个生成器\n",
    "\n",
    "ret = next(obj)\n",
    "print(ret)\n",
    "\n",
    "# send里面的数据 会传递给 yield a 的结果，然后ret保存这个结果\n",
    "# send的结果是下一次调用yield时，yield后面的值\n",
    "ret = obj.send('hahaha')   # 传递参数\n",
    "print(ret)\n",
    "\n",
    "# 一般使用next,不使用send\n",
    "\n",
    "# for i in obj:\n",
    "#     print(i)\n",
    "\n",
    "# 结论：\n",
    "# 迭代器减少内存空间，实现循环\n",
    "# 生成器可以让一个函数（yield）暂停执行 next 继续执行"
   ]
  },
  {
   "cell_type": "code",
   "execution_count": null,
   "metadata": {},
   "outputs": [],
   "source": [
    "# 生成器总结\n"
   ]
  }
 ],
 "metadata": {
  "kernelspec": {
   "display_name": "Python 2",
   "language": "python",
   "name": "python2"
  },
  "language_info": {
   "codemirror_mode": {
    "name": "ipython",
    "version": 2
   },
   "file_extension": ".py",
   "mimetype": "text/x-python",
   "name": "python",
   "nbconvert_exporter": "python",
   "pygments_lexer": "ipython2",
   "version": "2.7.6"
  }
 },
 "nbformat": 4,
 "nbformat_minor": 0
}
