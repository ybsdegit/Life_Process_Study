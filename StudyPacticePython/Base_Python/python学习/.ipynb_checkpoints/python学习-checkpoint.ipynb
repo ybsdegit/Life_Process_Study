{
 "cells": [
  {
   "cell_type": "code",
   "execution_count": 0,
   "metadata": {
    "collapsed": true
   },
   "outputs": [],
   "source": []
  },
  {
   "cell_type": "code",
   "execution_count": 3,
   "metadata": {},
   "outputs": [
    {
     "name": "stdout",
     "output_type": "stream",
     "text": [
      "11\n",
      "22\n",
      "33\n"
     ]
    }
   ],
   "source": [
    "for temp in [11,22,33]:\n",
    "    print(temp)"
   ]
  },
  {
   "cell_type": "code",
   "execution_count": 5,
   "metadata": {},
   "outputs": [
    {
     "ename": "TypeError",
     "evalue": "'int' object is not iterable",
     "output_type": "error",
     "traceback": [
      "\u001b[1;31m---------------------------------------------------------------------------\u001b[0m",
      "\u001b[1;31mTypeError\u001b[0m                                 Traceback (most recent call last)",
      "\u001b[1;32m<ipython-input-5-87f64cb0b1c9>\u001b[0m in \u001b[0;36m<module>\u001b[1;34m\u001b[0m\n\u001b[1;32m----> 1\u001b[1;33m \u001b[1;32mfor\u001b[0m \u001b[0mtemp\u001b[0m \u001b[1;32min\u001b[0m \u001b[1;36m100\u001b[0m\u001b[1;33m:\u001b[0m\u001b[1;33m\u001b[0m\u001b[1;33m\u001b[0m\u001b[0m\n\u001b[0m\u001b[0;32m      2\u001b[0m     \u001b[0mprint\u001b[0m\u001b[1;33m(\u001b[0m\u001b[0mtemp\u001b[0m\u001b[1;33m)\u001b[0m\u001b[1;33m\u001b[0m\u001b[1;33m\u001b[0m\u001b[0m\n",
      "\u001b[1;31mTypeError\u001b[0m: 'int' object is not iterable"
     ]
    }
   ],
   "source": [
    "for temp in 100:\n",
    "    print(temp)"
   ]
  },
  {
   "cell_type": "code",
   "execution_count": 12,
   "metadata": {},
   "outputs": [
    {
     "data": {
      "text/plain": [
       "False"
      ]
     },
     "execution_count": 12,
     "metadata": {},
     "output_type": "execute_result"
    }
   ],
   "source": [
    "from collections import Iterable\n",
    "isinstance([11,22,33],Iterable)\n",
    "isinstance('12sdfs',Iterable)\n",
    "isinstance((11,2,3),Iterable)\n",
    "isinstance(111,Iterable)"
   ]
  },
  {
   "cell_type": "code",
   "execution_count": 9,
   "metadata": {
    "collapsed": true
   },
   "outputs": [
    {
     "name": "stdout",
     "output_type": "stream",
     "text": [
      "['老王', '网二', '例题']\n",
      "判断classmate是否是可以迭代的对象：  True\n",
      "判断classmate_iterator是否是迭代器:  True\n",
      "None\n"
     ]
    },
    {
     "data": {
      "text/plain": [
       "'\\nfor temp in xxx_obj:\\n    pass\\n1. 判断xxx_obj 是否是可以迭代\\n2. 在第1步成立的前提下，调用iter()函数，得到xxx_obj 对象的\\n   __iter__方法的返回值\\n3. 得到 __iter__ 方法的返回值 是一个 迭代器\\n'"
      ]
     },
     "execution_count": 9,
     "metadata": {},
     "output_type": "execute_result"
    }
   ],
   "source": [
    "from collections import Iterable\n",
    "from collections import Iterator\n",
    "class Classmates(object):\n",
    "    \n",
    "    def __init__(self):\n",
    "        self.names = list()\n",
    "        \n",
    "        \n",
    "    def add(self,name):\n",
    "        self.names.append(name)\n",
    "        \n",
    "    \n",
    "    def __iter__(self):\n",
    "        '''\n",
    "        如果想要一个对象成为一个 可以迭代的对象，既可以使用for，那么必须实现__iter__方法\n",
    "        :return: \n",
    "        '''\n",
    "        return ClassInterator()\n",
    "        \n",
    "    \n",
    "class ClassInterator(object):\n",
    "    def __iter__(self):\n",
    "        pass\n",
    "    \n",
    "    def __next__(self):\n",
    "        pass\n",
    "        \n",
    "        \n",
    "classmate = Classmates() # 可以迭代的对象\n",
    "\n",
    "classmate.add('老王')\n",
    "classmate.add('网二')\n",
    "classmate.add('例题')\n",
    "print(classmate.names)\n",
    "\n",
    "\n",
    "\n",
    "print('判断classmate是否是可以迭代的对象： ',isinstance(classmate,Iterable))\n",
    "classmate_iterator = iter(classmate)\n",
    "print('判断classmate_iterator是否是迭代器: ',isinstance(classmate_iterator,Iterator))\n",
    "print(next(classmate_iterator))\n",
    "\n",
    "'''\n",
    "for temp in xxx_obj:\n",
    "    pass\n",
    "1. 判断xxx_obj 是否是可以迭代\n",
    "2. 在第1步成立的前提下，调用iter()函数，得到xxx_obj 对象的\n",
    "   __iter__方法的返回值\n",
    "3. 得到 __iter__ 方法的返回值 是一个 迭代器\n",
    "'''\n",
    "# for name in classmate:\n",
    "    # print(name)"
   ]
  },
  {
   "cell_type": "code",
   "execution_count": 17,
   "metadata": {
    "collapsed": true
   },
   "outputs": [
    {
     "name": "stdout",
     "output_type": "stream",
     "text": [
      "['老王', '网二', '例题']\n",
      "判断classmate是否是可以迭代的对象：  True\n",
      "判断classmate_iterator是否是迭代器:  True\n",
      "老王\n",
      "网二\n",
      "例题\n"
     ]
    }
   ],
   "source": [
    "from collections import Iterable\n",
    "from collections import Iterator\n",
    "import time\n",
    "class Classmates(object):\n",
    "    \n",
    "    def __init__(self):\n",
    "        self.names = list()\n",
    "        \n",
    "        \n",
    "    def add(self,name):\n",
    "        self.names.append(name)\n",
    "        \n",
    "    \n",
    "    def __iter__(self):\n",
    "        '''\n",
    "        如果想要一个对象成为一个 可以迭代的对象，既可以使用for，那么必须实现__iter__方法\n",
    "        :return: \n",
    "        '''\n",
    "        return ClassInterator(self)\n",
    "        \n",
    "    \n",
    "class ClassInterator(object):\n",
    "    \n",
    "    def __init__(self,obj):\n",
    "        self.obj = obj\n",
    "        self.current_num = 0\n",
    "    \n",
    "    def __iter__(self):\n",
    "        pass\n",
    "    \n",
    "    def __next__(self):\n",
    "        if self.current_num < len(self.obj.names):\n",
    "            ret = self.obj.names[self.current_num]\n",
    "            self.current_num+=1\n",
    "            return ret \n",
    "        else:\n",
    "            raise StopIteration\n",
    "        \n",
    "        \n",
    "classmate = Classmates() # 可以迭代的对象\n",
    "\n",
    "classmate.add('老王')\n",
    "classmate.add('网二')\n",
    "classmate.add('例题')\n",
    "print(classmate.names)\n",
    "\n",
    "\n",
    "\n",
    "print('判断classmate是否是可以迭代的对象： ',isinstance(classmate,Iterable))\n",
    "classmate_iterator = iter(classmate)\n",
    "print('判断classmate_iterator是否是迭代器: ',isinstance(classmate_iterator,Iterator))\n",
    "# print(next(classmate_iterator))\n",
    "\n",
    "'''\n",
    "for temp in xxx_obj:\n",
    "    pass\n",
    "1. 判断xxx_obj 是否是可以迭代\n",
    "2. 在第1步成立的前提下，调用iter()函数，得到xxx_obj 对象的\n",
    "   __iter__方法的返回值\n",
    "3. 得到 __iter__ 方法的返回值 是一个 迭代器\n",
    "'''\n",
    "for name in classmate:\n",
    "    print(name)\n",
    "    time.sleep(1)"
   ]
  },
  {
   "cell_type": "code",
   "execution_count": 18,
   "metadata": {},
   "outputs": [
    {
     "name": "stdout",
     "output_type": "stream",
     "text": [
      "['老王', '网二', '例题']\n",
      "判断classmate是否是可以迭代的对象：  True\n",
      "判断classmate_iterator是否是迭代器:  True\n",
      "老王\n",
      "网二\n",
      "例题\n"
     ]
    }
   ],
   "source": [
    "from collections import Iterable\n",
    "from collections import Iterator\n",
    "import time\n",
    "class Classmates(object):\n",
    "    \n",
    "    def __init__(self):\n",
    "        self.names = list()\n",
    "        self.current_num = 0\n",
    "        \n",
    "        \n",
    "    def add(self,name):\n",
    "        self.names.append(name)\n",
    "        \n",
    "    \n",
    "    def __iter__(self):\n",
    "        '''\n",
    "        如果想要一个对象成为一个 可以迭代的对象，既可以使用for，那么必须实现__iter__方法\n",
    "        :return: \n",
    "        '''\n",
    "        return self\n",
    "    \n",
    "    def __next__(self):\n",
    "        if self.current_num < len(self.names):\n",
    "            ret = self.names[self.current_num]\n",
    "            self.current_num+=1\n",
    "            return ret \n",
    "        else:\n",
    "            raise StopIteration\n",
    "        \n",
    "        \n",
    "classmate = Classmates() # 可以迭代的对象\n",
    "\n",
    "classmate.add('老王')\n",
    "classmate.add('网二')\n",
    "classmate.add('例题')\n",
    "print(classmate.names)\n",
    "\n",
    "\n",
    "\n",
    "print('判断classmate是否是可以迭代的对象： ',isinstance(classmate,Iterable))\n",
    "classmate_iterator = iter(classmate)\n",
    "print('判断classmate_iterator是否是迭代器: ',isinstance(classmate_iterator,Iterator))\n",
    "# print(next(classmate_iterator))\n",
    "\n",
    "'''\n",
    "for temp in xxx_obj:\n",
    "    pass\n",
    "1. 判断xxx_obj 是否是可以迭代\n",
    "2. 在第1步成立的前提下，调用iter()函数，得到xxx_obj 对象的\n",
    "   __iter__方法的返回值\n",
    "3. 得到 __iter__ 方法的返回值 是一个 迭代器\n",
    "'''\n",
    "for name in classmate:\n",
    "    print(name)\n",
    "    time.sleep(1)"
   ]
  }
 ],
 "metadata": {
  "kernelspec": {
   "display_name": "Python 3",
   "language": "python",
   "name": "python3"
  },
  "language_info": {
   "codemirror_mode": {
    "name": "ipython",
    "version": 3
   },
   "file_extension": ".py",
   "mimetype": "text/x-python",
   "name": "python",
   "nbconvert_exporter": "python",
   "pygments_lexer": "ipython3",
   "version": "3.7.2"
  }
 },
 "nbformat": 4,
 "nbformat_minor": 1
}
