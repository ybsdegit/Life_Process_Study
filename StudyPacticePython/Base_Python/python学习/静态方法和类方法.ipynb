{
 "cells": [
  {
   "cell_type": "heading",
   "metadata": {
    "collapsed": true
   },
   "level": 1,
   "source": [
    "再论静态方法和类方法"
   ]
  },
  {
   "cell_type": "code",
   "execution_count": 8,
   "metadata": {},
   "outputs": [
    {
     "data": {
      "text/plain": [
       "'中国'"
      ]
     },
     "execution_count": 8,
     "metadata": {},
     "output_type": "execute_result"
    }
   ],
   "source": [
    "class Province(object):\n",
    "    # 类属性\n",
    "    country = '中国'\n",
    "    \n",
    "    def __init__(self, name):\n",
    "        # 实例属性\n",
    "        self.name = name \n",
    "        \n",
    "# 创建一个实例对象\n",
    "obj = Province('北京')\n",
    "# 直接访问实例属性\n",
    "obj.name\n",
    "# 直接访问类属性\n",
    "Province.country"
   ]
  },
  {
   "cell_type": "code",
   "execution_count": 11,
   "metadata": {},
   "outputs": [
    {
     "name": "stdout",
     "output_type": "stream",
     "text": [
      "实例方法\n类方法\n静态方法\n"
     ]
    }
   ],
   "source": [
    "# 2. 实例方法、静态方法和类方法\n",
    "\"\"\"\n",
    "方法包括：实例方法、静态方法和类方法，三种方法在内存中都归属于类，区别在于调用方式不同。\n",
    "\n",
    "实例方法：由对象调用；至少一个self参数；执行实例方法时，自动将调用该方法的对象赋值给self；\n",
    "类方法：由类调用； 至少一个cls参数；执行类方法时，自动将调用该方法的类赋值给cls；\n",
    "静态方法：由类调用；无默认参数；\n",
    "\"\"\"\n",
    "class Foo(object):\n",
    "    def __init__(self, name):\n",
    "        self.name = name\n",
    "        \n",
    "    def ord_func(self):\n",
    "        \"\"\"\n",
    "        定义实例方法，至少有一个self参数\n",
    "        :return: \n",
    "        \"\"\"\n",
    "        print('实例方法')\n",
    "    \n",
    "    @classmethod\n",
    "    def class_func(cls):\n",
    "        \"\"\"定义类方法，至少有一个cls参数\"\"\"\n",
    "        print('类方法')\n",
    "    \n",
    "    @staticmethod\n",
    "    def static_func():\n",
    "        \"\"\"定义静态方法， 无默认参数\"\"\"\n",
    "        print('静态方法')\n",
    "        \n",
    "\n",
    "f = Foo('中国')\n",
    "# 调用实例方法\n",
    "f.ord_func()\n",
    "\n",
    "# 调用类方法\n",
    "Foo.class_func()\n",
    "\n",
    "# 调用静态方法\n",
    "Foo.static_func()"
   ]
  },
  {
   "cell_type": "code",
   "execution_count": 15,
   "metadata": {},
   "outputs": [],
   "source": [
    "# ############### 定义 ###############\n",
    "class Foo:\n",
    "    def func(self):\n",
    "        pass\n",
    "\n",
    "    # 定义property属性\n",
    "    @property\n",
    "    def prop(self):\n",
    "        return 100\n",
    "\n",
    "# ############### 调用 ###############\n",
    "foo_obj = Foo()\n",
    "foo_obj.func()  # 调用实例方法\n",
    "s = foo_obj.prop  # 调用property属性"
   ]
  },
  {
   "cell_type": "code",
   "execution_count": 25,
   "metadata": {},
   "outputs": [
    {
     "ename": "IndentationError",
     "evalue": "unindent does not match any outer indentation level (<tokenize>, line 27)",
     "traceback": [
      "\u001b[1;36m  File \u001b[1;32m\"<tokenize>\"\u001b[1;36m, line \u001b[1;32m27\u001b[0m\n\u001b[1;33m    p = Pager(1)\u001b[0m\n\u001b[1;37m    ^\u001b[0m\n\u001b[1;31mIndentationError\u001b[0m\u001b[1;31m:\u001b[0m unindent does not match any outer indentation level\n"
     ],
     "output_type": "error"
    }
   ],
   "source": [
    "\"\"\"\n",
    "对于京东商城中显示电脑主机的列表页面，每次请求不可能把数据库中的所有内容都显示到页面上，而是通过分页的功能局部显示，所以在向数据库中请求数据时就要显示的指定获取从第m条到第n条的所有数据 这个分页的功能包括：\n",
    "\n",
    "根据用户请求的当前页和总数据条数计算出 m 和 n\n",
    "\n",
    "根据m 和 n 去数据库中请求数据\n",
    "\"\"\"\n",
    "class Pager:\n",
    "    def __init__(self, current_page):\n",
    "        # 当前请求的页码（第一页、第二页...）\n",
    "        self.current_page = current_page\n",
    "        # 每页默认显示10条数据\n",
    "        self.per_items = 10\n",
    "    \n",
    "    @property\n",
    "    def start(self):\n",
    "        val = (self.current_page - 1) * self.per_items\n",
    "        return val\n",
    "    \n",
    "    @property\n",
    "    def end(self):\n",
    "        val = self.current_page * self.per_items\n",
    "        return val\n",
    "    \n",
    "\n",
    "\n",
    " p = Pager(1)\n",
    " p.start\n",
    " p.end"
   ]
  },
  {
   "cell_type": "code",
   "execution_count": null,
   "metadata": {},
   "outputs": [],
   "source": []
  }
 ],
 "metadata": {
  "kernelspec": {
   "display_name": "Python 2",
   "language": "python",
   "name": "python2"
  },
  "language_info": {
   "codemirror_mode": {
    "name": "ipython",
    "version": 2
   },
   "file_extension": ".py",
   "mimetype": "text/x-python",
   "name": "python",
   "nbconvert_exporter": "python",
   "pygments_lexer": "ipython2",
   "version": "2.7.6"
  }
 },
 "nbformat": 4,
 "nbformat_minor": 0
}
