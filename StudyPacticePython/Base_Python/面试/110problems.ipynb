{
 "cells": [
  {
   "cell_type": "markdown",
   "metadata": {
    "collapsed": true
   },
   "source": [
    "## 1、一行代码实现1--100之和"
   ]
  },
  {
   "cell_type": "code",
   "execution_count": 84,
   "metadata": {},
   "outputs": [
    {
     "data": {
      "text/plain": [
       "5050"
      ]
     },
     "execution_count": 84,
     "metadata": {},
     "output_type": "execute_result"
    }
   ],
   "source": [
    "# 利用sum()函数求和\n",
    "sum(range(1, 101))"
   ]
  },
  {
   "cell_type": "markdown",
   "metadata": {},
   "source": [
    "## 2、如何在一个函数内部修改全局变量"
   ]
  },
  {
   "cell_type": "code",
   "execution_count": 85,
   "metadata": {},
   "outputs": [
    {
     "data": {
      "text/plain": [
       "4"
      ]
     },
     "execution_count": 85,
     "metadata": {},
     "output_type": "execute_result"
    }
   ],
   "source": [
    "# 函数内部global声明 修改全局变量\n",
    "a = 5\n",
    "def fn():\n",
    "    global a\n",
    "    a = 4\n",
    "fn()\n",
    "a"
   ]
  },
  {
   "cell_type": "markdown",
   "metadata": {},
   "source": [
    "## 3、列出5个python标准库"
   ]
  },
  {
   "cell_type": "code",
   "execution_count": 86,
   "metadata": {},
   "outputs": [
    {
     "data": {
      "text/plain": [
       "'\\nos: 提供与操作系统相关联的函数\\nsys：通常用于命令行参数\\nre : 正则匹配\\nmath：数学运算\\ndatetime：处理日期时间\\nrequest ：HTTP请求\\netree : xpath 解析库\\njieba : 分词\\ncollections : \\npyqt5 : \\nflask:\\njupyter:\\nBeautifulSoup\\npymongo\\n...\\n'"
      ]
     },
     "execution_count": 86,
     "metadata": {},
     "output_type": "execute_result"
    }
   ],
   "source": [
    "'''\n",
    "os: 提供与操作系统相关联的函数\n",
    "sys：通常用于命令行参数\n",
    "re : 正则匹配\n",
    "math：数学运算\n",
    "datetime：处理日期时间\n",
    "request ：HTTP请求\n",
    "etree : xpath 解析库\n",
    "jieba : 分词\n",
    "collections : \n",
    "pyqt5 : \n",
    "flask:\n",
    "jupyter:\n",
    "BeautifulSoup\n",
    "pymongo\n",
    "...\n",
    "'''"
   ]
  },
  {
   "cell_type": "markdown",
   "metadata": {},
   "source": [
    "## 4、字典如何删除键和合并两个字典"
   ]
  },
  {
   "cell_type": "code",
   "execution_count": 87,
   "metadata": {},
   "outputs": [
    {
     "data": {
      "text/plain": [
       "{'age': '18', 'name': 'weiyuanbao'}"
      ]
     },
     "execution_count": 87,
     "metadata": {},
     "output_type": "execute_result"
    }
   ],
   "source": [
    "# del和update方法\n",
    "dic = {'name': 'zs', 'age': '18'}\n",
    "del dic['name']\n",
    "dic\n",
    "dic2 = {'name': 'weiyuanbao'}\n",
    "dic.update(dic2)\n",
    "dic"
   ]
  },
  {
   "cell_type": "markdown",
   "metadata": {},
   "source": [
    "## 5、谈下python的GIL"
   ]
  },
  {
   "cell_type": "code",
   "execution_count": 88,
   "metadata": {},
   "outputs": [
    {
     "data": {
      "text/plain": [
       "'\\nGIL 是python的全局解释器锁，同一进程中假如有多个线程运行，一个线程在运行python程序的时候会霸占python解释器（加了一把锁即GIL），使该进程内的其他线程无法运行，等该线程运行完后其他线程才能运行。如果线程运行过程中遇到耗时操作，则解释器锁解开，使其他线程运行。所以在多线程中，线程的运行仍是有先后顺序的，并不是同时进行。\\n多进程中因为每个进程都能被系统分配资源，相当于每个进程有了一个python解释器，所以多进程可以实现多个进程的同时运行，缺点是进程系统资源开销大\\n'"
      ]
     },
     "execution_count": 88,
     "metadata": {},
     "output_type": "execute_result"
    }
   ],
   "source": [
    "'''\n",
    "GIL 是python的全局解释器锁，同一进程中假如有多个线程运行，一个线程在运行python程序的时候会霸占python解释器（加了一把锁即GIL），使该进程内的其他线程无法运行，等该线程运行完后其他线程才能运行。如果线程运行过程中遇到耗时操作，则解释器锁解开，使其他线程运行。所以在多线程中，线程的运行仍是有先后顺序的，并不是同时进行。\n",
    "多进程中因为每个进程都能被系统分配资源，相当于每个进程有了一个python解释器，所以多进程可以实现多个进程的同时运行，缺点是进程系统资源开销大\n",
    "'''"
   ]
  },
  {
   "cell_type": "markdown",
   "metadata": {},
   "source": [
    "## 6、python实现列表去重的方法"
   ]
  },
  {
   "cell_type": "code",
   "execution_count": 89,
   "metadata": {},
   "outputs": [
    {
     "name": "stdout",
     "output_type": "stream",
     "text": [
      "{11, 12, 13, 15, 16, 18, 21}\n"
     ]
    },
    {
     "data": {
      "text/plain": [
       "[11, 12, 13, 15, 16, 18, 21]"
      ]
     },
     "execution_count": 89,
     "metadata": {},
     "output_type": "execute_result"
    }
   ],
   "source": [
    "# 先通过集合去重，在转列表\n",
    "list1 = [11, 11, 21, 12, 13, 12, 15, 18, 16, 12]\n",
    "a = set(list1)  # 集合去重\n",
    "print(a)\n",
    "[x for x in a]"
   ]
  },
  {
   "cell_type": "markdown",
   "metadata": {},
   "source": [
    "## 7、fun(*args,**kwargs)中的*args,**kwargs什么意思？"
   ]
  },
  {
   "cell_type": "markdown",
   "metadata": {},
   "source": [
    "![image.png](attachment:image.png)"
   ]
  },
  {
   "cell_type": "markdown",
   "metadata": {},
   "source": [
    "![image.png](attachment:image.png)"
   ]
  },
  {
   "cell_type": "code",
   "execution_count": 90,
   "metadata": {},
   "outputs": [
    {
     "name": "stdout",
     "output_type": "stream",
     "text": [
      "name:gjcx\n"
     ]
    }
   ],
   "source": [
    "# ** kwargs\n",
    "def demo(**args_v):\n",
    "    for k, v in args_v.items():\n",
    "        print (k + ':' + v)\n",
    "demo(name='gjcx')"
   ]
  },
  {
   "cell_type": "markdown",
   "metadata": {},
   "source": [
    "## 8、python2和python3的range（100）的区别\n",
    "### python2返回列表，python3返回迭代器，节约内存"
   ]
  },
  {
   "cell_type": "markdown",
   "metadata": {},
   "source": [
    "## 9、一句话解释什么样的语言能够用装饰器?\n",
    "### 函数可以作为参数传递的语言，可以使用装饰器"
   ]
  },
  {
   "cell_type": "markdown",
   "metadata": {},
   "source": [
    "## 10、python内建数据类型有哪些\n",
    "### 整型--int\n",
    "### 布尔型--bool\n",
    "### 字符串--str\n",
    "### 列表--list\n",
    "### 元组--tuple\n",
    "### 字典--dict"
   ]
  },
  {
   "cell_type": "markdown",
   "metadata": {},
   "source": [
    "## 11、简述面向对象中__new__和__init__区别\n",
    "### __init__是初始化方法，创建对象后，就立刻被默认调用了，可接收参数，如图\n",
    "![image.png](attachment:image.png)\n",
    "### 1、__new__至少要有一个参数cls，代表当前类，此参数在实例化时由Python解释器自动识别\n",
    "### 2、__new__必须要有返回值，返回实例化出来的实例，这点在自己实现__new__时要特别注意，可以return父类（通过super(当前类名, cls)）__new__出来的实例，或者直接是object的__new__出来的实例\n",
    "### 3、__init__有一个参数self，就是这个__new__返回的实例，__init__在__new__的基础上可以完成一些其它初始化的动作，__init__不需要返回值\n",
    "### 4、如果__new__创建的是当前类的实例，会自动调用__init__函数，通过return语句里面调用的__new__函数的第一个参数是cls来保证是当前类实例，如果是其他类的类名，；那么实际创建返回的就是其他类的实例，其实就不会调用当前类的__init__函数，也不会调用其他类的__init__函数。"
   ]
  },
  {
   "cell_type": "code",
   "execution_count": 91,
   "metadata": {},
   "outputs": [
    {
     "name": "stdout",
     "output_type": "stream",
     "text": [
      "这是 cls 的 id 1856874394392\n",
      "这是 new 方法 <__main__.A object at 0x000001B064EB2128>\n",
      "这是 init 方法 <__main__.A object at 0x000001B064EB2128>\n",
      "这是A的id 1856874394392\n"
     ]
    },
    {
     "data": {
      "text/plain": [
       "'\\ncls 和 类 id 一样，说明指向同一个类，也就是cls创建的实例类\\ninit方法中的self 和 new方法返回地址一样，说明返回值是对象\\n'"
      ]
     },
     "execution_count": 91,
     "metadata": {},
     "output_type": "execute_result"
    }
   ],
   "source": [
    "class A(object):\n",
    "    def __init__(self):\n",
    "        print('这是 init 方法', self)\n",
    "        \n",
    "    def __new__(cls):\n",
    "        print('这是 cls 的 id', id(cls))\n",
    "        print('这是 new 方法',object.__new__(cls))\n",
    "        return object.__new__(cls)\n",
    "\n",
    "A()\n",
    "print('这是A的id', id(A))\n",
    "\n",
    "'''\n",
    "cls 和 类 id 一样，说明指向同一个类，也就是cls创建的实例类\n",
    "init方法中的self 和 new方法返回地址一样，说明返回值是对象\n",
    "'''"
   ]
  },
  {
   "cell_type": "markdown",
   "metadata": {},
   "source": [
    "## 12、简述with方法打开处理文件帮我我们做了什么？\n",
    "![image.png](attachment:image.png)"
   ]
  },
  {
   "cell_type": "markdown",
   "metadata": {},
   "source": [
    "### 打开文件在进行读写的时候可能会出现一些异常状况，如果按照常规的f.open写法，我们需要try,except,finally，做异常判断，并且文件最终不管遇到什么情况，都要执行finally f.close()关闭文件，with方法帮我们实现了finally中f.close（当然还有其他自定义功能，有兴趣可以研究with方法源码）\n"
   ]
  },
  {
   "cell_type": "markdown",
   "metadata": {},
   "source": [
    "### 13、列表[1,2,3,4,5],请使用map()函数输出[1,4,9,16,25]，并使用列表推导式提取出大于10的数，最终输出[16,25]"
   ]
  },
  {
   "cell_type": "code",
   "execution_count": 92,
   "metadata": {},
   "outputs": [
    {
     "name": "stdout",
     "output_type": "stream",
     "text": [
      "[16, 25]\n"
     ]
    }
   ],
   "source": [
    "# map（）函数第一个参数是fun，第二个参数是一般是list，第三个参数可以写list，也可以不写，根据需求\n",
    "lis = [1,2,3,4,5]\n",
    "def fn(x):\n",
    "    return x ** 2\n",
    "\n",
    "res = map(fn, lis)\n",
    "# print([i for i in res])\n",
    "res = [i for i in res if i > 10]\n",
    "print(res)"
   ]
  },
  {
   "cell_type": "markdown",
   "metadata": {},
   "source": [
    "## 14、python中生成随机整数、随机小数、0--1之间小数方法\n",
    "### 随机整数：random.randint(a,b),生成区间内的整数\n",
    "### 随机小数：习惯用numpy库，利用np.random.randn(5)生成5个随机小数\n",
    "### 0-1随机小数：random.random(),括号中不传参"
   ]
  },
  {
   "cell_type": "code",
   "execution_count": 93,
   "metadata": {},
   "outputs": [
    {
     "name": "stdout",
     "output_type": "stream",
     "text": [
      "正整数 13\n",
      "5个随机小数 [-0.59490283  0.24374954  0.02725655 -0.34464808  0.99078683]\n",
      "0-1随机小数 0.3904611150193802\n"
     ]
    }
   ],
   "source": [
    "import random\n",
    "import numpy as np\n",
    "result = random.randint(10, 20)\n",
    "res = np.random.randn(5)\n",
    "ret = random.random()\n",
    "print('正整数', result)\n",
    "print('5个随机小数', res)\n",
    "print('0-1随机小数', ret)"
   ]
  },
  {
   "cell_type": "markdown",
   "metadata": {},
   "source": [
    "### 15、避免转义给字符串加哪个字母表示原始字符串？\n",
    "\n",
    "r , 表示需要原始字符串，不转义特殊字符"
   ]
  },
  {
   "cell_type": "markdown",
   "metadata": {},
   "source": [
    "### 16、用正则匹配出标签里面的内容（“中国”），其中class的类名是不确定的"
   ]
  },
  {
   "cell_type": "code",
   "execution_count": 94,
   "metadata": {},
   "outputs": [
    {
     "name": "stdout",
     "output_type": "stream",
     "text": [
      "['中国']\n"
     ]
    }
   ],
   "source": [
    "# <div class=\"nam\">中国</div>\n",
    "import re \n",
    "str = '<div class=\"nam\">中国</div>'\n",
    "res = re.findall(r'<div class=\".*\">(.*?)</div>', str)\n",
    "print(res)"
   ]
  },
  {
   "cell_type": "markdown",
   "metadata": {},
   "source": [
    "### 17、python中断言方法举例\n",
    "assert（）方法，断言成功，则程序继续执行，断言失败，则程序报错"
   ]
  },
  {
   "cell_type": "code",
   "execution_count": 95,
   "metadata": {},
   "outputs": [
    {
     "name": "stdout",
     "output_type": "stream",
     "text": [
      "断言成功，程序继续向下执行\n"
     ]
    },
    {
     "ename": "AssertionError",
     "evalue": "",
     "traceback": [
      "\u001b[1;31m---------------------------------------------------------------------------\u001b[0m",
      "\u001b[1;31mAssertionError\u001b[0m                            Traceback (most recent call last)",
      "\u001b[1;32m<ipython-input-95-1a23ff8ab093>\u001b[0m in \u001b[0;36m<module>\u001b[1;34m\u001b[0m\n\u001b[0;32m      4\u001b[0m \u001b[1;33m\u001b[0m\u001b[0m\n\u001b[0;32m      5\u001b[0m \u001b[0mb\u001b[0m \u001b[1;33m=\u001b[0m \u001b[1;36m4\u001b[0m\u001b[1;33m\u001b[0m\u001b[1;33m\u001b[0m\u001b[0m\n\u001b[1;32m----> 6\u001b[1;33m \u001b[1;32massert\u001b[0m\u001b[1;33m(\u001b[0m\u001b[0mb\u001b[0m\u001b[1;33m>\u001b[0m\u001b[1;36m7\u001b[0m\u001b[1;33m)\u001b[0m\u001b[1;33m\u001b[0m\u001b[1;33m\u001b[0m\u001b[0m\n\u001b[0m\u001b[0;32m      7\u001b[0m \u001b[0mprint\u001b[0m\u001b[1;33m(\u001b[0m\u001b[1;34m'断言失败，程序报错'\u001b[0m\u001b[1;33m)\u001b[0m\u001b[1;33m\u001b[0m\u001b[1;33m\u001b[0m\u001b[0m\n",
      "\u001b[1;31mAssertionError\u001b[0m: "
     ],
     "output_type": "error"
    }
   ],
   "source": [
    "a = 3\n",
    "assert(a>1)\n",
    "print('断言成功，程序继续向下执行')\n",
    "\n",
    "b = 4\n",
    "assert(b>7)\n",
    "print('断言失败，程序报错')"
   ]
  },
  {
   "cell_type": "markdown",
   "metadata": {},
   "source": [
    "### 18、数据表student有id,name,score,city字段，其中name中的名字可有重复，需要消除重复行,请写sql语句"
   ]
  },
  {
   "cell_type": "code",
   "execution_count": 96,
   "metadata": {},
   "outputs": [],
   "source": [
    "# select distinct name from student"
   ]
  },
  {
   "cell_type": "markdown",
   "metadata": {},
   "source": [
    "### 19、10个Linux常用命令\n",
    "ls  pwd  cd  touch  rm  mkdir  tree  cp  mv  cat  more  grep  echo "
   ]
  },
  {
   "cell_type": "markdown",
   "metadata": {},
   "source": [
    "### 20、python2和python3区别？列举5个\n",
    "* Python3 使用 print 必须要以小括号包裹打印内容，比如 print('hi') Python2 既可以使用带小括号的方式，也可以使用一个空格来分隔打印内容，比如 print 'hi'\n",
    "* python2 range(1,10)返回列表，python3中返回迭代器，节约内存\n",
    "* python2中使用ascii编码，python中使用utf-8编码\n",
    "* python2中unicode表示字符串序列，str表示字节序列python3中str表示字符串序列，byte表示字节序列\n",
    "* python2中为正常显示中文，引入coding声明，python3中不需要\n",
    "* python2中是raw_input()函数，python3中是input()函数"
   ]
  },
  {
   "cell_type": "markdown",
   "metadata": {},
   "source": [
    "### 21、列出python中可变数据类型和不可变数据类型，并简述原理\n",
    "* 不可变数据类型：数值型、字符串型string和元组tuple不允许变量的值发生变化，如果改变了变量的值，相当于是新建了一个对象，而对于相同的值的对象，在内存中则只有一个对象（一个地址），如下图用id()方法可以打印对象的id\n",
    "\n",
    "\n",
    "* 可变数据类型：列表list和字典dict；允许变量的值发生变化，即如果对变量进行append、+=等这种操作后，只是改变了变量的值，而不会新建一个对象，变量引用的对象的地址也不会变化，不过对于相同的值的不同对象，在内存中则会存在不同的对象，即每个对象都有自己的地址，相当于内存中对于同值的对象保存了多份，这里不存在引用计数，是实实在在的对象。"
   ]
  },
  {
   "cell_type": "code",
   "execution_count": 97,
   "metadata": {},
   "outputs": [
    {
     "name": "stdout",
     "output_type": "stream",
     "text": [
      "140735232652176\n",
      "140735232652176\n"
     ]
    }
   ],
   "source": [
    "a = 3\n",
    "b = 3\n",
    "print(id(a))\n",
    "print(id(b))"
   ]
  },
  {
   "cell_type": "code",
   "execution_count": 98,
   "metadata": {},
   "outputs": [
    {
     "name": "stdout",
     "output_type": "stream",
     "text": [
      "1857118967688\n",
      "1857118968456\n"
     ]
    }
   ],
   "source": [
    "a = [1, 2]\n",
    "b = [1, 2]\n",
    "print(id(a))\n",
    "print(id(b))"
   ]
  },
  {
   "cell_type": "markdown",
   "metadata": {},
   "source": [
    "### 22、s = \"ajldjlajfdljfddd\"，去重并从小到大排序输出\"adfjl\"\n",
    "set去重，去重转成list,利用sort方法排序，reverse=False是从小到大排\n",
    "list是可变数据类型，s.sort时候没有返回值，所以注释的代码写法不正确"
   ]
  },
  {
   "cell_type": "code",
   "execution_count": 105,
   "metadata": {},
   "outputs": [
    {
     "ename": "TypeError",
     "evalue": "'list' object is not callable",
     "traceback": [
      "\u001b[1;31m---------------------------------------------------------------------------\u001b[0m",
      "\u001b[1;31mTypeError\u001b[0m                                 Traceback (most recent call last)",
      "\u001b[1;32m<ipython-input-105-55540e82eacc>\u001b[0m in \u001b[0;36m<module>\u001b[1;34m\u001b[0m\n\u001b[0;32m      1\u001b[0m \u001b[0ms\u001b[0m \u001b[1;33m=\u001b[0m \u001b[1;34m\"ajldjlajfdljfddd\"\u001b[0m\u001b[1;33m\u001b[0m\u001b[1;33m\u001b[0m\u001b[0m\n\u001b[0;32m      2\u001b[0m \u001b[0ms\u001b[0m \u001b[1;33m=\u001b[0m \u001b[0mset\u001b[0m\u001b[1;33m(\u001b[0m\u001b[0ms\u001b[0m\u001b[1;33m)\u001b[0m\u001b[1;33m\u001b[0m\u001b[1;33m\u001b[0m\u001b[0m\n\u001b[1;32m----> 3\u001b[1;33m \u001b[0ms\u001b[0m\u001b[1;33m=\u001b[0m \u001b[0mlist\u001b[0m\u001b[1;33m(\u001b[0m\u001b[0ms\u001b[0m\u001b[1;33m)\u001b[0m\u001b[1;33m\u001b[0m\u001b[1;33m\u001b[0m\u001b[0m\n\u001b[0m\u001b[0;32m      4\u001b[0m \u001b[0mprint\u001b[0m\u001b[1;33m(\u001b[0m\u001b[0ms\u001b[0m\u001b[1;33m)\u001b[0m\u001b[1;33m\u001b[0m\u001b[1;33m\u001b[0m\u001b[0m\n\u001b[0;32m      5\u001b[0m \u001b[0ms\u001b[0m\u001b[1;33m.\u001b[0m\u001b[0msort\u001b[0m\u001b[1;33m(\u001b[0m\u001b[0mreverse\u001b[0m\u001b[1;33m=\u001b[0m\u001b[1;32mFalse\u001b[0m\u001b[1;33m)\u001b[0m\u001b[1;33m\u001b[0m\u001b[1;33m\u001b[0m\u001b[0m\n",
      "\u001b[1;31mTypeError\u001b[0m: 'list' object is not callable"
     ],
     "output_type": "error"
    }
   ],
   "source": [
    "s = \"ajldjlajfdljfddd\"\n",
    "s = set(s)\n",
    "s= list(s)\n",
    "print(s)\n",
    "s.sort(reverse=False)\n",
    "# s = s.sort(reverse=False)   # 错误，s.sort() 无返回值\n",
    "res = ''.join(s)\n",
    "print(res)"
   ]
  },
  {
   "cell_type": "markdown",
   "metadata": {},
   "source": [
    "### 23、用lambda函数实现两个数相乘"
   ]
  },
  {
   "cell_type": "code",
   "execution_count": 107,
   "metadata": {},
   "outputs": [
    {
     "name": "stdout",
     "output_type": "stream",
     "text": [
      "20\n"
     ]
    }
   ],
   "source": [
    "res = lambda a, b : a * b\n",
    "print(res(4, 5))"
   ]
  },
  {
   "cell_type": "markdown",
   "metadata": {},
   "source": [
    "### 24、字典根据键从小到大排序\n",
    "dic={\"name\":\"zs\",\"age\":18,\"city\":\"深圳\",\"tel\":\"1362626627\"}"
   ]
  },
  {
   "cell_type": "code",
   "execution_count": 112,
   "metadata": {},
   "outputs": [
    {
     "data": {
      "text/plain": [
       "{'age': 18, 'city': '深圳', 'name': 'zs', 'tel': '1362626627'}"
      ]
     },
     "execution_count": 112,
     "metadata": {},
     "output_type": "execute_result"
    }
   ],
   "source": [
    "dic={\"name\":\"zs\",\"age\":18,\"city\":\"深圳\",\"tel\":\"1362626627\"}\n",
    "lis = sorted(dic.items(), key=lambda i: i[0], reverse=False)\n",
    "lis\n",
    "dict(lis)"
   ]
  },
  {
   "cell_type": "markdown",
   "metadata": {},
   "source": [
    "### 25、利用collections库的Counter方法统计字符串每个单词出现的次数\"kjalfj;ldsjafl;hdsllfdhg;lahfbl;hl;ahlf;h\""
   ]
  },
  {
   "cell_type": "code",
   "execution_count": 115,
   "metadata": {},
   "outputs": [
    {
     "data": {
      "text/plain": [
       "Counter({'k': 1,\n",
       "         'j': 3,\n",
       "         'a': 4,\n",
       "         'l': 9,\n",
       "         'f': 5,\n",
       "         ';': 6,\n",
       "         'd': 3,\n",
       "         's': 2,\n",
       "         'h': 6,\n",
       "         'g': 1,\n",
       "         'b': 1})"
      ]
     },
     "execution_count": 115,
     "metadata": {},
     "output_type": "execute_result"
    }
   ],
   "source": [
    "from collections import Counter\n",
    "a = \"kjalfj;ldsjafl;hdsllfdhg;lahfbl;hl;ahlf;h\"\n",
    "res = Counter(a)\n",
    "res"
   ]
  },
  {
   "cell_type": "markdown",
   "metadata": {},
   "source": [
    "### 26、字符串a = \"not 404 found 张三 99 深圳\"，每个词中间是空格，用正则过滤掉英文和数字，最终输出\"张三  深圳\""
   ]
  },
  {
   "cell_type": "code",
   "execution_count": 118,
   "metadata": {},
   "outputs": [
    {
     "name": "stdout",
     "output_type": "stream",
     "text": [
      "['not', '404', 'found', '张三', '99', '深圳']\n",
      "['not', '404', 'found', '99']\n",
      "张三 深圳\n"
     ]
    }
   ],
   "source": [
    "import re\n",
    "a = \"not 404 found 张三 99 深圳\"\n",
    "list_a = a.split(' ')\n",
    "print(list_a)\n",
    "res = re.findall('\\d+|[a-zA-Z]+', a)  # 匹配数字和字母\n",
    "for i in res:\n",
    "    if i in list_a:\n",
    "        list_a.remove(i)\n",
    "new_str = ' '.join(list_a)\n",
    "print(res)\n",
    "print(new_str)"
   ]
  },
  {
   "cell_type": "code",
   "execution_count": 122,
   "metadata": {
    "scrolled": false
   },
   "outputs": [
    {
     "name": "stdout",
     "output_type": "stream",
     "text": [
      "['not', '404', '50.6', 'found', '张三', '99', '深圳']\n",
      "['not', '404', '50.6', 'found', '99']\n",
      "张三 深圳\n"
     ]
    }
   ],
   "source": [
    "import re\n",
    "a = \"not 404 50.6 found 张三 99 深圳\"\n",
    "list_a = a.split(' ')\n",
    "print(list_a)\n",
    "res = re.findall('[a-zA-Z]+|\\d+\\.?\\d*', a)  # 匹配小数和字母\n",
    "for i in res:\n",
    "    if i in list_a:\n",
    "        list_a.remove(i)\n",
    "new_str = ' '.join(list_a)\n",
    "print(res)\n",
    "print(new_str)"
   ]
  },
  {
   "cell_type": "markdown",
   "metadata": {},
   "source": [
    "### 27、filter方法求出列表所有奇数并构造新列表，a =  [1, 2, 3, 4, 5, 6, 7, 8, 9, 10]"
   ]
  },
  {
   "cell_type": "code",
   "execution_count": 124,
   "metadata": {},
   "outputs": [
    {
     "name": "stdout",
     "output_type": "stream",
     "text": [
      "[1, 3, 5, 7, 9]\n"
     ]
    }
   ],
   "source": [
    "a = [1, 2, 3, 4, 5, 6, 7, 8, 9, 10]\n",
    "def fn(a):\n",
    "    return a%2 == 1\n",
    "newlist = filter(fn, a)\n",
    "newlist = [i for i in newlist]\n",
    "print(newlist)"
   ]
  },
  {
   "cell_type": "markdown",
   "metadata": {},
   "source": [
    "### 28、列表推导式求列表所有奇数并构造新列表，a =  [1, 2, 3, 4, 5, 6, 7, 8, 9, 10]"
   ]
  },
  {
   "cell_type": "code",
   "execution_count": 126,
   "metadata": {},
   "outputs": [
    {
     "name": "stdout",
     "output_type": "stream",
     "text": [
      "[1, 3, 5, 7, 9]\n"
     ]
    }
   ],
   "source": [
    "res = [i for i in a if i%2==1]\n",
    "print(res)"
   ]
  },
  {
   "cell_type": "markdown",
   "metadata": {},
   "source": [
    "### 29、正则re.complie作用\n",
    "re.compile是将正则表达式编译成一个对象，加快速度，并重复使用"
   ]
  },
  {
   "cell_type": "markdown",
   "metadata": {},
   "source": [
    "### 30、a=（1，）b=(1)，c=(\"1\") 分别是什么类型的数据？"
   ]
  },
  {
   "cell_type": "code",
   "execution_count": 131,
   "metadata": {},
   "outputs": [
    {
     "name": "stdout",
     "output_type": "stream",
     "text": [
      "<class 'int'>\n",
      "<class 'str'>\n"
     ]
    },
    {
     "data": {
      "text/plain": [
       "tuple"
      ]
     },
     "execution_count": 131,
     "metadata": {},
     "output_type": "execute_result"
    }
   ],
   "source": [
    "print(type(1))\n",
    "print(type(\"1\"))\n",
    "type((1,))"
   ]
  },
  {
   "cell_type": "markdown",
   "metadata": {},
   "source": [
    "### 31、两个列表[1,5,7,9]和[2,2,6,8]合并为[1,2,2,3,6,7,8,9]\n",
    "extend可以将另一个集合中的元素逐一添加到列表中，区别于append整体添加"
   ]
  },
  {
   "cell_type": "code",
   "execution_count": 136,
   "metadata": {},
   "outputs": [
    {
     "name": "stdout",
     "output_type": "stream",
     "text": [
      "[1, 5, 7, 9, 2, 2, 6, 8]\n",
      "[1, 2, 2, 5, 6, 7, 8, 9]\n"
     ]
    }
   ],
   "source": [
    "list1 = [1, 5, 7, 9]\n",
    "list2 = [2, 2, 6, 8]\n",
    "list1.extend(list2)  # 合并\n",
    "print(list1)\n",
    "\n",
    "list1.sort(reverse=False)  # 排序\n",
    "print(list1)"
   ]
  },
  {
   "cell_type": "markdown",
   "metadata": {},
   "source": [
    "### 32、用python删除文件和用linux命令删除文件方法\n",
    "python：os.remove(文件名)\n",
    "linux:       rm  文件名"
   ]
  },
  {
   "cell_type": "markdown",
   "metadata": {},
   "source": [
    "### 33、log日志中，我们需要用时间戳记录error,warning等的发生时间，请用datetime模块打印当前时间戳 “2018-04-01 11:38:54”"
   ]
  },
  {
   "cell_type": "code",
   "execution_count": 144,
   "metadata": {},
   "outputs": [
    {
     "ename": "TypeError",
     "evalue": "'str' object is not callable",
     "traceback": [
      "\u001b[1;31m---------------------------------------------------------------------------\u001b[0m",
      "\u001b[1;31mTypeError\u001b[0m                                 Traceback (most recent call last)",
      "\u001b[1;32m<ipython-input-144-02fbc587134a>\u001b[0m in \u001b[0;36m<module>\u001b[1;34m\u001b[0m\n\u001b[0;32m      1\u001b[0m \u001b[1;32mimport\u001b[0m \u001b[0mdatetime\u001b[0m\u001b[1;33m\u001b[0m\u001b[1;33m\u001b[0m\u001b[0m\n\u001b[1;32m----> 2\u001b[1;33m \u001b[0ma\u001b[0m \u001b[1;33m=\u001b[0m \u001b[0mstr\u001b[0m\u001b[1;33m(\u001b[0m\u001b[0mdatetime\u001b[0m\u001b[1;33m.\u001b[0m\u001b[0mdatetime\u001b[0m\u001b[1;33m.\u001b[0m\u001b[0mnow\u001b[0m\u001b[1;33m(\u001b[0m\u001b[1;33m)\u001b[0m\u001b[1;33m.\u001b[0m\u001b[0mstrftime\u001b[0m\u001b[1;33m(\u001b[0m\u001b[1;34m'%Y-%m-%d %H:%H:%S'\u001b[0m\u001b[1;33m)\u001b[0m\u001b[1;33m)\u001b[0m\u001b[1;33m\u001b[0m\u001b[1;33m\u001b[0m\u001b[0m\n\u001b[0m\u001b[0;32m      3\u001b[0m \u001b[0mprint\u001b[0m\u001b[1;33m(\u001b[0m\u001b[0ma\u001b[0m\u001b[1;33m)\u001b[0m\u001b[1;33m\u001b[0m\u001b[1;33m\u001b[0m\u001b[0m\n",
      "\u001b[1;31mTypeError\u001b[0m: 'str' object is not callable"
     ],
     "output_type": "error"
    }
   ],
   "source": [
    "import datetime\n",
    "a = str(datetime.datetime.now().strftime('%Y-%m-%d %H:%H:%S'))\n",
    "print(a)"
   ]
  },
  {
   "cell_type": "markdown",
   "metadata": {},
   "source": [
    "### 34、数据库优化查询方法\n",
    "外键、索引、联合查询、选择特定字段等等"
   ]
  },
  {
   "cell_type": "markdown",
   "metadata": {},
   "source": [
    "### 35、请列出你会的任意一种统计图（条形图、折线图等）绘制的开源库，第三方也行\n",
    "pychart、matplotlib"
   ]
  },
  {
   "cell_type": "markdown",
   "metadata": {},
   "source": [
    "### 36、写一段自定义异常代码\n",
    "自定义异常用raise抛出异常"
   ]
  },
  {
   "cell_type": "code",
   "execution_count": 148,
   "metadata": {},
   "outputs": [
    {
     "name": "stdout",
     "output_type": "stream",
     "text": [
      "数字大于2\n"
     ]
    }
   ],
   "source": [
    "def fn():\n",
    "    try:\n",
    "        for i in range(5):\n",
    "            if i > 2:\n",
    "                raise Exception(\"数字大于2\")\n",
    "    except Exception as ret:\n",
    "        print(ret)\n",
    "fn()"
   ]
  },
  {
   "cell_type": "markdown",
   "metadata": {},
   "source": [
    "### 37、正则表达式匹配中，（.\\*）和（.\\*?）匹配区别？\n",
    "（.\\*）是贪婪匹配，会把满足正则的尽可能多的往后匹配\n",
    "\n",
    "（.\\*?）是非贪婪匹配，会把满足正则的尽可能少匹配"
   ]
  },
  {
   "cell_type": "markdown",
   "metadata": {},
   "source": [
    "### 38、简述Django的orm\n",
    "* ORM，全拼Object-Relation Mapping，意为对象-关系映射实现了数据模型与数据库的解耦，通过简单的配置就可以轻松更换数据库，而不需要修改代码只需要面向对象编程,orm操作本质上会根据对接的数据库引擎，翻译成对应的sql语句,所有使用Django开发的项目无需关心程序底层使用的是MySQL、Oracle、sqlite....，如果数据库迁移，只需要更换Django的数据库引擎即可\n",
    "\n",
    "![image.png](attachment:image.png)"
   ]
  },
  {
   "cell_type": "markdown",
   "metadata": {},
   "source": [
    "### 39、[[1,2],[3,4],[5,6]]一行代码展开该列表，得出[1,2,3,4,5,6]\n",
    "#### 列表推导式的操作"
   ]
  },
  {
   "cell_type": "code",
   "execution_count": 152,
   "metadata": {},
   "outputs": [
    {
     "name": "stdout",
     "output_type": "stream",
     "text": [
      "[1, 2, 3, 4, 5, 6]\n"
     ]
    }
   ],
   "source": [
    "a = [[1,2],[3,4],[5,6]]\n",
    "x = [j for i in a for j in i]\n",
    "print(x)"
   ]
  },
  {
   "cell_type": "markdown",
   "metadata": {},
   "source": [
    "#### numpy的操作"
   ]
  },
  {
   "cell_type": "code",
   "execution_count": 155,
   "metadata": {},
   "outputs": [
    {
     "name": "stdout",
     "output_type": "stream",
     "text": [
      "[1, 2, 3, 4, 5, 6]\n"
     ]
    }
   ],
   "source": [
    "import numpy as np\n",
    "b = np.array(a).flatten().tolist()\n",
    "print(b)"
   ]
  },
  {
   "cell_type": "markdown",
   "metadata": {},
   "source": [
    "### 40、x=\"abc\",y=\"def\",z=[\"d\",\"e\",\"f\"],分别求出x.join(y)和x.join(z)返回的结果"
   ]
  },
  {
   "cell_type": "code",
   "execution_count": 159,
   "metadata": {},
   "outputs": [
    {
     "data": {
      "text/plain": [
       "'d e f'"
      ]
     },
     "execution_count": 159,
     "metadata": {},
     "output_type": "execute_result"
    }
   ],
   "source": [
    "x = 'abc'\n",
    "y = 'def'\n",
    "z = ['d', 'e', 'f']\n",
    "x.join(y)\n",
    "x.join(z)\n",
    "' '.join(y)"
   ]
  },
  {
   "cell_type": "markdown",
   "metadata": {},
   "source": [
    "### 41、举例说明异常模块中try except else finally的相关意义\n",
    "try..except..else没有捕获到异常，执行else语句\n",
    "\n",
    "try..except..finally不管是否捕获到异常，都执行finally语句"
   ]
  },
  {
   "cell_type": "markdown",
   "metadata": {},
   "source": [
    "### 42、python中交换两个数值"
   ]
  },
  {
   "cell_type": "code",
   "execution_count": 161,
   "metadata": {},
   "outputs": [
    {
     "name": "stdout",
     "output_type": "stream",
     "text": [
      "3 4\n",
      "4 3\n"
     ]
    }
   ],
   "source": [
    "a, b = 3, 4\n",
    "print(a, b)\n",
    "a, b = b, a\n",
    "print(a, b)"
   ]
  },
  {
   "cell_type": "markdown",
   "metadata": {},
   "source": [
    "### 43、举例说明zip（）函数用法\n",
    "\n",
    "zip()函数在运算时，会以一个或多个序列（可迭代对象）做为参数，返回一个元组的列表。同时将这些序列中并排的元素配对。\n",
    "\n",
    "zip()参数可以接受任何类型的序列，同时也可以有两个以上的参数;当传入参数的长度不同时，zip能自动以最短序列长度为准进行截取，获得元组。"
   ]
  },
  {
   "cell_type": "code",
   "execution_count": 164,
   "metadata": {},
   "outputs": [
    {
     "name": "stdout",
     "output_type": "stream",
     "text": [
      "[(1, 3), (2, 4)]\n"
     ]
    }
   ],
   "source": [
    "# 列表\n",
    "a = [1, 2]\n",
    "b = [3, 4]\n",
    "res = [i for i in zip(a,b)]\n",
    "print(res)"
   ]
  },
  {
   "cell_type": "code",
   "execution_count": 167,
   "metadata": {},
   "outputs": [
    {
     "name": "stdout",
     "output_type": "stream",
     "text": [
      "[(1, 3), (2, 4)]\n"
     ]
    }
   ],
   "source": [
    "# 元祖\n",
    "a = (1, 2)\n",
    "b = (3, 4)\n",
    "res = [i for i in zip(a,b)]\n",
    "print(res)"
   ]
  },
  {
   "cell_type": "code",
   "execution_count": 169,
   "metadata": {},
   "outputs": [
    {
     "name": "stdout",
     "output_type": "stream",
     "text": [
      "[('a', 'c'), ('b', 'd')]\n"
     ]
    }
   ],
   "source": [
    "# 字符串\n",
    "a = 'ab'\n",
    "b = 'cd'\n",
    "res = [i for i in zip(a,b)]\n",
    "print(res)"
   ]
  },
  {
   "cell_type": "markdown",
   "metadata": {},
   "source": [
    "### 44、a=\"张明 98分\"，用re.sub，将98替换为100"
   ]
  },
  {
   "cell_type": "code",
   "execution_count": 173,
   "metadata": {},
   "outputs": [
    {
     "name": "stdout",
     "output_type": "stream",
     "text": [
      "张明 100分\n"
     ]
    }
   ],
   "source": [
    "import re\n",
    "a=\"张明 98分\"\n",
    "ret = re.sub('\\d+', '100', a)\n",
    "print(ret)"
   ]
  },
  {
   "cell_type": "markdown",
   "metadata": {},
   "source": [
    "### 45、写5条常用sql语句\n",
    "\n",
    "* show databases; \n",
    "* show tables;\n",
    "* desc 表名;\n",
    "* select * from 表名;\n",
    "* delete from 表名 where id=5;\n",
    "* update students set gender=0,hometown=\"北京\" where id=5"
   ]
  },
  {
   "cell_type": "markdown",
   "metadata": {},
   "source": [
    "### 46、a=\"hello\"和b=\"你好\"编码成bytes类型"
   ]
  },
  {
   "cell_type": "code",
   "execution_count": 175,
   "metadata": {},
   "outputs": [
    {
     "name": "stdout",
     "output_type": "stream",
     "text": [
      "b'hello' b'\\xe5\\x93\\x88\\xe5\\x93\\x88'\n",
      "<class 'bytes'> <class 'bytes'>\n"
     ]
    }
   ],
   "source": [
    "a = b'hello'\n",
    "b = \"哈哈\".encode()\n",
    "print(a, b)\n",
    "print(type(a), type(b))"
   ]
  },
  {
   "cell_type": "markdown",
   "metadata": {},
   "source": [
    "### 47、[1,2,3]+[4,5,6]的结果是多少？\n",
    "#### 两个列表相加，等价于extend"
   ]
  },
  {
   "cell_type": "code",
   "execution_count": 177,
   "metadata": {},
   "outputs": [
    {
     "name": "stdout",
     "output_type": "stream",
     "text": [
      "[1, 2, 3, 4, 5, 6]\n"
     ]
    }
   ],
   "source": [
    "a = [1, 2, 3]\n",
    "b = [4, 5, 6]\n",
    "res = a + b\n",
    "print(res)"
   ]
  },
  {
   "cell_type": "markdown",
   "metadata": {},
   "source": [
    "### 48、提高python运行效率的方法\n",
    "1. 使用生成器，因为可以节约大量内存\n",
    "2. 循环代码优化，避免过多重复代码的执行\n",
    "3. 核心模块用Cython  PyPy等，提高效率\n",
    "4. 多进程、多线程、协程\n",
    "5. 多个if elif条件判断，可以把最有可能先发生的条件放到前面写，这样可以减少程序判断的次数，提高效率"
   ]
  },
  {
   "cell_type": "markdown",
   "metadata": {},
   "source": [
    "### 49、简述mysql和redis区别\n",
    "* redis： 内存型非关系数据库，数据保存在内存中，速度快\n",
    "* mysql：关系型数据库，数据保存在磁盘中，检索的话，会有一定的Io操作，访问速度相对慢"
   ]
  },
  {
   "cell_type": "markdown",
   "metadata": {},
   "source": [
    "### 50、遇到bug如何处理\n",
    "```\n",
    "1、细节上的错误，通过print（）打印，能执行到print（）说明一般上面的代码没有问题，分段检测程序是否有问题，如果是js的话可以alert或console.log\n",
    "2、如果涉及一些第三方框架，会去查官方文档或者一些技术博客。\n",
    "3、对于bug的管理与归类总结，一般测试将测试出的bug用teambin等bug管理工具进行记录，然后我们会一条一条进行修改，修改的过程也是理解业务逻辑和提高自己编程逻辑缜密性的方法，我也都会收藏做一些笔记记录。\n",
    "4、导包问题、城市定位多音字造成的显示错误问题\n",
    "```"
   ]
  },
  {
   "cell_type": "markdown",
   "metadata": {},
   "source": [
    "### 51、正则匹配，匹配日期2018-03-20\n",
    "```\n",
    "url='https://sycm.taobao.com/bda/tradinganaly/overview/get_summary.json?dateRange=2018-03-20%7C2018-03-20&dateType=recent1&device=1&token=ff25b109b&_=1521595613462'\n",
    "```\n",
    "* 仍有同学问正则，其实匹配并不难，提取一段特征语句，用（.*?）匹配即可"
   ]
  },
  {
   "cell_type": "code",
   "execution_count": 185,
   "metadata": {},
   "outputs": [
    {
     "name": "stdout",
     "output_type": "stream",
     "text": [
      "[('2018-03-2', '2018-03-20')]\n"
     ]
    }
   ],
   "source": [
    "url='https://sycm.taobao.com/bda/tradinganaly/overview/get_summary.json?dateRange=2018-03-20%7C2018-03-20&dateType=recent1&device=1&token=ff25b109b&_=1521595613462'\n",
    "import re\n",
    "result = re.findall(r'dateRange=(.*?)0%7C(.*?)&', url)\n",
    "print(result)"
   ]
  },
  {
   "cell_type": "markdown",
   "metadata": {},
   "source": [
    "### 52、list=[2,3,5,4,9,6]，从小到大排序，不许用sort，输出[2,3,4,5,6,9]\n",
    "```\n",
    "利用min()方法求出最小值，原列表删除最小值，新列表加入最小值，递归调用获取最小值的函数，反复操作\n",
    "```"
   ]
  },
  {
   "cell_type": "code",
   "execution_count": 187,
   "metadata": {},
   "outputs": [
    {
     "name": "stdout",
     "output_type": "stream",
     "text": [
      "[2, 3, 4, 5, 6, 9]\n"
     ]
    }
   ],
   "source": [
    "list_test = [2, 3, 5, 4, 9, 6]\n",
    "new_list = []\n",
    "def get_min(test):\n",
    "    a = min(test)\n",
    "    test.remove(a)\n",
    "    new_list.append(a)\n",
    "    if len(test) > 0:\n",
    "        get_min(test)\n",
    "    return new_list\n",
    "new_list = get_min(list_test)\n",
    "print(new_list)"
   ]
  },
  {
   "cell_type": "markdown",
   "metadata": {},
   "source": [
    "### 53、写一个单列模式\n",
    "因为创建对象时__new__方法执行，并且必须return 返回实例化出来的对象所cls.__instance是否存在，不存在的话就创建对象，存在的话就返回该对象，来保证只有一个实例对象存在（单列），打印ID，值一样，说明对象同一个"
   ]
  },
  {
   "cell_type": "code",
   "execution_count": 200,
   "metadata": {},
   "outputs": [
    {
     "name": "stdout",
     "output_type": "stream",
     "text": [
      "1857119209960\n",
      "1857119209960\n"
     ]
    }
   ],
   "source": [
    "# 实例化一个单例\n",
    "class Singleton(object):\n",
    "    _instance = None\n",
    "    \n",
    "    def __new__(cls, age, name):\n",
    "    # 如果属性_instance的值为None\n",
    "    # 那么就创建一个对象，并且赋值为这个对象的引用，保证下次调用这个方法时能够知道之前已经\n",
    "    #创建过对象了，这样就保证了只有一个对象\n",
    "        if not cls._instance:\n",
    "            cls._instance = object.__new__(cls)\n",
    "        return cls._instance\n",
    "\n",
    "a = Singleton(18, \"dongGes\")\n",
    "b = Singleton(6, \"dongGeasda\")\n",
    "\n",
    "print(id(a))\n",
    "print(id(b))"
   ]
  },
  {
   "cell_type": "markdown",
   "metadata": {},
   "source": [
    "### 54、保留两位小数\n",
    "题目本身只有a=\"%.03f\"%1.3335,让计算a的结果，为了扩充保留小数的思路，提供round方法（数值，保留位数）"
   ]
  },
  {
   "cell_type": "code",
   "execution_count": 209,
   "metadata": {},
   "outputs": [
    {
     "name": "stdout",
     "output_type": "stream",
     "text": [
      "1.333 <class 'str'>\n",
      "1.3\n",
      "1.333\n"
     ]
    }
   ],
   "source": [
    "a=\"%.03f\"%1.3335\n",
    "print(a, type(a))\n",
    "b = round(float(a), 1)\n",
    "print(b)\n",
    "b = round(float(a), 3)\n",
    "print(b)"
   ]
  },
  {
   "cell_type": "markdown",
   "metadata": {},
   "source": [
    "### 55、求三个方法打印结果\n",
    "fn(\"one\",1）直接将键值对传给字典；\n",
    "\n",
    "fn(\"two\",2)因为字典在内存中是可变数据类型，所以指向同一个地址，传了新的额参数后，会相当于给字典增加键值对\n",
    "\n",
    "fn(\"three\",3,{})因为传了一个新字典，所以不再是原先默认参数的字典"
   ]
  },
  {
   "cell_type": "code",
   "execution_count": 213,
   "metadata": {},
   "outputs": [
    {
     "name": "stdout",
     "output_type": "stream",
     "text": [
      "{'one': 1}\n",
      "{'one': 1, 'two': 2}\n",
      "{'three': 3}\n"
     ]
    }
   ],
   "source": [
    "def fn(k, v, dic={}):\n",
    "    dic[k] = v\n",
    "    print(dic)\n",
    "fn(\"one\", 1)\n",
    "fn(\"two\", 2)\n",
    "fn(\"three\", 3, {})"
   ]
  },
  {
   "cell_type": "markdown",
   "metadata": {},
   "source": [
    "### 56、列出常见的状态码和意义\n",
    "200 OK \n",
    "请求正常处理完毕\n",
    "\n",
    "204 No Content \n",
    "请求成功处理，没有实体的主体返回\n",
    "\n",
    "206 Partial Content \n",
    "GET范围请求已成功处理\n",
    "\n",
    "301 Moved Permanently \n",
    "永久重定向，资源已永久分配新URI\n",
    "\n",
    "302 Found \n",
    "临时重定向，资源已临时分配新URI\n",
    "\n",
    "303 See Other \n",
    "临时重定向，期望使用GET定向获取\n",
    "\n",
    "304 Not Modified \n",
    "发送的附带条件请求未满足\n",
    "\n",
    "307 Temporary Redirect \n",
    "临时重定向，POST不会变成GET\n",
    "\n",
    "400 Bad Request \n",
    "请求报文语法错误或参数错误\n",
    "\n",
    "401 Unauthorized \n",
    "需要通过HTTP认证，或认证失败\n",
    "\n",
    "403 Forbidden \n",
    "请求资源被拒绝\n",
    "\n",
    "404 Not Found \n",
    "无法找到请求资源（服务器无理由拒绝）\n",
    "\n",
    "500 Internal Server Error \n",
    "服务器故障或Web应用故障\n",
    "\n",
    "503 Service Unavailable \n",
    "服务器超负载或停机维护"
   ]
  },
  {
   "cell_type": "markdown",
   "metadata": {},
   "source": [
    "### 57、分别从前端、后端、数据库阐述web项目的性能优化\n",
    "* 前端优化：\n",
    "\n",
    "1、减少http请求、例如制作精灵图\n",
    "\n",
    "2、html和CSS放在页面上部，javascript放在页面下面，因为js加载比HTML和Css加载慢，所以要优先加载html和css,以防页面显示不全，性能差，也影响用户体验差\n",
    "\n",
    "* 后端优化：\n",
    "\n",
    "1、缓存存储读写次数高，变化少的数据，比如网站首页的信息、商品的信息等。应用程序读取数据时，一般是先从缓存中读取，如果读取不到或数据已失效，再访问磁盘数据库，并将数据再次写入缓存。\n",
    "\n",
    "2、异步方式，如果有耗时操作，可以采用异步，比如celery\n",
    "\n",
    "3、代码优化，避免循环和判断次数太多，如果多个if else判断，优先判断最有可能先发生的情况\n",
    "\n",
    "* 数据库优化：\n",
    "\n",
    "1、如有条件，数据可以存放于redis，读取速度快\n",
    "\n",
    "2、建立索引、外键等\n"
   ]
  },
  {
   "cell_type": "markdown",
   "metadata": {},
   "source": [
    "### 58、使用pop和del删除字典中的\"name\"字段，dic={\"name\":\"zs\",\"age\":18}"
   ]
  },
  {
   "cell_type": "code",
   "execution_count": 218,
   "metadata": {},
   "outputs": [
    {
     "name": "stdout",
     "output_type": "stream",
     "text": [
      "{'age': 18}\n",
      "{'name': 'zs'}\n"
     ]
    }
   ],
   "source": [
    "dic={\"name\":\"zs\",\"age\":18}\n",
    "dic.pop(\"name\")\n",
    "print(dic)\n",
    "dic={\"name\":\"zs\",\"age\":18}\n",
    "del dic[\"age\"]\n",
    "print(dic)"
   ]
  },
  {
   "cell_type": "markdown",
   "metadata": {},
   "source": [
    "### 59、列出常见MYSQL数据存储引擎\n",
    "* InnoDB：支持事务处理，支持外键，支持崩溃修复能力和并发控制。如果需要对事务的完整性要求比较高（比如银行），要求实现并发控制（比如售票），那选择InnoDB有很大的优势。如果需要频繁的更新、删除操作的数据库，也可以选择InnoDB，因为支持事务的提交（commit）和回滚（rollback）。 \n",
    "* MyISAM：插入数据快，空间和内存使用比较低。如果表主要是用于插入新记录和读出记录，那么选择MyISAM能实现处理高效率。如果应用的完整性、并发性要求比 较低，也可以使用。\n",
    "* MEMORY：所有的数据都在内存中，数据的处理速度快，但是安全性不高。如果需要很快的读写速度，对数据的安全性要求较低，可以选择MEMOEY。它对表的大小有要求，不能建立太大的表。所以，这类数据库只使用在相对较小的数据库表。"
   ]
  },
  {
   "cell_type": "markdown",
   "metadata": {},
   "source": [
    "### 60、计算代码运行结果，zip函数历史文章已经说了，得出[(\"a\",1),(\"b\",2)，(\"c\",3),(\"d\",4),(\"e\",5)]"
   ]
  },
  {
   "cell_type": "code",
   "execution_count": 227,
   "metadata": {},
   "outputs": [
    {
     "name": "stdout",
     "output_type": "stream",
     "text": [
      "A0 {'a': 1, 'b': 2, 'c': 3, 'd': 4, 'e': 5}\n",
      "[]\n",
      "[1, 2, 3, 4, 5]\n"
     ]
    },
    {
     "ename": "TypeError",
     "evalue": "'list' object is not callable",
     "traceback": [
      "\u001b[1;31m---------------------------------------------------------------------------\u001b[0m",
      "\u001b[1;31mTypeError\u001b[0m                                 Traceback (most recent call last)",
      "\u001b[1;32m<ipython-input-227-150f591ad251>\u001b[0m in \u001b[0;36m<module>\u001b[1;34m\u001b[0m\n\u001b[0;32m      7\u001b[0m \u001b[0mprint\u001b[0m\u001b[1;33m(\u001b[0m\u001b[0mA2\u001b[0m\u001b[1;33m)\u001b[0m\u001b[1;33m\u001b[0m\u001b[1;33m\u001b[0m\u001b[0m\n\u001b[0;32m      8\u001b[0m \u001b[0mprint\u001b[0m\u001b[1;33m(\u001b[0m\u001b[0mA3\u001b[0m\u001b[1;33m)\u001b[0m\u001b[1;33m\u001b[0m\u001b[1;33m\u001b[0m\u001b[0m\n\u001b[1;32m----> 9\u001b[1;33m \u001b[0mprint\u001b[0m\u001b[1;33m(\u001b[0m\u001b[0mlist\u001b[0m\u001b[1;33m(\u001b[0m\u001b[0mA\u001b[0m\u001b[1;33m)\u001b[0m\u001b[1;33m)\u001b[0m\u001b[1;33m\u001b[0m\u001b[1;33m\u001b[0m\u001b[0m\n\u001b[0m",
      "\u001b[1;31mTypeError\u001b[0m: 'list' object is not callable"
     ],
     "output_type": "error"
    }
   ],
   "source": [
    "A = zip(('a', 'b', 'c', 'd', 'e'),(1, 2, 3, 4, 5))\n",
    "A0 = dict(A)\n",
    "A1 = range(10)\n",
    "A2 = [i for i in A1 if i in A0]\n",
    "A3 = [A0[s] for s in A0]\n",
    "print(\"A0\", A0)\n",
    "print(A2)\n",
    "print(A3)\n",
    "print(list(A))"
   ]
  },
  {
   "cell_type": "code",
   "execution_count": 232,
   "metadata": {},
   "outputs": [
    {
     "name": "stdout",
     "output_type": "stream",
     "text": [
      "{'name': 'zs', 'age': 14}\n",
      "{'name': 'zs', 'age': 14}\n"
     ]
    }
   ],
   "source": [
    "# dict()创建字典新方法\n",
    "s = dict([['name', 'zs'], ['age', 14]])   # 列表\n",
    "print(s)\n",
    "s = dict([('name', 'zs'), ('age', 14)])   # 元组\n",
    "print(s)"
   ]
  },
  {
   "cell_type": "markdown",
   "metadata": {},
   "source": [
    "### 61、简述同源策略\n",
    "* 同源策略需要同时满足以下三点要求： \n",
    "\n",
    "1）协议相同 \n",
    "\n",
    "2）域名相同 \n",
    "\n",
    "3）端口相同 \n",
    "\n",
    " http:www.test.com与https:www.test.com 不同源——协议不同 \n",
    " \n",
    " http:www.test.com与http:www.admin.com 不同源——域名不同 \n",
    " \n",
    " http:www.test.com与http:www.test.com:8081 不同源——端口不同\n",
    " \n",
    " 只要不满足其中任意一个要求，就不符合同源策略，就会出现“跨域”"
   ]
  },
  {
   "cell_type": "markdown",
   "metadata": {},
   "source": [
    "### 62、简述cookie和session的区别\n",
    "1. session 在服务器端，cookie 在客户端（浏览器）\n",
    "2. session 的运行依赖 session id，而 session id 是存在 cookie 中的，也就是说，如果浏览器禁用了 cookie ，同时 session 也会失效，存储Session时，键与Cookie中的sessionid相同，值是开发人员设置的键值对信息，进行了base64编码，过期时间由开发人员设置\n",
    "3. cookie安全性比session差"
   ]
  },
  {
   "cell_type": "markdown",
   "metadata": {},
   "source": [
    "### 63、简述多线程、多进程\n",
    "进程：\n",
    "1. 操作系统进行资源分配和调度的基本单位，多个进程之间相互独立\n",
    "2. 稳定性好，如果一个进程崩溃，不影响其他进程，但是进程消耗资源大，开启的进程数量有限制\n",
    "\n",
    "线程：\n",
    "1. CPU进行资源分配和调度的基本单位，线程是进程的一部分，是比进程更小的能独立运行的基本单位，一个进程下的多个线程可以共享该进程的所有资源\n",
    "2. 如果IO操作密集，则可以多线程运行效率高，缺点是如果一个线程崩溃，都会造成进程的崩溃\n",
    "\n",
    "应用：\n",
    "\n",
    "IO密集的用多线程，在用户输入，sleep 时候，可以切换到其他线程执行，减少等待的时间\n",
    "CPU密集的用多进程，因为假如IO操作少，用多线程的话，因为线程共享一个全局解释器锁，当前运行的线程会霸占GIL，其他线程没有GIL，就不能充分利用多核CPU的优势"
   ]
  },
  {
   "cell_type": "markdown",
   "metadata": {},
   "source": [
    "### 64、简述any()和all()方法\n",
    "```\n",
    "any():只要迭代器中有一个元素为真就为真\n",
    "all():迭代器中所有的判断项返回都是真，结果才为真\n",
    "python中什么元素为假？\n",
    "答案：（0，空字符串，空列表、空字典、空元组、None, False）\n",
    "```"
   ]
  },
  {
   "cell_type": "markdown",
   "metadata": {},
   "source": [
    "### 65、IOError、AttributeError、ImportError、IndentationError、IndexError、KeyError、SyntaxError、NameError分别代表什么异常\n",
    "```\n",
    "IOError：输入输出异常\n",
    "AttributeError：试图访问一个对象没有的属性\n",
    "ImportError：无法引入模块或包，基本是路径问题\n",
    "IndentationError：语法错误，代码没有正确的对齐\n",
    "IndexError：下标索引超出序列边界\n",
    "KeyError:试图访问你字典里不存在的键\n",
    "SyntaxError:Python代码逻辑语法出错，不能执行\n",
    "NameError:使用一个还未赋予对象的变量\n",
    "```"
   ]
  },
  {
   "cell_type": "markdown",
   "metadata": {},
   "source": [
    "### 66、python中copy和deepcopy区别\n",
    "1. 复制不可变数据类型\n",
    "\n",
    "不管copy还是deepcopy,都是同一个地址,当前复制的值是不可变对象（数值，字符串，元组）时和=“赋值”的情况一样，对象的id值与浅复制原来的值相同。\n",
    "\n",
    "2. 复制的值是可变对象（列表和字典）\n",
    "\n",
    "浅拷贝copy有两种情况：\n",
    "\n",
    "第一种情况：复制的 对象中无 复杂 子对象，原来值的改变并不会影响浅复制的值，同时浅复制的值改变也并不会影响原来的值。原来值的id值与浅复制原来的值不同。\n",
    "\n",
    "第二种情况：复制的对象中有 复杂 子对象 （例如列表中的一个子元素是一个列表）， 改变原来的值 中的复杂子对象的值  ，会影响浅复制的值。\n",
    "深拷贝deepcopy：完全复制独立，包括内层列表和字典\n"
   ]
  },
  {
   "cell_type": "markdown",
   "metadata": {},
   "source": [
    "### 67、列出几种魔法方法并简要介绍用途\n",
    "```\n",
    "__init__:对象初始化方法\n",
    "__new__:创建对象时候执行的方法，单列模式会用到\n",
    "__str__:当使用print输出对象的时候，只要自己定义了__str__(self)方法，那么就会打印从在这个方法中return的数据\n",
    "__del__:删除对象执行的方法\n",
    "```"
   ]
  },
  {
   "cell_type": "markdown",
   "metadata": {},
   "source": [
    "### 68、命令行启动程序并传参\n",
    "C:Users y-wu.junyaDesktop>python 1.py 22 33\n",
    "命令行启动程序并传参，print(sys.argv)会输出什么数据？\n",
    "\n",
    "文件名和参数构成的列表\n",
    "\n",
    "['1.py'，'22’, '33']"
   ]
  },
  {
   "cell_type": "markdown",
   "metadata": {},
   "source": [
    "### 69、请将[i for i in range(3)]改成生成器\n",
    "`\n",
    "生成器是特殊的迭代器，\n",
    "1、列表表达式的【】改为（）即可变成生成器\n",
    "2、函数在返回值得时候出现yield就变成生成器，而不是函数了；\n",
    "`"
   ]
  },
  {
   "cell_type": "code",
   "execution_count": 236,
   "metadata": {},
   "outputs": [
    {
     "name": "stdout",
     "output_type": "stream",
     "text": [
      "<generator object <genexpr> at 0x000001B064EAA5E8>\n"
     ]
    },
    {
     "data": {
      "text/plain": [
       "generator"
      ]
     },
     "execution_count": 236,
     "metadata": {},
     "output_type": "execute_result"
    }
   ],
   "source": [
    "a = (i for i in range(3))\n",
    "print(a)\n",
    "type(a)"
   ]
  },
  {
   "cell_type": "markdown",
   "metadata": {},
   "source": [
    "### 70、a = \"  hehheh  \",去除收尾空格"
   ]
  },
  {
   "cell_type": "code",
   "execution_count": 240,
   "metadata": {},
   "outputs": [
    {
     "data": {
      "text/plain": [
       "'hehheh'"
      ]
     },
     "execution_count": 240,
     "metadata": {},
     "output_type": "execute_result"
    }
   ],
   "source": [
    "a = \" hehheh \"\n",
    "a.strip()\n"
   ]
  },
  {
   "cell_type": "markdown",
   "metadata": {},
   "source": [
    "### 71、举例sort和sorted对列表排序，list=[0,-1,3,-10,5,9]"
   ]
  },
  {
   "cell_type": "code",
   "execution_count": 243,
   "metadata": {},
   "outputs": [
    {
     "name": "stdout",
     "output_type": "stream",
     "text": [
      "list.sort在list_s 基础上修改，无返回值 [-10, -1, 0, 3, 5, 9]\n",
      "sorted有返回值，是新的list [0, -1, 3, -10, 5, 9]\n",
      "返回值 [-10, -1, 0, 3, 5, 9]\n"
     ]
    }
   ],
   "source": [
    "list_s = [0,-1,3,-10,5,9]\n",
    "list_s.sort(reverse=False)\n",
    "print('list.sort在list_s 基础上修改，无返回值', list_s)\n",
    "\n",
    "list_s = [0,-1,3,-10,5,9]\n",
    "res = sorted(list_s,reverse=False)\n",
    "print('sorted有返回值，是新的list',list_s)\n",
    "print('返回值', res)"
   ]
  },
  {
   "cell_type": "markdown",
   "metadata": {},
   "source": [
    "### 72、对list排序foo = [-5,8,0,4,9,-4,-20,-2,8,2,-4],使用lambda函数从小到大排序"
   ]
  },
  {
   "cell_type": "code",
   "execution_count": 246,
   "metadata": {},
   "outputs": [
    {
     "name": "stdout",
     "output_type": "stream",
     "text": [
      "[-20, -5, -4, -4, -2, 0, 2, 4, 8, 8, 9]\n"
     ]
    }
   ],
   "source": [
    "foo = [-5,8,0,4,9,-4,-20,-2,8,2,-4]\n",
    "a = sorted(foo, key=lambda x:x)\n",
    "# a = sorted(foo, reverse=False)\n",
    "print(a)"
   ]
  },
  {
   "cell_type": "markdown",
   "metadata": {},
   "source": [
    "### 73、使用lambda函数对list排序foo = [-5,8,0,4,9,-4,-20,-2,8,2,-4]，输出结果为\n",
    "[0,2,4,8,8,9,-2,-4,-4,-5,-20]，正数从小到大，负数从大到小\n",
    "（传两个条件，x<0和abs(x)）"
   ]
  },
  {
   "cell_type": "code",
   "execution_count": 250,
   "metadata": {},
   "outputs": [
    {
     "name": "stdout",
     "output_type": "stream",
     "text": [
      "[0, -2, -4, -4, -5, -20, 2, 4, 8, 8, 9]\n"
     ]
    }
   ],
   "source": [
    "foo = [-5,8,0,4,9,-4,-20,-2,8,2,-4]\n",
    "a = sorted(foo, key=lambda x:(x>0, abs(x)))\n",
    "print(a)"
   ]
  },
  {
   "cell_type": "markdown",
   "metadata": {},
   "source": [
    "### 74、列表嵌套字典的排序，分别根据年龄和姓名排序\n",
    "`\n",
    "foo = [{\"name\":\"zs\",\"age\":19},{\"name\":\"ll\",\"age\":54},\n",
    "        {\"name\":\"wa\",\"age\":17},{\"name\":\"df\",\"age\":23}]\n",
    "`"
   ]
  },
  {
   "cell_type": "code",
   "execution_count": 256,
   "metadata": {},
   "outputs": [
    {
     "name": "stdout",
     "output_type": "stream",
     "text": [
      "[{'name': 'wa', 'age': 17}, {'name': 'zs', 'age': 19}, {'name': 'df', 'age': 23}, {'name': 'll', 'age': 54}]\n",
      "[{'name': 'df', 'age': 23}, {'name': 'll', 'age': 54}, {'name': 'wa', 'age': 17}, {'name': 'zs', 'age': 19}]\n"
     ]
    }
   ],
   "source": [
    "foo = [{\"name\":\"zs\",\"age\":19},{\"name\":\"ll\",\"age\":54},\n",
    "        {\"name\":\"wa\",\"age\":17},{\"name\":\"df\",\"age\":23}]\n",
    "a = sorted(foo, key=lambda x:x['age'], reverse=False)  # 年龄从小到大\n",
    "print(a)\n",
    "b = sorted(foo, key=lambda x:x['name'], reverse=False)\n",
    "print(b)"
   ]
  },
  {
   "cell_type": "markdown",
   "metadata": {},
   "source": [
    "### 75、列表嵌套元组，分别按字母和数字排序"
   ]
  },
  {
   "cell_type": "code",
   "execution_count": 264,
   "metadata": {},
   "outputs": [
    {
     "name": "stdout",
     "output_type": "stream",
     "text": [
      "[('b', 8), ('f', 19)]\n",
      "[('b', 8), ('f', 19)]\n"
     ]
    }
   ],
   "source": [
    "foo = [('f', 19),('b',8)]\n",
    "a = sorted(foo, key=lambda x:x[1], reverse=False)  # 按照字符\n",
    "print(a)\n",
    "b = sorted(foo, key=lambda x:x[0])\n",
    "print(b)"
   ]
  },
  {
   "cell_type": "markdown",
   "metadata": {},
   "source": [
    "### 76、列表嵌套列表排序，年龄数字相同怎么办？"
   ]
  },
  {
   "cell_type": "markdown",
   "metadata": {},
   "source": [
    "### 79、列表推导式、字典推导式、生成器"
   ]
  },
  {
   "cell_type": "code",
   "execution_count": 272,
   "metadata": {},
   "outputs": [
    {
     "name": "stdout",
     "output_type": "stream",
     "text": [
      "列表推导式 [0, 1, 2, 3, 4, 5, 6, 7, 8, 9] <class 'list'>\n",
      "生成器 <generator object <genexpr> at 0x000001B064EAAE58>\n",
      "字典推导式 {'a': 5, 'b': 9, 'c': 8, 'd': 8}\n"
     ]
    }
   ],
   "source": [
    "import random\n",
    "td_list = [i for i in range(10)]\n",
    "print('列表推导式', td_list, type(td_list))\n",
    "\n",
    "ge_list = (i for i in range(10))\n",
    "print('生成器', ge_list)\n",
    "# for ge in ge_list:\n",
    "#     print(ge)\n",
    "\n",
    "dic = {k: random.randint(4, 9) for k in ['a', 'b', 'c', 'd']}\n",
    "print('字典推导式', dic)"
   ]
  },
  {
   "cell_type": "markdown",
   "metadata": {},
   "source": [
    "### 80、根据字符串长度排序，看排序是否灵活运用"
   ]
  },
  {
   "cell_type": "code",
   "execution_count": 276,
   "metadata": {},
   "outputs": [
    {
     "name": "stdout",
     "output_type": "stream",
     "text": [
      "['a', 'ab', 'abc', 'dsfg'] ['ab', 'abc', 'a', 'dsfg']\n",
      "['a', 'ab', 'abc', 'dsfg']\n"
     ]
    }
   ],
   "source": [
    "s = ['ab', 'abc', 'a', 'dsfg']\n",
    "b = sorted(s, key=lambda x:len(x))\n",
    "print(b, s)  # sorted 有返回值，不改变s本身\n",
    "\n",
    "s.sort(key=len)\n",
    "print(s)     # sort无返回值，在s自身修改\n"
   ]
  },
  {
   "cell_type": "markdown",
   "metadata": {},
   "source": [
    "### 81、举例说明SQL注入和解决办法\n",
    "当以字符串格式化书写方式的时候，如果用户输入的有;+SQL语句，后面的SQL语句会执行，比如例子中的SQL注入会删除数据库demo"
   ]
  },
  {
   "cell_type": "code",
   "execution_count": 280,
   "metadata": {},
   "outputs": [
    {
     "name": "stdout",
     "output_type": "stream",
     "text": [
      "正常SQL语句 select * from demo where name =\"zs\"\n",
      "SQL注入语句 select * from demo where name =\" zs;drop database demo\"\n"
     ]
    }
   ],
   "source": [
    "# SQL注入\n",
    "# 例如：一条SQL语句是：\n",
    "input_name = 'zs'\n",
    "sql = 'select * from demo where name =\"%s\"' % input_name\n",
    "print('正常SQL语句', sql)\n",
    "\n",
    "input_name = ' zs;drop database demo'\n",
    "sql = 'select * from demo where name =\"%s\"' % input_name\n",
    "print('SQL注入语句', sql)"
   ]
  },
  {
   "cell_type": "markdown",
   "metadata": {},
   "source": [
    "#### 解决方式：通过传参数方式解决SQL注入"
   ]
  },
  {
   "cell_type": "code",
   "execution_count": 282,
   "metadata": {},
   "outputs": [
    {
     "ename": "SyntaxError",
     "evalue": "invalid syntax (<ipython-input-282-129596e08acc>, line 2)",
     "traceback": [
      "\u001b[1;36m  File \u001b[1;32m\"<ipython-input-282-129596e08acc>\"\u001b[1;36m, line \u001b[1;32m2\u001b[0m\n\u001b[1;33m    cout csl.execute('select * from goods where name = %s', params)\u001b[0m\n\u001b[1;37m           ^\u001b[0m\n\u001b[1;31mSyntaxError\u001b[0m\u001b[1;31m:\u001b[0m invalid syntax\n"
     ],
     "output_type": "error"
    }
   ],
   "source": [
    "params = [input_name]\n",
    "cout csl.execute('select * from goods where name = %s', params)"
   ]
  },
  {
   "cell_type": "markdown",
   "metadata": {},
   "source": [
    "### 82、s=\"info:xiaoZhang 33 shandong\",用正则切分字符串输出['info', 'xiaoZhang', '33', 'shandong']"
   ]
  },
  {
   "cell_type": "code",
   "execution_count": 286,
   "metadata": {},
   "outputs": [
    {
     "name": "stdout",
     "output_type": "stream",
     "text": [
      "['info', 'xiaoZhang', '33', 'shandong']\n"
     ]
    }
   ],
   "source": [
    "s=\"info:xiaoZhang 33 shandong\"\n",
    "import re\n",
    "res = re.split(r':| ',s)\n",
    "print(res)"
   ]
  },
  {
   "cell_type": "markdown",
   "metadata": {},
   "source": [
    "### 83、正则匹配以163.com结尾的邮箱"
   ]
  },
  {
   "cell_type": "code",
   "execution_count": 323,
   "metadata": {},
   "outputs": [
    {
     "name": "stdout",
     "output_type": "stream",
     "text": [
      "ysdfs234234rt@163.com是符合规定的邮件地址，匹配结果是ysdfs234234rt@163.com\n",
      "ybs2342ddsd@14fssdf3.com不符合要求\n",
      "ybsd23423dsd@126.com不符合要求\n"
     ]
    }
   ],
   "source": [
    "import re\n",
    "email_list = ['ysdfs234234rt@163.com', 'ybs2342ddsd@14fssdf3.com', 'ybsd23423dsd@126.com']\n",
    "for email in email_list:\n",
    "    ret = re.match('[\\w]{4,20}@163\\.com$', email)\n",
    "    if ret:\n",
    "        print('{}是符合规定的邮件地址，匹配结果是{}'.format(email, ret.group()))\n",
    "    else:\n",
    "        print('{}不符合要求'.format(email))"
   ]
  },
  {
   "cell_type": "markdown",
   "metadata": {},
   "source": [
    "### 84、递归求和"
   ]
  },
  {
   "cell_type": "code",
   "execution_count": 329,
   "metadata": {},
   "outputs": [
    {
     "name": "stdout",
     "output_type": "stream",
     "text": [
      "5050\n"
     ]
    }
   ],
   "source": [
    "def get_sum(num):\n",
    "    if num >= 1:\n",
    "        res = num + get_sum(num-1)\n",
    "    else:\n",
    "        res = 0\n",
    "    return res\n",
    "res = get_sum(100)\n",
    "print(res)\n"
   ]
  },
  {
   "cell_type": "markdown",
   "metadata": {},
   "source": [
    "### 85、python字典和json字符串相互转化方法\n",
    "json.dumps()字典转json字符串，json.loads()json转字典"
   ]
  },
  {
   "cell_type": "code",
   "execution_count": 338,
   "metadata": {},
   "outputs": [
    {
     "name": "stdout",
     "output_type": "stream",
     "text": [
      "{\"name\": \"zs\"} <class 'str'>\n",
      "{'name': 'zs'} <class 'dict'>\n"
     ]
    }
   ],
   "source": [
    "import json\n",
    "dic = {'name': 'zs'}\n",
    "res = json.dumps(dic)  # 字典转json\n",
    "print(res, type(res))  \n",
    "\n",
    "ret = json.loads(res)  # json 转字典\n",
    "print(ret, type(ret))\n"
   ]
  },
  {
   "cell_type": "markdown",
   "metadata": {},
   "source": [
    "### 86、MyISAM 与 InnoDB 区别：\n",
    "```\n",
    "1、InnoDB 支持事务，MyISAM 不支持，这一点是非常之重要。事务是一种高\n",
    "级的处理方式，如在一些列增删改中只要哪个出错还可以回滚还原，而 MyISAM\n",
    "就不可以了；\n",
    "2、MyISAM 适合查询以及插入为主的应用，InnoDB 适合频繁修改以及涉及到\n",
    "安全性较高的应用；\n",
    "3、InnoDB 支持外键，MyISAM 不支持；\n",
    "4、对于自增长的字段，InnoDB 中必须包含只有该字段的索引，但是在 MyISAM\n",
    "表中可以和其他字段一起建立联合索引；\n",
    "5、清空整个表时，InnoDB 是一行一行的删除，效率非常慢。MyISAM 则会重\n",
    "建表；\n",
    "```"
   ]
  },
  {
   "cell_type": "markdown",
   "metadata": {},
   "source": [
    "### 87、统计字符串中某字符出现次数"
   ]
  },
  {
   "cell_type": "code",
   "execution_count": 346,
   "metadata": {},
   "outputs": [
    {
     "name": "stdout",
     "output_type": "stream",
     "text": [
      "4\n"
     ]
    }
   ],
   "source": [
    "str = '张三 哈哈 哈 张三 李四 李四 啊 啊 asb asb a a'\n",
    "res = str.count('a')\n",
    "print(res)"
   ]
  },
  {
   "cell_type": "markdown",
   "metadata": {},
   "source": [
    "### 88、字符串转化大小写"
   ]
  },
  {
   "cell_type": "code",
   "execution_count": 351,
   "metadata": {},
   "outputs": [
    {
     "name": "stdout",
     "output_type": "stream",
     "text": [
      "hhhhhh\n",
      "HHHHHH\n"
     ]
    }
   ],
   "source": [
    "str = 'HHHhhh'\n",
    "print(str.lower())\n",
    "print(str.upper())"
   ]
  },
  {
   "cell_type": "markdown",
   "metadata": {},
   "source": [
    "### 89、用两种方法去空格"
   ]
  },
  {
   "cell_type": "code",
   "execution_count": 355,
   "metadata": {},
   "outputs": [
    {
     "name": "stdout",
     "output_type": "stream",
     "text": [
      "helloworldhaha\n",
      "<class 'list'> ['hello', 'world', 'ha', 'ha']\n",
      "helloworldhaha\n"
     ]
    }
   ],
   "source": [
    "str = 'hello world ha ha'\n",
    "res = str.replace(' ','')\n",
    "print(res)\n",
    "\n",
    "list_str = str.split(' ')\n",
    "print(type(list_str), list_str)\n",
    "res = ''.join(list_str)\n",
    "print(res)"
   ]
  },
  {
   "cell_type": "markdown",
   "metadata": {},
   "source": [
    "### 90、正则匹配不是以4和7结尾的手机号"
   ]
  },
  {
   "cell_type": "code",
   "execution_count": 363,
   "metadata": {},
   "outputs": [
    {
     "name": "stdout",
     "output_type": "stream",
     "text": [
      "错误 3246567435324\n",
      "错误 2342436537\n",
      "错误 3467542\n",
      "错误 345655237\n",
      "错误 234534\n",
      "正确 18810911636\n"
     ]
    }
   ],
   "source": [
    "import re\n",
    "tels = ['3246567435324', '2342436537', '3467542', '345655237', '234534', '18810911636']\n",
    "for tel in tels:\n",
    "    ret = re.match('1\\d{9}[0-3,5-6,8-9]', tel)\n",
    "    if ret:\n",
    "        print('正确', ret.group())\n",
    "    else:\n",
    "        print('错误', tel)\n",
    "        \n"
   ]
  },
  {
   "cell_type": "markdown",
   "metadata": {},
   "source": [
    "### 91、简述python引用计数机制\n",
    "python垃圾回收主要以引用计数为主，标记-清除和分代清除为辅的机制，其中标记-清除和分代回收主要是为了处理循环引用的难题。\n",
    "#### 引用计数算法\n",
    "当有1个变量保存了对象的引用时，此对象的引用计数就会加1\n",
    "当使用del删除变量指向的对象时，如果对象的引用计数不为1，比如3，那么此时只会让这个引用计数减1，即变为2，当再次调用del时，变为1，如果再调用1次del，此时会真的把对象进行删除"
   ]
  },
  {
   "cell_type": "markdown",
   "metadata": {},
   "source": [
    "### 92、int(\"1.4\"),int(1.4)输出结果？\n",
    "int(\"1.4\")报错，int(1.4)输出1"
   ]
  },
  {
   "cell_type": "markdown",
   "metadata": {},
   "source": [
    "### 93、列举3条以上PEP8编码规范\n",
    "```\n",
    "1、顶级定义之间空两行，比如函数或者类定义。\n",
    "2、方法定义、类定义与第一个方法之间，都应该空一行\n",
    "3、三引号进行注释\n",
    "4、使用Pycharm、Eclipse一般使用4个空格来缩进代码\n",
    "```\n"
   ]
  },
  {
   "cell_type": "markdown",
   "metadata": {},
   "source": [
    "### 94、正则表达式匹配第一个URL\n",
    "findall结果无需加group(),search需要加group()提取"
   ]
  },
  {
   "cell_type": "markdown",
   "metadata": {},
   "source": [
    "### 95、正则匹配中文"
   ]
  },
  {
   "cell_type": "code",
   "execution_count": 367,
   "metadata": {},
   "outputs": [
    {
     "name": "stdout",
     "output_type": "stream",
     "text": [
      "['你好', '世界']\n"
     ]
    }
   ],
   "source": [
    "import re\n",
    "title = '你好， hello， 世界'\n",
    "pattern = re.compile(r'[\\u4e00-\\u9fa5]+')\n",
    "res = pattern.findall(title)\n",
    "print(res)"
   ]
  },
  {
   "cell_type": "markdown",
   "metadata": {},
   "source": [
    "### 96、简述乐观锁和悲观锁\n",
    "* 悲观锁, 就是很悲观，每次去拿数据的时候都认为别人会修改，所以每次在拿数据的时候都会上锁，这样别人想拿这个数据就会block直到它拿到锁。传统的关系型数据库里边就用到了很多这种锁机制，比如行锁，表锁等，读锁，写锁等，都是在做操作之前先上锁。\n",
    "\n",
    "\n",
    "* 乐观锁，就是很乐观，每次去拿数据的时候都认为别人不会修改，所以不会上锁，但是在更新的时候会判断一下在此期间别人有没有去更新这个数据，可以使用版本号等机制，乐观锁适用于多读的应用类型，这样可以提高吞吐量"
   ]
  },
  {
   "cell_type": "markdown",
   "metadata": {},
   "source": [
    "### 97、r、r+、rb、rb+文件打开模式区别\n",
    "\n",
    "![image.png](attachment:image.png)"
   ]
  },
  {
   "cell_type": "markdown",
   "metadata": {},
   "source": [
    "### 98、Linux命令重定向 > 和 >>\n",
    "```\n",
    "Linux 允许将命令执行结果 重定向到一个 文件\n",
    "将本应显示在终端上的内容 输出／追加 到指定文件中\n",
    "> 表示输出，会覆盖文件原有的内容\n",
    ">> 表示追加，会将内容追加到已有文件的末尾\n",
    "用法示例：\n",
    "\n",
    "将 echo 输出的信息保存到 1.txt 里echo Hello Python > 1.txt\n",
    "将 tree 输出的信息追加到 1.txt 文件的末尾tree >> 1.txt\n",
    "```"
   ]
  },
  {
   "cell_type": "markdown",
   "metadata": {},
   "source": [
    "### 99、正则表达式匹配出\n",
    "`<html><h1>www.itcast.cn</h1></html>`\n",
    "前面的<>和后面的<>是对应的，可以用此方法"
   ]
  },
  {
   "cell_type": "markdown",
   "metadata": {},
   "source": [
    "### 100、python传参数是传值还是传址？\n",
    "Python中函数参数是引用传递（注意不是值传递）。对于不可变类型（数值型、字符串、元组），因变量不能修改，所以运算不会影响到变量自身；而对于可变类型（列表字典）来说，函数体运算可能会更改传入的参数变量。"
   ]
  },
  {
   "cell_type": "code",
   "execution_count": 372,
   "metadata": {},
   "outputs": [
    {
     "name": "stdout",
     "output_type": "stream",
     "text": [
      "1\n",
      "1\n",
      "[1, 2]\n",
      "[1, 2, 1, 2]\n"
     ]
    }
   ],
   "source": [
    "def selfAdd(a):\n",
    "    a+=a\n",
    "\n",
    "a_int = 1\n",
    "print(a_int)\n",
    "selfAdd(a_int)\n",
    "print(a_int)\n",
    "\n",
    "a_list = [1, 2]\n",
    "print(a_list)\n",
    "selfAdd(a_list)\n",
    "print(a_list)"
   ]
  },
  {
   "cell_type": "markdown",
   "metadata": {},
   "source": [
    "### 101、求两个列表的交集、差集、并集\n",
    "\n",
    "intersection 交集\n",
    "\n",
    "union      并集\n",
    "\n",
    "difference   差集"
   ]
  },
  {
   "cell_type": "code",
   "execution_count": 375,
   "metadata": {},
   "outputs": [
    {
     "name": "stdout",
     "output_type": "stream",
     "text": [
      "[3, 4]\n"
     ]
    }
   ],
   "source": [
    "a = [1, 2, 3, 4]\n",
    "b = [4, 3, 5, 6]\n",
    "jj1 = [i for i in a if i in b]  # 在a中的i，并且在b中，就是交集\n",
    "# jj2 = list(set(a).intersection(set(b)))\n",
    "print(jj1)"
   ]
  },
  {
   "cell_type": "markdown",
   "metadata": {},
   "source": [
    "### 102、生成0-100的随机数\n",
    "random.random()生成0-1之间的随机小数，所以乘以100"
   ]
  },
  {
   "cell_type": "code",
   "execution_count": 383,
   "metadata": {},
   "outputs": [
    {
     "name": "stdout",
     "output_type": "stream",
     "text": [
      "0.6651055894804968\n",
      "84.2188893972259\n",
      "58\n",
      "12\n"
     ]
    }
   ],
   "source": [
    "import random\n",
    "res = random.random()  #随机小数\n",
    "res1 = 100*random.random()\n",
    "res2 = random.choice(range(0, 101)) # 随机整数\n",
    "res3 = random.randint(1, 100)  # 随机整数\n",
    "\n",
    "print(res)\n",
    "print(res1)\n",
    "print(res2)\n",
    "print(res3)"
   ]
  },
  {
   "cell_type": "markdown",
   "metadata": {},
   "source": [
    "### 103、lambda匿名函数好处\n",
    "\n",
    "精简代码，lambda省去了定义函数，map省去了写for循环过程"
   ]
  },
  {
   "cell_type": "markdown",
   "metadata": {},
   "source": [
    "### 104、常见的网络传输协议\n",
    "UDP、TCP、FTP、HTTP、SMTP等等"
   ]
  },
  {
   "cell_type": "markdown",
   "metadata": {},
   "source": [
    "### 105、单引号、双引号、三引号用法\n",
    "1、单引号和双引号没有什么区别，不过单引号不用按shift，打字稍微快一点。表示字符串的时候，单引号里面可以用双引号，而不用转义字符,反之亦然。\n",
    "\n",
    "'She said:\"Yes.\" ' or  \"She said: 'Yes.' \"\n",
    "\n",
    "2、但是如果直接用单引号扩住单引号，则需要转义，像这样：\n",
    "\n",
    " ' She said:'Yes.' '\n",
    " \n",
    "3、三引号可以直接书写多行，通常用于大段，大篇幅的字符串\n",
    "\n",
    "\n",
    "\"\"\"\n",
    "hello\n",
    "world\n",
    "\"\"\""
   ]
  },
  {
   "cell_type": "markdown",
   "metadata": {},
   "source": [
    "### 106、python垃圾回收机制\n",
    "\n",
    "python垃圾回收主要以引用计数为主，标记-清除和分代清除为辅的机制，其中标记-清除和分代回收主要是为了处理循环引用的难题。引用计数算法\n",
    "当有1个变量保存了对象的引用时，此对象的引用计数就会加1\n",
    "当使用del删除变量指向的对象时，如果对象的引用计数不为1，比如3，那么此时只会让这个引用计数减1，即变为2，当再次调用del时，变为1，如果再调用1次del，此时会真的把对象进行删除"
   ]
  },
  {
   "cell_type": "markdown",
   "metadata": {},
   "source": [
    "### 107、HTTP请求中get和post区别\n",
    "\n",
    "1、GET请求是通过URL直接请求数据，数据信息可以在URL中直接看到，比如浏览器访问；而POST请求是放在请求头中的，我们是无法直接看到的；\n",
    "\n",
    "2、GET提交有数据大小的限制，一般是不超过1024个字节，而这种说法也不完全准确，HTTP协议并没有设定URL字节长度的上限，而是浏览器做了些处理，所以长度依据浏览器的不同有所不同；POST请求在HTTP协议中也没有做说明，一般来说是没有设置限制的，但是实际上浏览器也有默认值。总体来说，少量的数据使用GET，大量的数据使用POST。\n",
    "\n",
    "3、GET请求因为数据参数是暴露在URL中的，所以安全性比较低，比如密码是不能暴露的，就不能使用GET请求；POST请求中，请求参数信息是放在请求头的，所以安全性较高，可以使用。在实际中，涉及到登录操作的时候，尽量使用HTTPS请求，安全性更好。"
   ]
  },
  {
   "cell_type": "markdown",
   "metadata": {},
   "source": [
    "### 108、python中读取Excel文件的方法\n",
    "应用数据分析库pandas"
   ]
  },
  {
   "cell_type": "markdown",
   "metadata": {},
   "source": [
    "### 109、简述多线程、多进程\n",
    "进程：\n",
    "\n",
    "1、操作系统进行资源分配和调度的基本单位，多个进程之间相互独立\n",
    "2、稳定性好，如果一个进程崩溃，不影响其他进程，但是进程消耗资源大，开启的进程数量有限制\n",
    "\n",
    "线程：\n",
    "\n",
    "1、CPU进行资源分配和调度的基本单位，线程是进程的一部分，是比进程更小的能独立运行的基本单位，一个进程下的多个线程可以共享该进程的所有资源\n",
    "2、如果IO操作密集，则可以多线程运行效率高，缺点是如果一个线程崩溃，都会造成进程的崩溃\n",
    "\n",
    "应用：\n",
    "\n",
    "IO密集的用多线程，在用户输入，sleep 时候，可以切换到其他线程执行，减少等待的时间\n",
    "CPU密集的用多进程，因为假如IO操作少，用多线程的话，因为线程共享一个全局解释器锁，当前运行的线程会霸占GIL，其他线程没有GIL，就不能充分利用多核CPU的优势"
   ]
  },
  {
   "cell_type": "markdown",
   "metadata": {},
   "source": [
    "### 110、python正则中search和match"
   ]
  }
 ],
 "metadata": {
  "kernelspec": {
   "display_name": "Python 3",
   "language": "python",
   "name": "python3"
  },
  "language_info": {
   "codemirror_mode": {
    "name": "ipython",
    "version": 3
   },
   "file_extension": ".py",
   "mimetype": "text/x-python",
   "name": "python",
   "nbconvert_exporter": "python",
   "pygments_lexer": "ipython3",
   "version": "3.7.1"
  }
 },
 "nbformat": 4,
 "nbformat_minor": 1
}
